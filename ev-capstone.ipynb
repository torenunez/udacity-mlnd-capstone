{
 "cells": [
  {
   "cell_type": "markdown",
   "metadata": {},
   "source": [
    "# Machine Learning Nanodegree\n",
    "## Capstone Project: Electric Vehicle Detection "
   ]
  },
  {
   "cell_type": "markdown",
   "metadata": {},
   "source": [
    "### Setup"
   ]
  },
  {
   "cell_type": "code",
   "execution_count": 1,
   "metadata": {
    "collapsed": true
   },
   "outputs": [],
   "source": [
    "# Import libraries necessary for this project\n",
    "import numpy as np\n",
    "import pandas as pd\n",
    "from IPython.display import display \n",
    "\n",
    "# Pretty display for notebooks\n",
    "%matplotlib inline"
   ]
  },
  {
   "cell_type": "markdown",
   "metadata": {},
   "source": [
    "### Data Exploration"
   ]
  },
  {
   "cell_type": "code",
   "execution_count": 2,
   "metadata": {},
   "outputs": [
    {
     "data": {
      "text/html": [
       "<div>\n",
       "<style>\n",
       "    .dataframe thead tr:only-child th {\n",
       "        text-align: right;\n",
       "    }\n",
       "\n",
       "    .dataframe thead th {\n",
       "        text-align: left;\n",
       "    }\n",
       "\n",
       "    .dataframe tbody tr th {\n",
       "        vertical-align: top;\n",
       "    }\n",
       "</style>\n",
       "<table border=\"1\" class=\"dataframe\">\n",
       "  <thead>\n",
       "    <tr style=\"text-align: right;\">\n",
       "      <th></th>\n",
       "      <th>House ID</th>\n",
       "      <th>Interval_1</th>\n",
       "      <th>Interval_2</th>\n",
       "      <th>Interval_3</th>\n",
       "      <th>Interval_4</th>\n",
       "      <th>Interval_5</th>\n",
       "      <th>Interval_6</th>\n",
       "      <th>Interval_7</th>\n",
       "      <th>Interval_8</th>\n",
       "      <th>Interval_9</th>\n",
       "      <th>...</th>\n",
       "      <th>Interval_2871</th>\n",
       "      <th>Interval_2872</th>\n",
       "      <th>Interval_2873</th>\n",
       "      <th>Interval_2874</th>\n",
       "      <th>Interval_2875</th>\n",
       "      <th>Interval_2876</th>\n",
       "      <th>Interval_2877</th>\n",
       "      <th>Interval_2878</th>\n",
       "      <th>Interval_2879</th>\n",
       "      <th>Interval_2880</th>\n",
       "    </tr>\n",
       "  </thead>\n",
       "  <tbody>\n",
       "    <tr>\n",
       "      <th>0</th>\n",
       "      <td>11655099</td>\n",
       "      <td>0.950</td>\n",
       "      <td>0.826</td>\n",
       "      <td>0.361</td>\n",
       "      <td>0.238</td>\n",
       "      <td>0.342</td>\n",
       "      <td>0.233000</td>\n",
       "      <td>0.351000</td>\n",
       "      <td>0.194000</td>\n",
       "      <td>0.292000</td>\n",
       "      <td>...</td>\n",
       "      <td>0.664</td>\n",
       "      <td>0.783</td>\n",
       "      <td>0.601</td>\n",
       "      <td>0.639</td>\n",
       "      <td>0.417</td>\n",
       "      <td>0.439</td>\n",
       "      <td>0.226</td>\n",
       "      <td>0.190</td>\n",
       "      <td>0.710</td>\n",
       "      <td>0.728</td>\n",
       "    </tr>\n",
       "    <tr>\n",
       "      <th>1</th>\n",
       "      <td>11633257</td>\n",
       "      <td>0.353</td>\n",
       "      <td>0.327</td>\n",
       "      <td>0.358</td>\n",
       "      <td>0.292</td>\n",
       "      <td>0.285</td>\n",
       "      <td>0.304000</td>\n",
       "      <td>0.361000</td>\n",
       "      <td>0.342000</td>\n",
       "      <td>0.355000</td>\n",
       "      <td>...</td>\n",
       "      <td>0.536</td>\n",
       "      <td>0.558</td>\n",
       "      <td>0.622</td>\n",
       "      <td>0.634</td>\n",
       "      <td>0.513</td>\n",
       "      <td>0.421</td>\n",
       "      <td>0.273</td>\n",
       "      <td>0.296</td>\n",
       "      <td>0.291</td>\n",
       "      <td>0.289</td>\n",
       "    </tr>\n",
       "    <tr>\n",
       "      <th>2</th>\n",
       "      <td>11651552</td>\n",
       "      <td>0.150</td>\n",
       "      <td>0.181</td>\n",
       "      <td>0.150</td>\n",
       "      <td>0.150</td>\n",
       "      <td>0.131</td>\n",
       "      <td>0.125000</td>\n",
       "      <td>0.088000</td>\n",
       "      <td>0.106000</td>\n",
       "      <td>0.094000</td>\n",
       "      <td>...</td>\n",
       "      <td>2.125</td>\n",
       "      <td>0.881</td>\n",
       "      <td>0.481</td>\n",
       "      <td>1.194</td>\n",
       "      <td>0.138</td>\n",
       "      <td>0.119</td>\n",
       "      <td>0.038</td>\n",
       "      <td>0.088</td>\n",
       "      <td>0.056</td>\n",
       "      <td>0.113</td>\n",
       "    </tr>\n",
       "    <tr>\n",
       "      <th>3</th>\n",
       "      <td>11636092</td>\n",
       "      <td>2.088</td>\n",
       "      <td>2.075</td>\n",
       "      <td>2.121</td>\n",
       "      <td>2.098</td>\n",
       "      <td>2.046</td>\n",
       "      <td>2.081000</td>\n",
       "      <td>1.847000</td>\n",
       "      <td>0.420000</td>\n",
       "      <td>0.399000</td>\n",
       "      <td>...</td>\n",
       "      <td>0.620</td>\n",
       "      <td>0.487</td>\n",
       "      <td>0.563</td>\n",
       "      <td>0.419</td>\n",
       "      <td>0.379</td>\n",
       "      <td>0.359</td>\n",
       "      <td>0.347</td>\n",
       "      <td>0.325</td>\n",
       "      <td>0.330</td>\n",
       "      <td>0.340</td>\n",
       "    </tr>\n",
       "    <tr>\n",
       "      <th>4</th>\n",
       "      <td>11647239</td>\n",
       "      <td>1.416</td>\n",
       "      <td>1.250</td>\n",
       "      <td>1.270</td>\n",
       "      <td>1.258</td>\n",
       "      <td>1.239</td>\n",
       "      <td>1.753105</td>\n",
       "      <td>4.609256</td>\n",
       "      <td>4.619256</td>\n",
       "      <td>4.075151</td>\n",
       "      <td>...</td>\n",
       "      <td>1.596</td>\n",
       "      <td>1.667</td>\n",
       "      <td>1.569</td>\n",
       "      <td>1.664</td>\n",
       "      <td>1.580</td>\n",
       "      <td>1.635</td>\n",
       "      <td>1.568</td>\n",
       "      <td>1.565</td>\n",
       "      <td>1.575</td>\n",
       "      <td>1.571</td>\n",
       "    </tr>\n",
       "  </tbody>\n",
       "</table>\n",
       "<p>5 rows × 2881 columns</p>\n",
       "</div>"
      ],
      "text/plain": [
       "   House ID  Interval_1  Interval_2  Interval_3  Interval_4  Interval_5  \\\n",
       "0  11655099       0.950       0.826       0.361       0.238       0.342   \n",
       "1  11633257       0.353       0.327       0.358       0.292       0.285   \n",
       "2  11651552       0.150       0.181       0.150       0.150       0.131   \n",
       "3  11636092       2.088       2.075       2.121       2.098       2.046   \n",
       "4  11647239       1.416       1.250       1.270       1.258       1.239   \n",
       "\n",
       "   Interval_6  Interval_7  Interval_8  Interval_9      ...        \\\n",
       "0    0.233000    0.351000    0.194000    0.292000      ...         \n",
       "1    0.304000    0.361000    0.342000    0.355000      ...         \n",
       "2    0.125000    0.088000    0.106000    0.094000      ...         \n",
       "3    2.081000    1.847000    0.420000    0.399000      ...         \n",
       "4    1.753105    4.609256    4.619256    4.075151      ...         \n",
       "\n",
       "   Interval_2871  Interval_2872  Interval_2873  Interval_2874  Interval_2875  \\\n",
       "0          0.664          0.783          0.601          0.639          0.417   \n",
       "1          0.536          0.558          0.622          0.634          0.513   \n",
       "2          2.125          0.881          0.481          1.194          0.138   \n",
       "3          0.620          0.487          0.563          0.419          0.379   \n",
       "4          1.596          1.667          1.569          1.664          1.580   \n",
       "\n",
       "   Interval_2876  Interval_2877  Interval_2878  Interval_2879  Interval_2880  \n",
       "0          0.439          0.226          0.190          0.710          0.728  \n",
       "1          0.421          0.273          0.296          0.291          0.289  \n",
       "2          0.119          0.038          0.088          0.056          0.113  \n",
       "3          0.359          0.347          0.325          0.330          0.340  \n",
       "4          1.635          1.568          1.565          1.575          1.571  \n",
       "\n",
       "[5 rows x 2881 columns]"
      ]
     },
     "execution_count": 2,
     "metadata": {},
     "output_type": "execute_result"
    }
   ],
   "source": [
    "ev_train = pd.read_csv('EV_train.csv')\n",
    "ev_train.head()"
   ]
  },
  {
   "cell_type": "code",
   "execution_count": 3,
   "metadata": {},
   "outputs": [
    {
     "data": {
      "text/html": [
       "<div>\n",
       "<style>\n",
       "    .dataframe thead tr:only-child th {\n",
       "        text-align: right;\n",
       "    }\n",
       "\n",
       "    .dataframe thead th {\n",
       "        text-align: left;\n",
       "    }\n",
       "\n",
       "    .dataframe tbody tr th {\n",
       "        vertical-align: top;\n",
       "    }\n",
       "</style>\n",
       "<table border=\"1\" class=\"dataframe\">\n",
       "  <thead>\n",
       "    <tr style=\"text-align: right;\">\n",
       "      <th></th>\n",
       "      <th>House ID</th>\n",
       "      <th>Interval_1</th>\n",
       "      <th>Interval_2</th>\n",
       "      <th>Interval_3</th>\n",
       "      <th>Interval_4</th>\n",
       "      <th>Interval_5</th>\n",
       "      <th>Interval_6</th>\n",
       "      <th>Interval_7</th>\n",
       "      <th>Interval_8</th>\n",
       "      <th>Interval_9</th>\n",
       "      <th>...</th>\n",
       "      <th>Interval_2871</th>\n",
       "      <th>Interval_2872</th>\n",
       "      <th>Interval_2873</th>\n",
       "      <th>Interval_2874</th>\n",
       "      <th>Interval_2875</th>\n",
       "      <th>Interval_2876</th>\n",
       "      <th>Interval_2877</th>\n",
       "      <th>Interval_2878</th>\n",
       "      <th>Interval_2879</th>\n",
       "      <th>Interval_2880</th>\n",
       "    </tr>\n",
       "  </thead>\n",
       "  <tbody>\n",
       "    <tr>\n",
       "      <th>0</th>\n",
       "      <td>11655099</td>\n",
       "      <td>0</td>\n",
       "      <td>0</td>\n",
       "      <td>0</td>\n",
       "      <td>0</td>\n",
       "      <td>0</td>\n",
       "      <td>0</td>\n",
       "      <td>0</td>\n",
       "      <td>0</td>\n",
       "      <td>0</td>\n",
       "      <td>...</td>\n",
       "      <td>0</td>\n",
       "      <td>0</td>\n",
       "      <td>0</td>\n",
       "      <td>0</td>\n",
       "      <td>0</td>\n",
       "      <td>0</td>\n",
       "      <td>0</td>\n",
       "      <td>0</td>\n",
       "      <td>0</td>\n",
       "      <td>0</td>\n",
       "    </tr>\n",
       "    <tr>\n",
       "      <th>1</th>\n",
       "      <td>11633257</td>\n",
       "      <td>0</td>\n",
       "      <td>0</td>\n",
       "      <td>0</td>\n",
       "      <td>0</td>\n",
       "      <td>0</td>\n",
       "      <td>0</td>\n",
       "      <td>0</td>\n",
       "      <td>0</td>\n",
       "      <td>0</td>\n",
       "      <td>...</td>\n",
       "      <td>0</td>\n",
       "      <td>0</td>\n",
       "      <td>0</td>\n",
       "      <td>0</td>\n",
       "      <td>0</td>\n",
       "      <td>0</td>\n",
       "      <td>0</td>\n",
       "      <td>0</td>\n",
       "      <td>0</td>\n",
       "      <td>0</td>\n",
       "    </tr>\n",
       "    <tr>\n",
       "      <th>2</th>\n",
       "      <td>11651552</td>\n",
       "      <td>0</td>\n",
       "      <td>0</td>\n",
       "      <td>0</td>\n",
       "      <td>0</td>\n",
       "      <td>0</td>\n",
       "      <td>0</td>\n",
       "      <td>0</td>\n",
       "      <td>0</td>\n",
       "      <td>0</td>\n",
       "      <td>...</td>\n",
       "      <td>0</td>\n",
       "      <td>0</td>\n",
       "      <td>0</td>\n",
       "      <td>0</td>\n",
       "      <td>0</td>\n",
       "      <td>0</td>\n",
       "      <td>0</td>\n",
       "      <td>0</td>\n",
       "      <td>0</td>\n",
       "      <td>0</td>\n",
       "    </tr>\n",
       "    <tr>\n",
       "      <th>3</th>\n",
       "      <td>11636092</td>\n",
       "      <td>0</td>\n",
       "      <td>0</td>\n",
       "      <td>0</td>\n",
       "      <td>0</td>\n",
       "      <td>0</td>\n",
       "      <td>0</td>\n",
       "      <td>0</td>\n",
       "      <td>0</td>\n",
       "      <td>0</td>\n",
       "      <td>...</td>\n",
       "      <td>0</td>\n",
       "      <td>0</td>\n",
       "      <td>0</td>\n",
       "      <td>0</td>\n",
       "      <td>0</td>\n",
       "      <td>0</td>\n",
       "      <td>0</td>\n",
       "      <td>0</td>\n",
       "      <td>0</td>\n",
       "      <td>0</td>\n",
       "    </tr>\n",
       "    <tr>\n",
       "      <th>4</th>\n",
       "      <td>11647239</td>\n",
       "      <td>0</td>\n",
       "      <td>0</td>\n",
       "      <td>0</td>\n",
       "      <td>0</td>\n",
       "      <td>0</td>\n",
       "      <td>1</td>\n",
       "      <td>1</td>\n",
       "      <td>1</td>\n",
       "      <td>1</td>\n",
       "      <td>...</td>\n",
       "      <td>0</td>\n",
       "      <td>0</td>\n",
       "      <td>0</td>\n",
       "      <td>0</td>\n",
       "      <td>0</td>\n",
       "      <td>0</td>\n",
       "      <td>0</td>\n",
       "      <td>0</td>\n",
       "      <td>0</td>\n",
       "      <td>0</td>\n",
       "    </tr>\n",
       "  </tbody>\n",
       "</table>\n",
       "<p>5 rows × 2881 columns</p>\n",
       "</div>"
      ],
      "text/plain": [
       "   House ID  Interval_1  Interval_2  Interval_3  Interval_4  Interval_5  \\\n",
       "0  11655099           0           0           0           0           0   \n",
       "1  11633257           0           0           0           0           0   \n",
       "2  11651552           0           0           0           0           0   \n",
       "3  11636092           0           0           0           0           0   \n",
       "4  11647239           0           0           0           0           0   \n",
       "\n",
       "   Interval_6  Interval_7  Interval_8  Interval_9      ...        \\\n",
       "0           0           0           0           0      ...         \n",
       "1           0           0           0           0      ...         \n",
       "2           0           0           0           0      ...         \n",
       "3           0           0           0           0      ...         \n",
       "4           1           1           1           1      ...         \n",
       "\n",
       "   Interval_2871  Interval_2872  Interval_2873  Interval_2874  Interval_2875  \\\n",
       "0              0              0              0              0              0   \n",
       "1              0              0              0              0              0   \n",
       "2              0              0              0              0              0   \n",
       "3              0              0              0              0              0   \n",
       "4              0              0              0              0              0   \n",
       "\n",
       "   Interval_2876  Interval_2877  Interval_2878  Interval_2879  Interval_2880  \n",
       "0              0              0              0              0              0  \n",
       "1              0              0              0              0              0  \n",
       "2              0              0              0              0              0  \n",
       "3              0              0              0              0              0  \n",
       "4              0              0              0              0              0  \n",
       "\n",
       "[5 rows x 2881 columns]"
      ]
     },
     "execution_count": 3,
     "metadata": {},
     "output_type": "execute_result"
    }
   ],
   "source": [
    "ev_train_labels = pd.read_csv('EV_train_labels.csv')\n",
    "ev_train_labels.head()"
   ]
  },
  {
   "cell_type": "code",
   "execution_count": 4,
   "metadata": {
    "collapsed": true
   },
   "outputs": [],
   "source": [
    "ev_prevalence = ev_train_labels.iloc[:,1:len(ev_train_labels.columns)].sum(axis=1)"
   ]
  },
  {
   "cell_type": "code",
   "execution_count": 5,
   "metadata": {},
   "outputs": [
    {
     "data": {
      "text/plain": [
       "485"
      ]
     },
     "execution_count": 5,
     "metadata": {},
     "output_type": "execute_result"
    }
   ],
   "source": [
    "sum(ev_prevalence > 0)"
   ]
  },
  {
   "cell_type": "code",
   "execution_count": 6,
   "metadata": {},
   "outputs": [
    {
     "data": {
      "text/plain": [
       "<matplotlib.axes._subplots.AxesSubplot at 0x11705ce48>"
      ]
     },
     "execution_count": 6,
     "metadata": {},
     "output_type": "execute_result"
    },
    {
     "data": {
      "image/png": "[encoded data removed]",
      "text/plain": [
       "<matplotlib.figure.Figure at 0x11705cef0>"
      ]
     },
     "metadata": {},
     "output_type": "display_data"
    }
   ],
   "source": [
    "ev_prevalence.hist()"
   ]
  },
  {
   "cell_type": "code",
   "execution_count": 7,
   "metadata": {},
   "outputs": [
    {
     "data": {
      "text/plain": [
       "(1590, 2881)"
      ]
     },
     "execution_count": 7,
     "metadata": {},
     "output_type": "execute_result"
    }
   ],
   "source": [
    "ev_train.shape"
   ]
  },
  {
   "cell_type": "code",
   "execution_count": 8,
   "metadata": {},
   "outputs": [
    {
     "data": {
      "text/plain": [
       "0.3050314465408805"
      ]
     },
     "execution_count": 8,
     "metadata": {},
     "output_type": "execute_result"
    }
   ],
   "source": [
    "485/1590"
   ]
  },
  {
   "cell_type": "code",
   "execution_count": 9,
   "metadata": {},
   "outputs": [
    {
     "data": {
      "text/plain": [
       "(1590, 2881)"
      ]
     },
     "execution_count": 9,
     "metadata": {},
     "output_type": "execute_result"
    }
   ],
   "source": [
    "ev_train_labels.shape"
   ]
  },
  {
   "cell_type": "code",
   "execution_count": 10,
   "metadata": {},
   "outputs": [
    {
     "data": {
      "text/plain": [
       "0    26.647000\n",
       "1    27.632000\n",
       "2    36.282000\n",
       "3    67.616000\n",
       "4    72.476768\n",
       "5    39.322000\n",
       "dtype: float64"
      ]
     },
     "execution_count": 10,
     "metadata": {},
     "output_type": "execute_result"
    }
   ],
   "source": [
    "ev_train.iloc[:6,1:49].sum(axis=1)"
   ]
  },
  {
   "cell_type": "code",
   "execution_count": 11,
   "metadata": {},
   "outputs": [
    {
     "data": {
      "text/plain": [
       "30.0"
      ]
     },
     "execution_count": 11,
     "metadata": {},
     "output_type": "execute_result"
    }
   ],
   "source": [
    "900/30"
   ]
  },
  {
   "cell_type": "code",
   "execution_count": 12,
   "metadata": {},
   "outputs": [
    {
     "data": {
      "text/plain": [
       "0      0\n",
       "1      0\n",
       "2      0\n",
       "3      0\n",
       "4    117\n",
       "dtype: int64"
      ]
     },
     "execution_count": 12,
     "metadata": {},
     "output_type": "execute_result"
    }
   ],
   "source": [
    "ev_prevalence.head()"
   ]
  },
  {
   "cell_type": "code",
   "execution_count": 22,
   "metadata": {},
   "outputs": [
    {
     "data": {
      "text/plain": [
       "0.076539232531500578"
      ]
     },
     "execution_count": 22,
     "metadata": {},
     "output_type": "execute_result"
    }
   ],
   "source": [
    "np.mean(ev_prevalence[ev_prevalence > 0]/2880)"
   ]
  }
 ],
 "metadata": {
  "kernelspec": {
   "display_name": "EV Capstone Project",
   "language": "python",
   "name": "ev-capstone"
  },
  "language_info": {
   "codemirror_mode": {
    "name": "ipython",
    "version": 3
   },
   "file_extension": ".py",
   "mimetype": "text/x-python",
   "name": "python",
   "nbconvert_exporter": "python",
   "pygments_lexer": "ipython3",
   "version": "3.6.2"
  }
 },
 "nbformat": 4,
 "nbformat_minor": 2
}
