{
 "cells": [
  {
   "cell_type": "markdown",
   "metadata": {},
   "source": [
    "# Machine Learning Nanodegree\n",
    "## Capstone Project: Electric Vehicle Detection "
   ]
  },
  {
   "cell_type": "markdown",
   "metadata": {},
   "source": [
    "# Introduction"
   ]
  },
  {
   "cell_type": "markdown",
   "metadata": {},
   "source": [
    "### Setup"
   ]
  },
  {
   "cell_type": "code",
   "execution_count": 1,
   "metadata": {
    "collapsed": true
   },
   "outputs": [],
   "source": [
    "# Import libraries necessary for this project\n",
    "import numpy as np\n",
    "import pandas as pd\n",
    "from IPython.display import display, Image \n",
    "from sklearn.cluster import KMeans\n",
    "from sklearn.linear_model import LogisticRegression\n",
    "from sklearn.svm import SVC\n",
    "from sklearn.ensemble import GradientBoostingClassifier\n",
    "from sklearn.neural_network import MLPClassifier\n",
    "from sklearn.metrics import f1_score, confusion_matrix\n",
    "from sklearn.neighbors import KNeighborsClassifier\n",
    "\n",
    "\n",
    "# Pretty display for notebooks\n",
    "%matplotlib inline"
   ]
  },
  {
   "cell_type": "markdown",
   "metadata": {},
   "source": [
    "# Data Clean Up"
   ]
  },
  {
   "cell_type": "markdown",
   "metadata": {},
   "source": [
    "### Import"
   ]
  },
  {
   "cell_type": "code",
   "execution_count": 2,
   "metadata": {
    "collapsed": true
   },
   "outputs": [],
   "source": [
    "ev_train_raw = pd.read_csv('EV_train.csv')\n",
    "ev_train_labels_raw = pd.read_csv('EV_train_labels.csv')"
   ]
  },
  {
   "cell_type": "code",
   "execution_count": 3,
   "metadata": {},
   "outputs": [
    {
     "name": "stdout",
     "output_type": "stream",
     "text": [
      "(1590, 2881)\n",
      "(1590, 2881)\n"
     ]
    },
    {
     "data": {
      "text/html": [
       "<div>\n",
       "<style>\n",
       "    .dataframe thead tr:only-child th {\n",
       "        text-align: right;\n",
       "    }\n",
       "\n",
       "    .dataframe thead th {\n",
       "        text-align: left;\n",
       "    }\n",
       "\n",
       "    .dataframe tbody tr th {\n",
       "        vertical-align: top;\n",
       "    }\n",
       "</style>\n",
       "<table border=\"1\" class=\"dataframe\">\n",
       "  <thead>\n",
       "    <tr style=\"text-align: right;\">\n",
       "      <th></th>\n",
       "      <th>House ID</th>\n",
       "      <th>Interval_1</th>\n",
       "      <th>Interval_2</th>\n",
       "      <th>Interval_3</th>\n",
       "      <th>Interval_4</th>\n",
       "      <th>Interval_5</th>\n",
       "      <th>Interval_6</th>\n",
       "      <th>Interval_7</th>\n",
       "      <th>Interval_8</th>\n",
       "      <th>Interval_9</th>\n",
       "      <th>...</th>\n",
       "      <th>Interval_2871</th>\n",
       "      <th>Interval_2872</th>\n",
       "      <th>Interval_2873</th>\n",
       "      <th>Interval_2874</th>\n",
       "      <th>Interval_2875</th>\n",
       "      <th>Interval_2876</th>\n",
       "      <th>Interval_2877</th>\n",
       "      <th>Interval_2878</th>\n",
       "      <th>Interval_2879</th>\n",
       "      <th>Interval_2880</th>\n",
       "    </tr>\n",
       "  </thead>\n",
       "  <tbody>\n",
       "    <tr>\n",
       "      <th>0</th>\n",
       "      <td>11655099</td>\n",
       "      <td>0.950</td>\n",
       "      <td>0.826</td>\n",
       "      <td>0.361</td>\n",
       "      <td>0.238</td>\n",
       "      <td>0.342</td>\n",
       "      <td>0.233000</td>\n",
       "      <td>0.351000</td>\n",
       "      <td>0.194000</td>\n",
       "      <td>0.292000</td>\n",
       "      <td>...</td>\n",
       "      <td>0.664</td>\n",
       "      <td>0.783</td>\n",
       "      <td>0.601</td>\n",
       "      <td>0.639</td>\n",
       "      <td>0.417</td>\n",
       "      <td>0.439</td>\n",
       "      <td>0.226</td>\n",
       "      <td>0.190</td>\n",
       "      <td>0.710</td>\n",
       "      <td>0.728</td>\n",
       "    </tr>\n",
       "    <tr>\n",
       "      <th>1</th>\n",
       "      <td>11633257</td>\n",
       "      <td>0.353</td>\n",
       "      <td>0.327</td>\n",
       "      <td>0.358</td>\n",
       "      <td>0.292</td>\n",
       "      <td>0.285</td>\n",
       "      <td>0.304000</td>\n",
       "      <td>0.361000</td>\n",
       "      <td>0.342000</td>\n",
       "      <td>0.355000</td>\n",
       "      <td>...</td>\n",
       "      <td>0.536</td>\n",
       "      <td>0.558</td>\n",
       "      <td>0.622</td>\n",
       "      <td>0.634</td>\n",
       "      <td>0.513</td>\n",
       "      <td>0.421</td>\n",
       "      <td>0.273</td>\n",
       "      <td>0.296</td>\n",
       "      <td>0.291</td>\n",
       "      <td>0.289</td>\n",
       "    </tr>\n",
       "    <tr>\n",
       "      <th>2</th>\n",
       "      <td>11651552</td>\n",
       "      <td>0.150</td>\n",
       "      <td>0.181</td>\n",
       "      <td>0.150</td>\n",
       "      <td>0.150</td>\n",
       "      <td>0.131</td>\n",
       "      <td>0.125000</td>\n",
       "      <td>0.088000</td>\n",
       "      <td>0.106000</td>\n",
       "      <td>0.094000</td>\n",
       "      <td>...</td>\n",
       "      <td>2.125</td>\n",
       "      <td>0.881</td>\n",
       "      <td>0.481</td>\n",
       "      <td>1.194</td>\n",
       "      <td>0.138</td>\n",
       "      <td>0.119</td>\n",
       "      <td>0.038</td>\n",
       "      <td>0.088</td>\n",
       "      <td>0.056</td>\n",
       "      <td>0.113</td>\n",
       "    </tr>\n",
       "    <tr>\n",
       "      <th>3</th>\n",
       "      <td>11636092</td>\n",
       "      <td>2.088</td>\n",
       "      <td>2.075</td>\n",
       "      <td>2.121</td>\n",
       "      <td>2.098</td>\n",
       "      <td>2.046</td>\n",
       "      <td>2.081000</td>\n",
       "      <td>1.847000</td>\n",
       "      <td>0.420000</td>\n",
       "      <td>0.399000</td>\n",
       "      <td>...</td>\n",
       "      <td>0.620</td>\n",
       "      <td>0.487</td>\n",
       "      <td>0.563</td>\n",
       "      <td>0.419</td>\n",
       "      <td>0.379</td>\n",
       "      <td>0.359</td>\n",
       "      <td>0.347</td>\n",
       "      <td>0.325</td>\n",
       "      <td>0.330</td>\n",
       "      <td>0.340</td>\n",
       "    </tr>\n",
       "    <tr>\n",
       "      <th>4</th>\n",
       "      <td>11647239</td>\n",
       "      <td>1.416</td>\n",
       "      <td>1.250</td>\n",
       "      <td>1.270</td>\n",
       "      <td>1.258</td>\n",
       "      <td>1.239</td>\n",
       "      <td>1.753105</td>\n",
       "      <td>4.609256</td>\n",
       "      <td>4.619256</td>\n",
       "      <td>4.075151</td>\n",
       "      <td>...</td>\n",
       "      <td>1.596</td>\n",
       "      <td>1.667</td>\n",
       "      <td>1.569</td>\n",
       "      <td>1.664</td>\n",
       "      <td>1.580</td>\n",
       "      <td>1.635</td>\n",
       "      <td>1.568</td>\n",
       "      <td>1.565</td>\n",
       "      <td>1.575</td>\n",
       "      <td>1.571</td>\n",
       "    </tr>\n",
       "  </tbody>\n",
       "</table>\n",
       "<p>5 rows × 2881 columns</p>\n",
       "</div>"
      ],
      "text/plain": [
       "   House ID  Interval_1  Interval_2  Interval_3  Interval_4  Interval_5  \\\n",
       "0  11655099       0.950       0.826       0.361       0.238       0.342   \n",
       "1  11633257       0.353       0.327       0.358       0.292       0.285   \n",
       "2  11651552       0.150       0.181       0.150       0.150       0.131   \n",
       "3  11636092       2.088       2.075       2.121       2.098       2.046   \n",
       "4  11647239       1.416       1.250       1.270       1.258       1.239   \n",
       "\n",
       "   Interval_6  Interval_7  Interval_8  Interval_9      ...        \\\n",
       "0    0.233000    0.351000    0.194000    0.292000      ...         \n",
       "1    0.304000    0.361000    0.342000    0.355000      ...         \n",
       "2    0.125000    0.088000    0.106000    0.094000      ...         \n",
       "3    2.081000    1.847000    0.420000    0.399000      ...         \n",
       "4    1.753105    4.609256    4.619256    4.075151      ...         \n",
       "\n",
       "   Interval_2871  Interval_2872  Interval_2873  Interval_2874  Interval_2875  \\\n",
       "0          0.664          0.783          0.601          0.639          0.417   \n",
       "1          0.536          0.558          0.622          0.634          0.513   \n",
       "2          2.125          0.881          0.481          1.194          0.138   \n",
       "3          0.620          0.487          0.563          0.419          0.379   \n",
       "4          1.596          1.667          1.569          1.664          1.580   \n",
       "\n",
       "   Interval_2876  Interval_2877  Interval_2878  Interval_2879  Interval_2880  \n",
       "0          0.439          0.226          0.190          0.710          0.728  \n",
       "1          0.421          0.273          0.296          0.291          0.289  \n",
       "2          0.119          0.038          0.088          0.056          0.113  \n",
       "3          0.359          0.347          0.325          0.330          0.340  \n",
       "4          1.635          1.568          1.565          1.575          1.571  \n",
       "\n",
       "[5 rows x 2881 columns]"
      ]
     },
     "metadata": {},
     "output_type": "display_data"
    },
    {
     "data": {
      "text/html": [
       "<div>\n",
       "<style>\n",
       "    .dataframe thead tr:only-child th {\n",
       "        text-align: right;\n",
       "    }\n",
       "\n",
       "    .dataframe thead th {\n",
       "        text-align: left;\n",
       "    }\n",
       "\n",
       "    .dataframe tbody tr th {\n",
       "        vertical-align: top;\n",
       "    }\n",
       "</style>\n",
       "<table border=\"1\" class=\"dataframe\">\n",
       "  <thead>\n",
       "    <tr style=\"text-align: right;\">\n",
       "      <th></th>\n",
       "      <th>House ID</th>\n",
       "      <th>Interval_1</th>\n",
       "      <th>Interval_2</th>\n",
       "      <th>Interval_3</th>\n",
       "      <th>Interval_4</th>\n",
       "      <th>Interval_5</th>\n",
       "      <th>Interval_6</th>\n",
       "      <th>Interval_7</th>\n",
       "      <th>Interval_8</th>\n",
       "      <th>Interval_9</th>\n",
       "      <th>...</th>\n",
       "      <th>Interval_2871</th>\n",
       "      <th>Interval_2872</th>\n",
       "      <th>Interval_2873</th>\n",
       "      <th>Interval_2874</th>\n",
       "      <th>Interval_2875</th>\n",
       "      <th>Interval_2876</th>\n",
       "      <th>Interval_2877</th>\n",
       "      <th>Interval_2878</th>\n",
       "      <th>Interval_2879</th>\n",
       "      <th>Interval_2880</th>\n",
       "    </tr>\n",
       "  </thead>\n",
       "  <tbody>\n",
       "    <tr>\n",
       "      <th>0</th>\n",
       "      <td>11655099</td>\n",
       "      <td>0</td>\n",
       "      <td>0</td>\n",
       "      <td>0</td>\n",
       "      <td>0</td>\n",
       "      <td>0</td>\n",
       "      <td>0</td>\n",
       "      <td>0</td>\n",
       "      <td>0</td>\n",
       "      <td>0</td>\n",
       "      <td>...</td>\n",
       "      <td>0</td>\n",
       "      <td>0</td>\n",
       "      <td>0</td>\n",
       "      <td>0</td>\n",
       "      <td>0</td>\n",
       "      <td>0</td>\n",
       "      <td>0</td>\n",
       "      <td>0</td>\n",
       "      <td>0</td>\n",
       "      <td>0</td>\n",
       "    </tr>\n",
       "    <tr>\n",
       "      <th>1</th>\n",
       "      <td>11633257</td>\n",
       "      <td>0</td>\n",
       "      <td>0</td>\n",
       "      <td>0</td>\n",
       "      <td>0</td>\n",
       "      <td>0</td>\n",
       "      <td>0</td>\n",
       "      <td>0</td>\n",
       "      <td>0</td>\n",
       "      <td>0</td>\n",
       "      <td>...</td>\n",
       "      <td>0</td>\n",
       "      <td>0</td>\n",
       "      <td>0</td>\n",
       "      <td>0</td>\n",
       "      <td>0</td>\n",
       "      <td>0</td>\n",
       "      <td>0</td>\n",
       "      <td>0</td>\n",
       "      <td>0</td>\n",
       "      <td>0</td>\n",
       "    </tr>\n",
       "    <tr>\n",
       "      <th>2</th>\n",
       "      <td>11651552</td>\n",
       "      <td>0</td>\n",
       "      <td>0</td>\n",
       "      <td>0</td>\n",
       "      <td>0</td>\n",
       "      <td>0</td>\n",
       "      <td>0</td>\n",
       "      <td>0</td>\n",
       "      <td>0</td>\n",
       "      <td>0</td>\n",
       "      <td>...</td>\n",
       "      <td>0</td>\n",
       "      <td>0</td>\n",
       "      <td>0</td>\n",
       "      <td>0</td>\n",
       "      <td>0</td>\n",
       "      <td>0</td>\n",
       "      <td>0</td>\n",
       "      <td>0</td>\n",
       "      <td>0</td>\n",
       "      <td>0</td>\n",
       "    </tr>\n",
       "    <tr>\n",
       "      <th>3</th>\n",
       "      <td>11636092</td>\n",
       "      <td>0</td>\n",
       "      <td>0</td>\n",
       "      <td>0</td>\n",
       "      <td>0</td>\n",
       "      <td>0</td>\n",
       "      <td>0</td>\n",
       "      <td>0</td>\n",
       "      <td>0</td>\n",
       "      <td>0</td>\n",
       "      <td>...</td>\n",
       "      <td>0</td>\n",
       "      <td>0</td>\n",
       "      <td>0</td>\n",
       "      <td>0</td>\n",
       "      <td>0</td>\n",
       "      <td>0</td>\n",
       "      <td>0</td>\n",
       "      <td>0</td>\n",
       "      <td>0</td>\n",
       "      <td>0</td>\n",
       "    </tr>\n",
       "    <tr>\n",
       "      <th>4</th>\n",
       "      <td>11647239</td>\n",
       "      <td>0</td>\n",
       "      <td>0</td>\n",
       "      <td>0</td>\n",
       "      <td>0</td>\n",
       "      <td>0</td>\n",
       "      <td>1</td>\n",
       "      <td>1</td>\n",
       "      <td>1</td>\n",
       "      <td>1</td>\n",
       "      <td>...</td>\n",
       "      <td>0</td>\n",
       "      <td>0</td>\n",
       "      <td>0</td>\n",
       "      <td>0</td>\n",
       "      <td>0</td>\n",
       "      <td>0</td>\n",
       "      <td>0</td>\n",
       "      <td>0</td>\n",
       "      <td>0</td>\n",
       "      <td>0</td>\n",
       "    </tr>\n",
       "  </tbody>\n",
       "</table>\n",
       "<p>5 rows × 2881 columns</p>\n",
       "</div>"
      ],
      "text/plain": [
       "   House ID  Interval_1  Interval_2  Interval_3  Interval_4  Interval_5  \\\n",
       "0  11655099           0           0           0           0           0   \n",
       "1  11633257           0           0           0           0           0   \n",
       "2  11651552           0           0           0           0           0   \n",
       "3  11636092           0           0           0           0           0   \n",
       "4  11647239           0           0           0           0           0   \n",
       "\n",
       "   Interval_6  Interval_7  Interval_8  Interval_9      ...        \\\n",
       "0           0           0           0           0      ...         \n",
       "1           0           0           0           0      ...         \n",
       "2           0           0           0           0      ...         \n",
       "3           0           0           0           0      ...         \n",
       "4           1           1           1           1      ...         \n",
       "\n",
       "   Interval_2871  Interval_2872  Interval_2873  Interval_2874  Interval_2875  \\\n",
       "0              0              0              0              0              0   \n",
       "1              0              0              0              0              0   \n",
       "2              0              0              0              0              0   \n",
       "3              0              0              0              0              0   \n",
       "4              0              0              0              0              0   \n",
       "\n",
       "   Interval_2876  Interval_2877  Interval_2878  Interval_2879  Interval_2880  \n",
       "0              0              0              0              0              0  \n",
       "1              0              0              0              0              0  \n",
       "2              0              0              0              0              0  \n",
       "3              0              0              0              0              0  \n",
       "4              0              0              0              0              0  \n",
       "\n",
       "[5 rows x 2881 columns]"
      ]
     },
     "metadata": {},
     "output_type": "display_data"
    },
    {
     "name": "stdout",
     "output_type": "stream",
     "text": [
      "True\n",
      "False\n"
     ]
    }
   ],
   "source": [
    "print(ev_train_raw.shape)\n",
    "print(ev_train_labels_raw.shape)\n",
    "display(ev_train_raw.head())\n",
    "display(ev_train_labels_raw.head())\n",
    "print(ev_train_raw.isnull().values.any())  # Null values in training dataset?\n",
    "print(ev_train_labels_raw.isnull().values.any())  #Null values in training labels?"
   ]
  },
  {
   "cell_type": "markdown",
   "metadata": {},
   "source": [
    "### Quantify Missign Values"
   ]
  },
  {
   "cell_type": "code",
   "execution_count": 4,
   "metadata": {},
   "outputs": [
    {
     "data": {
      "text/plain": [
       "1    288\n",
       "4     48\n",
       "3     48\n",
       "2     48\n",
       "dtype: int64"
      ]
     },
     "execution_count": 4,
     "metadata": {},
     "output_type": "execute_result"
    }
   ],
   "source": [
    "# Missing value frequency by interval\n",
    "ev_train_raw.isnull().sum(axis=0)[ev_train_raw.isnull().sum(axis=0)>0].value_counts()"
   ]
  },
  {
   "cell_type": "code",
   "execution_count": 5,
   "metadata": {},
   "outputs": [
    {
     "data": {
      "text/plain": [
       "432    1\n",
       "48     1\n",
       "144    1\n",
       "96     1\n",
       "dtype: int64"
      ]
     },
     "execution_count": 5,
     "metadata": {},
     "output_type": "execute_result"
    }
   ],
   "source": [
    "# Missing value frequency by house\n",
    "ev_train_raw.isnull().sum(axis=1)[ev_train_raw.isnull().sum(axis=1)>0].value_counts()"
   ]
  },
  {
   "cell_type": "markdown",
   "metadata": {},
   "source": [
    "### Add Temporal Dimensions"
   ]
  },
  {
   "cell_type": "code",
   "execution_count": 6,
   "metadata": {
    "collapsed": true
   },
   "outputs": [],
   "source": [
    "ev_train_pivot = ev_train_raw.copy()\n",
    "ev_train_pivot = pd.wide_to_long(ev_train_pivot, stubnames='Interval_', i='House ID', j='kWh').reset_index()\n",
    "ev_train_pivot.columns = ['House ID', 'Interval', 'kWh']\n",
    "ev_train_pivot['Interval'] = pd.to_numeric(ev_train_pivot['Interval'], downcast='integer')\n",
    "ev_train_pivot = ev_train_pivot.sort_values(['House ID', 'Interval']).reset_index(drop=True)"
   ]
  },
  {
   "cell_type": "code",
   "execution_count": 7,
   "metadata": {
    "collapsed": true
   },
   "outputs": [],
   "source": [
    "ev_train_labels_pivot = ev_train_labels_raw.copy()\n",
    "ev_train_labels_pivot = pd.wide_to_long(ev_train_labels_pivot, stubnames='Interval_', i='House ID', j='label').reset_index()\n",
    "ev_train_labels_pivot.columns = ['House ID', 'Interval', 'Label']\n",
    "ev_train_labels_pivot['Interval'] = pd.to_numeric(ev_train_labels_pivot['Interval'], downcast='integer')\n",
    "ev_train_labels_pivot = ev_train_labels_pivot.sort_values(['House ID', 'Interval']).reset_index(drop=True)"
   ]
  },
  {
   "cell_type": "code",
   "execution_count": 8,
   "metadata": {
    "collapsed": true
   },
   "outputs": [],
   "source": [
    "ev_train_pivot_label = pd.concat([ev_train_pivot, ev_train_labels_pivot['Label']], axis=1)"
   ]
  },
  {
   "cell_type": "code",
   "execution_count": 9,
   "metadata": {},
   "outputs": [
    {
     "data": {
      "text/html": [
       "<div>\n",
       "<style>\n",
       "    .dataframe thead tr:only-child th {\n",
       "        text-align: right;\n",
       "    }\n",
       "\n",
       "    .dataframe thead th {\n",
       "        text-align: left;\n",
       "    }\n",
       "\n",
       "    .dataframe tbody tr th {\n",
       "        vertical-align: top;\n",
       "    }\n",
       "</style>\n",
       "<table border=\"1\" class=\"dataframe\">\n",
       "  <thead>\n",
       "    <tr style=\"text-align: right;\">\n",
       "      <th></th>\n",
       "      <th>House ID</th>\n",
       "      <th>Interval</th>\n",
       "      <th>kWh</th>\n",
       "      <th>Label</th>\n",
       "    </tr>\n",
       "  </thead>\n",
       "  <tbody>\n",
       "    <tr>\n",
       "      <th>3173760</th>\n",
       "      <td>11647239</td>\n",
       "      <td>1</td>\n",
       "      <td>1.416000</td>\n",
       "      <td>0</td>\n",
       "    </tr>\n",
       "    <tr>\n",
       "      <th>3173761</th>\n",
       "      <td>11647239</td>\n",
       "      <td>2</td>\n",
       "      <td>1.250000</td>\n",
       "      <td>0</td>\n",
       "    </tr>\n",
       "    <tr>\n",
       "      <th>3173762</th>\n",
       "      <td>11647239</td>\n",
       "      <td>3</td>\n",
       "      <td>1.270000</td>\n",
       "      <td>0</td>\n",
       "    </tr>\n",
       "    <tr>\n",
       "      <th>3173763</th>\n",
       "      <td>11647239</td>\n",
       "      <td>4</td>\n",
       "      <td>1.258000</td>\n",
       "      <td>0</td>\n",
       "    </tr>\n",
       "    <tr>\n",
       "      <th>3173764</th>\n",
       "      <td>11647239</td>\n",
       "      <td>5</td>\n",
       "      <td>1.239000</td>\n",
       "      <td>0</td>\n",
       "    </tr>\n",
       "    <tr>\n",
       "      <th>3173765</th>\n",
       "      <td>11647239</td>\n",
       "      <td>6</td>\n",
       "      <td>1.753105</td>\n",
       "      <td>1</td>\n",
       "    </tr>\n",
       "    <tr>\n",
       "      <th>3173766</th>\n",
       "      <td>11647239</td>\n",
       "      <td>7</td>\n",
       "      <td>4.609256</td>\n",
       "      <td>1</td>\n",
       "    </tr>\n",
       "    <tr>\n",
       "      <th>3173767</th>\n",
       "      <td>11647239</td>\n",
       "      <td>8</td>\n",
       "      <td>4.619256</td>\n",
       "      <td>1</td>\n",
       "    </tr>\n",
       "    <tr>\n",
       "      <th>3173768</th>\n",
       "      <td>11647239</td>\n",
       "      <td>9</td>\n",
       "      <td>4.075151</td>\n",
       "      <td>1</td>\n",
       "    </tr>\n",
       "  </tbody>\n",
       "</table>\n",
       "</div>"
      ],
      "text/plain": [
       "         House ID  Interval       kWh  Label\n",
       "3173760  11647239         1  1.416000      0\n",
       "3173761  11647239         2  1.250000      0\n",
       "3173762  11647239         3  1.270000      0\n",
       "3173763  11647239         4  1.258000      0\n",
       "3173764  11647239         5  1.239000      0\n",
       "3173765  11647239         6  1.753105      1\n",
       "3173766  11647239         7  4.609256      1\n",
       "3173767  11647239         8  4.619256      1\n",
       "3173768  11647239         9  4.075151      1"
      ]
     },
     "metadata": {},
     "output_type": "display_data"
    },
    {
     "data": {
      "text/html": [
       "<div>\n",
       "<style>\n",
       "    .dataframe thead tr:only-child th {\n",
       "        text-align: right;\n",
       "    }\n",
       "\n",
       "    .dataframe thead th {\n",
       "        text-align: left;\n",
       "    }\n",
       "\n",
       "    .dataframe tbody tr th {\n",
       "        vertical-align: top;\n",
       "    }\n",
       "</style>\n",
       "<table border=\"1\" class=\"dataframe\">\n",
       "  <thead>\n",
       "    <tr style=\"text-align: right;\">\n",
       "      <th></th>\n",
       "      <th>House ID</th>\n",
       "      <th>Interval</th>\n",
       "      <th>kWh</th>\n",
       "      <th>Label</th>\n",
       "    </tr>\n",
       "  </thead>\n",
       "  <tbody>\n",
       "    <tr>\n",
       "      <th>2161022</th>\n",
       "      <td>11640914</td>\n",
       "      <td>1023</td>\n",
       "      <td>0.269</td>\n",
       "      <td>0</td>\n",
       "    </tr>\n",
       "  </tbody>\n",
       "</table>\n",
       "</div>"
      ],
      "text/plain": [
       "         House ID  Interval    kWh  Label\n",
       "2161022  11640914      1023  0.269      0"
      ]
     },
     "metadata": {},
     "output_type": "display_data"
    },
    {
     "name": "stdout",
     "output_type": "stream",
     "text": [
      "{'House ID': 11640914, 'Interval': 1023, 'kWh': 0.26899999999999996, 'Label': 0}\n"
     ]
    }
   ],
   "source": [
    "##Checking Label Concatenation (pd.merge was failing due to memory limits?)\n",
    "\n",
    "import random\n",
    "\n",
    "display(ev_train_pivot_label[ev_train_pivot_label['House ID']==11647239].head(9))\n",
    "\n",
    "all_raw_house_ids  = ev_train_raw['House ID'].unique()\n",
    "\n",
    "random_house_id = random.choice(all_raw_house_ids)\n",
    "random_interval = random.randint(1,2880)\n",
    "\n",
    "\n",
    "lcr1 = ev_train_pivot_label['House ID']==random_house_id\n",
    "lcc1 = ev_train_pivot_label['Interval']==random_interval\n",
    "display(ev_train_pivot_label[lcr1&lcc1])\n",
    "\n",
    "lcr2 = ev_train_raw.index[ev_train_raw['House ID']==random_house_id].values[0]\n",
    "raw_kwh = ev_train_raw.iloc[lcr2,random_interval]\n",
    "raw_label = ev_train_labels_raw.iloc[lcr2,random_interval]\n",
    "\n",
    "rand_dict = {\n",
    "    \"House ID\": random_house_id,\n",
    "    \"Interval\": random_interval,\n",
    "    \"kWh\": raw_kwh,\n",
    "    \"Label\": raw_label \n",
    "}\n",
    "print(rand_dict)\n"
   ]
  },
  {
   "cell_type": "code",
   "execution_count": 10,
   "metadata": {},
   "outputs": [
    {
     "data": {
      "text/plain": [
       "Interval_1022    0.212\n",
       "Interval_1023    0.269\n",
       "Name: 403, dtype: float64"
      ]
     },
     "execution_count": 10,
     "metadata": {},
     "output_type": "execute_result"
    }
   ],
   "source": [
    "ev_train_raw.iloc[lcr2,random_interval-1:random_interval+1]"
   ]
  },
  {
   "cell_type": "code",
   "execution_count": 11,
   "metadata": {},
   "outputs": [
    {
     "name": "stdout",
     "output_type": "stream",
     "text": [
      "(4579200, 3)\n",
      "4579200\n"
     ]
    }
   ],
   "source": [
    "print(ev_train_pivot.shape)\n",
    "print(2*24*60*1590)\n",
    "\n",
    "temp_dim_dict = {\n",
    "    \"Day\": np.tile(np.repeat(np.arange(1,61),48),1590),\n",
    "    \"Hour\": np.tile(np.tile(np.repeat(np.arange(1,25),2),60),1590),\n",
    "    \"Half Hour\": np.tile(np.tile(np.arange(1,49),60),1590)\n",
    "}\n",
    "\n",
    "temp_dim_df = pd.DataFrame.from_dict(temp_dim_dict)"
   ]
  },
  {
   "cell_type": "code",
   "execution_count": 12,
   "metadata": {},
   "outputs": [
    {
     "data": {
      "text/html": [
       "<div>\n",
       "<style>\n",
       "    .dataframe thead tr:only-child th {\n",
       "        text-align: right;\n",
       "    }\n",
       "\n",
       "    .dataframe thead th {\n",
       "        text-align: left;\n",
       "    }\n",
       "\n",
       "    .dataframe tbody tr th {\n",
       "        vertical-align: top;\n",
       "    }\n",
       "</style>\n",
       "<table border=\"1\" class=\"dataframe\">\n",
       "  <thead>\n",
       "    <tr style=\"text-align: right;\">\n",
       "      <th></th>\n",
       "      <th>House ID</th>\n",
       "      <th>Day</th>\n",
       "      <th>Hour</th>\n",
       "      <th>Half Hour</th>\n",
       "      <th>Interval</th>\n",
       "      <th>kWh</th>\n",
       "      <th>Label</th>\n",
       "    </tr>\n",
       "  </thead>\n",
       "  <tbody>\n",
       "    <tr>\n",
       "      <th>0</th>\n",
       "      <td>11628280</td>\n",
       "      <td>1</td>\n",
       "      <td>1</td>\n",
       "      <td>1</td>\n",
       "      <td>1</td>\n",
       "      <td>1.114</td>\n",
       "      <td>0</td>\n",
       "    </tr>\n",
       "    <tr>\n",
       "      <th>1</th>\n",
       "      <td>11628280</td>\n",
       "      <td>1</td>\n",
       "      <td>1</td>\n",
       "      <td>2</td>\n",
       "      <td>2</td>\n",
       "      <td>0.845</td>\n",
       "      <td>0</td>\n",
       "    </tr>\n",
       "    <tr>\n",
       "      <th>2</th>\n",
       "      <td>11628280</td>\n",
       "      <td>1</td>\n",
       "      <td>2</td>\n",
       "      <td>3</td>\n",
       "      <td>3</td>\n",
       "      <td>0.463</td>\n",
       "      <td>0</td>\n",
       "    </tr>\n",
       "    <tr>\n",
       "      <th>3</th>\n",
       "      <td>11628280</td>\n",
       "      <td>1</td>\n",
       "      <td>2</td>\n",
       "      <td>4</td>\n",
       "      <td>4</td>\n",
       "      <td>0.453</td>\n",
       "      <td>0</td>\n",
       "    </tr>\n",
       "    <tr>\n",
       "      <th>4</th>\n",
       "      <td>11628280</td>\n",
       "      <td>1</td>\n",
       "      <td>3</td>\n",
       "      <td>5</td>\n",
       "      <td>5</td>\n",
       "      <td>0.610</td>\n",
       "      <td>0</td>\n",
       "    </tr>\n",
       "  </tbody>\n",
       "</table>\n",
       "</div>"
      ],
      "text/plain": [
       "   House ID  Day  Hour  Half Hour  Interval    kWh  Label\n",
       "0  11628280    1     1          1         1  1.114      0\n",
       "1  11628280    1     1          2         2  0.845      0\n",
       "2  11628280    1     2          3         3  0.463      0\n",
       "3  11628280    1     2          4         4  0.453      0\n",
       "4  11628280    1     3          5         5  0.610      0"
      ]
     },
     "execution_count": 12,
     "metadata": {},
     "output_type": "execute_result"
    }
   ],
   "source": [
    "ev_train_piv_lab_tmp = pd.concat([ev_train_pivot_label, temp_dim_df], axis=1)\n",
    "ev_train_piv_lab_tmp_cols = ['House ID','Day','Hour','Half Hour','Interval', 'kWh', 'Label']\n",
    "ev_train_piv_lab_tmp = ev_train_piv_lab_tmp[ev_train_piv_lab_tmp_cols] \n",
    "ev_train_piv_lab_tmp.head()"
   ]
  },
  {
   "cell_type": "code",
   "execution_count": 13,
   "metadata": {},
   "outputs": [
    {
     "data": {
      "text/html": [
       "<div>\n",
       "<style>\n",
       "    .dataframe thead tr:only-child th {\n",
       "        text-align: right;\n",
       "    }\n",
       "\n",
       "    .dataframe thead th {\n",
       "        text-align: left;\n",
       "    }\n",
       "\n",
       "    .dataframe tbody tr th {\n",
       "        vertical-align: top;\n",
       "    }\n",
       "</style>\n",
       "<table border=\"1\" class=\"dataframe\">\n",
       "  <thead>\n",
       "    <tr>\n",
       "      <th></th>\n",
       "      <th colspan=\"4\" halign=\"left\">Day</th>\n",
       "      <th colspan=\"4\" halign=\"left\">Hour</th>\n",
       "      <th colspan=\"4\" halign=\"left\">Half Hour</th>\n",
       "    </tr>\n",
       "    <tr>\n",
       "      <th></th>\n",
       "      <th>max</th>\n",
       "      <th>min</th>\n",
       "      <th>mean</th>\n",
       "      <th>count</th>\n",
       "      <th>max</th>\n",
       "      <th>min</th>\n",
       "      <th>mean</th>\n",
       "      <th>count</th>\n",
       "      <th>max</th>\n",
       "      <th>min</th>\n",
       "      <th>mean</th>\n",
       "      <th>count</th>\n",
       "    </tr>\n",
       "    <tr>\n",
       "      <th>House ID</th>\n",
       "      <th></th>\n",
       "      <th></th>\n",
       "      <th></th>\n",
       "      <th></th>\n",
       "      <th></th>\n",
       "      <th></th>\n",
       "      <th></th>\n",
       "      <th></th>\n",
       "      <th></th>\n",
       "      <th></th>\n",
       "      <th></th>\n",
       "      <th></th>\n",
       "    </tr>\n",
       "  </thead>\n",
       "  <tbody>\n",
       "    <tr>\n",
       "      <th>11628280</th>\n",
       "      <td>60</td>\n",
       "      <td>1</td>\n",
       "      <td>30.5</td>\n",
       "      <td>2880</td>\n",
       "      <td>24</td>\n",
       "      <td>1</td>\n",
       "      <td>12.5</td>\n",
       "      <td>2880</td>\n",
       "      <td>48</td>\n",
       "      <td>1</td>\n",
       "      <td>24.5</td>\n",
       "      <td>2880</td>\n",
       "    </tr>\n",
       "    <tr>\n",
       "      <th>11628291</th>\n",
       "      <td>60</td>\n",
       "      <td>1</td>\n",
       "      <td>30.5</td>\n",
       "      <td>2880</td>\n",
       "      <td>24</td>\n",
       "      <td>1</td>\n",
       "      <td>12.5</td>\n",
       "      <td>2880</td>\n",
       "      <td>48</td>\n",
       "      <td>1</td>\n",
       "      <td>24.5</td>\n",
       "      <td>2880</td>\n",
       "    </tr>\n",
       "    <tr>\n",
       "      <th>11628301</th>\n",
       "      <td>60</td>\n",
       "      <td>1</td>\n",
       "      <td>30.5</td>\n",
       "      <td>2880</td>\n",
       "      <td>24</td>\n",
       "      <td>1</td>\n",
       "      <td>12.5</td>\n",
       "      <td>2880</td>\n",
       "      <td>48</td>\n",
       "      <td>1</td>\n",
       "      <td>24.5</td>\n",
       "      <td>2880</td>\n",
       "    </tr>\n",
       "    <tr>\n",
       "      <th>11628319</th>\n",
       "      <td>60</td>\n",
       "      <td>1</td>\n",
       "      <td>30.5</td>\n",
       "      <td>2880</td>\n",
       "      <td>24</td>\n",
       "      <td>1</td>\n",
       "      <td>12.5</td>\n",
       "      <td>2880</td>\n",
       "      <td>48</td>\n",
       "      <td>1</td>\n",
       "      <td>24.5</td>\n",
       "      <td>2880</td>\n",
       "    </tr>\n",
       "    <tr>\n",
       "      <th>11628335</th>\n",
       "      <td>60</td>\n",
       "      <td>1</td>\n",
       "      <td>30.5</td>\n",
       "      <td>2880</td>\n",
       "      <td>24</td>\n",
       "      <td>1</td>\n",
       "      <td>12.5</td>\n",
       "      <td>2880</td>\n",
       "      <td>48</td>\n",
       "      <td>1</td>\n",
       "      <td>24.5</td>\n",
       "      <td>2880</td>\n",
       "    </tr>\n",
       "  </tbody>\n",
       "</table>\n",
       "</div>"
      ],
      "text/plain": [
       "         Day                 Hour                 Half Hour                \n",
       "         max min  mean count  max min  mean count       max min  mean count\n",
       "House ID                                                                   \n",
       "11628280  60   1  30.5  2880   24   1  12.5  2880        48   1  24.5  2880\n",
       "11628291  60   1  30.5  2880   24   1  12.5  2880        48   1  24.5  2880\n",
       "11628301  60   1  30.5  2880   24   1  12.5  2880        48   1  24.5  2880\n",
       "11628319  60   1  30.5  2880   24   1  12.5  2880        48   1  24.5  2880\n",
       "11628335  60   1  30.5  2880   24   1  12.5  2880        48   1  24.5  2880"
      ]
     },
     "metadata": {},
     "output_type": "display_data"
    }
   ],
   "source": [
    "# Checking Temporal Concatenation (pd.merge was failing due to memory limits?)\n",
    "\n",
    "check_aggs =['max', 'min','mean','count']\n",
    "\n",
    "check_dict = {\n",
    "    'Day' : check_aggs, \n",
    "    'Hour': check_aggs,\n",
    "    'Half Hour': check_aggs,\n",
    "}\n",
    "\n",
    "temp_merge_check_df = ev_train_piv_lab_tmp.groupby('House ID').agg(check_dict)\n",
    "\n",
    "unique_records = len(temp_merge_check_df.drop_duplicates())\n",
    "total_records = len(temp_merge_check_df)\n",
    "\n",
    "assert unique_records == 1, \"Problem with temporal concatenation\"\n",
    "\n",
    "display(temp_merge_check_df.head())"
   ]
  },
  {
   "cell_type": "code",
   "execution_count": 14,
   "metadata": {},
   "outputs": [
    {
     "data": {
      "text/html": [
       "<div>\n",
       "<style>\n",
       "    .dataframe thead tr:only-child th {\n",
       "        text-align: right;\n",
       "    }\n",
       "\n",
       "    .dataframe thead th {\n",
       "        text-align: left;\n",
       "    }\n",
       "\n",
       "    .dataframe tbody tr th {\n",
       "        vertical-align: top;\n",
       "    }\n",
       "</style>\n",
       "<table border=\"1\" class=\"dataframe\">\n",
       "  <thead>\n",
       "    <tr style=\"text-align: right;\">\n",
       "      <th></th>\n",
       "      <th>House ID</th>\n",
       "      <th>Day</th>\n",
       "      <th>Hour</th>\n",
       "      <th>Half Hour</th>\n",
       "      <th>Interval</th>\n",
       "      <th>kWh</th>\n",
       "      <th>Label</th>\n",
       "    </tr>\n",
       "  </thead>\n",
       "  <tbody>\n",
       "    <tr>\n",
       "      <th>45</th>\n",
       "      <td>11628280</td>\n",
       "      <td>1</td>\n",
       "      <td>23</td>\n",
       "      <td>46</td>\n",
       "      <td>46</td>\n",
       "      <td>1.146</td>\n",
       "      <td>0</td>\n",
       "    </tr>\n",
       "    <tr>\n",
       "      <th>46</th>\n",
       "      <td>11628280</td>\n",
       "      <td>1</td>\n",
       "      <td>24</td>\n",
       "      <td>47</td>\n",
       "      <td>47</td>\n",
       "      <td>1.130</td>\n",
       "      <td>0</td>\n",
       "    </tr>\n",
       "    <tr>\n",
       "      <th>47</th>\n",
       "      <td>11628280</td>\n",
       "      <td>1</td>\n",
       "      <td>24</td>\n",
       "      <td>48</td>\n",
       "      <td>48</td>\n",
       "      <td>1.170</td>\n",
       "      <td>0</td>\n",
       "    </tr>\n",
       "    <tr>\n",
       "      <th>48</th>\n",
       "      <td>11628280</td>\n",
       "      <td>2</td>\n",
       "      <td>1</td>\n",
       "      <td>1</td>\n",
       "      <td>49</td>\n",
       "      <td>1.239</td>\n",
       "      <td>0</td>\n",
       "    </tr>\n",
       "    <tr>\n",
       "      <th>49</th>\n",
       "      <td>11628280</td>\n",
       "      <td>2</td>\n",
       "      <td>1</td>\n",
       "      <td>2</td>\n",
       "      <td>50</td>\n",
       "      <td>0.952</td>\n",
       "      <td>0</td>\n",
       "    </tr>\n",
       "  </tbody>\n",
       "</table>\n",
       "</div>"
      ],
      "text/plain": [
       "    House ID  Day  Hour  Half Hour  Interval    kWh  Label\n",
       "45  11628280    1    23         46        46  1.146      0\n",
       "46  11628280    1    24         47        47  1.130      0\n",
       "47  11628280    1    24         48        48  1.170      0\n",
       "48  11628280    2     1          1        49  1.239      0\n",
       "49  11628280    2     1          2        50  0.952      0"
      ]
     },
     "metadata": {},
     "output_type": "display_data"
    },
    {
     "data": {
      "text/html": [
       "<div>\n",
       "<style>\n",
       "    .dataframe thead tr:only-child th {\n",
       "        text-align: right;\n",
       "    }\n",
       "\n",
       "    .dataframe thead th {\n",
       "        text-align: left;\n",
       "    }\n",
       "\n",
       "    .dataframe tbody tr th {\n",
       "        vertical-align: top;\n",
       "    }\n",
       "</style>\n",
       "<table border=\"1\" class=\"dataframe\">\n",
       "  <thead>\n",
       "    <tr style=\"text-align: right;\">\n",
       "      <th></th>\n",
       "      <th>House ID</th>\n",
       "      <th>Day</th>\n",
       "      <th>Hour</th>\n",
       "      <th>Half Hour</th>\n",
       "      <th>Interval</th>\n",
       "      <th>kWh</th>\n",
       "      <th>Label</th>\n",
       "    </tr>\n",
       "  </thead>\n",
       "  <tbody>\n",
       "    <tr>\n",
       "      <th>3173760</th>\n",
       "      <td>11647239</td>\n",
       "      <td>1</td>\n",
       "      <td>1</td>\n",
       "      <td>1</td>\n",
       "      <td>1</td>\n",
       "      <td>1.416000</td>\n",
       "      <td>0</td>\n",
       "    </tr>\n",
       "    <tr>\n",
       "      <th>3173761</th>\n",
       "      <td>11647239</td>\n",
       "      <td>1</td>\n",
       "      <td>1</td>\n",
       "      <td>2</td>\n",
       "      <td>2</td>\n",
       "      <td>1.250000</td>\n",
       "      <td>0</td>\n",
       "    </tr>\n",
       "    <tr>\n",
       "      <th>3173762</th>\n",
       "      <td>11647239</td>\n",
       "      <td>1</td>\n",
       "      <td>2</td>\n",
       "      <td>3</td>\n",
       "      <td>3</td>\n",
       "      <td>1.270000</td>\n",
       "      <td>0</td>\n",
       "    </tr>\n",
       "    <tr>\n",
       "      <th>3173763</th>\n",
       "      <td>11647239</td>\n",
       "      <td>1</td>\n",
       "      <td>2</td>\n",
       "      <td>4</td>\n",
       "      <td>4</td>\n",
       "      <td>1.258000</td>\n",
       "      <td>0</td>\n",
       "    </tr>\n",
       "    <tr>\n",
       "      <th>3173764</th>\n",
       "      <td>11647239</td>\n",
       "      <td>1</td>\n",
       "      <td>3</td>\n",
       "      <td>5</td>\n",
       "      <td>5</td>\n",
       "      <td>1.239000</td>\n",
       "      <td>0</td>\n",
       "    </tr>\n",
       "    <tr>\n",
       "      <th>3173765</th>\n",
       "      <td>11647239</td>\n",
       "      <td>1</td>\n",
       "      <td>3</td>\n",
       "      <td>6</td>\n",
       "      <td>6</td>\n",
       "      <td>1.753105</td>\n",
       "      <td>1</td>\n",
       "    </tr>\n",
       "    <tr>\n",
       "      <th>3173766</th>\n",
       "      <td>11647239</td>\n",
       "      <td>1</td>\n",
       "      <td>4</td>\n",
       "      <td>7</td>\n",
       "      <td>7</td>\n",
       "      <td>4.609256</td>\n",
       "      <td>1</td>\n",
       "    </tr>\n",
       "    <tr>\n",
       "      <th>3173767</th>\n",
       "      <td>11647239</td>\n",
       "      <td>1</td>\n",
       "      <td>4</td>\n",
       "      <td>8</td>\n",
       "      <td>8</td>\n",
       "      <td>4.619256</td>\n",
       "      <td>1</td>\n",
       "    </tr>\n",
       "    <tr>\n",
       "      <th>3173768</th>\n",
       "      <td>11647239</td>\n",
       "      <td>1</td>\n",
       "      <td>5</td>\n",
       "      <td>9</td>\n",
       "      <td>9</td>\n",
       "      <td>4.075151</td>\n",
       "      <td>1</td>\n",
       "    </tr>\n",
       "  </tbody>\n",
       "</table>\n",
       "</div>"
      ],
      "text/plain": [
       "         House ID  Day  Hour  Half Hour  Interval       kWh  Label\n",
       "3173760  11647239    1     1          1         1  1.416000      0\n",
       "3173761  11647239    1     1          2         2  1.250000      0\n",
       "3173762  11647239    1     2          3         3  1.270000      0\n",
       "3173763  11647239    1     2          4         4  1.258000      0\n",
       "3173764  11647239    1     3          5         5  1.239000      0\n",
       "3173765  11647239    1     3          6         6  1.753105      1\n",
       "3173766  11647239    1     4          7         7  4.609256      1\n",
       "3173767  11647239    1     4          8         8  4.619256      1\n",
       "3173768  11647239    1     5          9         9  4.075151      1"
      ]
     },
     "metadata": {},
     "output_type": "display_data"
    }
   ],
   "source": [
    "display(ev_train_piv_lab_tmp.iloc[45:50,])\n",
    "display(ev_train_piv_lab_tmp[ev_train_piv_lab_tmp['House ID']==11647239].head(9))"
   ]
  },
  {
   "cell_type": "markdown",
   "metadata": {},
   "source": [
    "### Fill in Missing Values"
   ]
  },
  {
   "cell_type": "code",
   "execution_count": 15,
   "metadata": {},
   "outputs": [
    {
     "data": {
      "text/html": [
       "<div>\n",
       "<style>\n",
       "    .dataframe thead tr:only-child th {\n",
       "        text-align: right;\n",
       "    }\n",
       "\n",
       "    .dataframe thead th {\n",
       "        text-align: left;\n",
       "    }\n",
       "\n",
       "    .dataframe tbody tr th {\n",
       "        vertical-align: top;\n",
       "    }\n",
       "</style>\n",
       "<table border=\"1\" class=\"dataframe\">\n",
       "  <thead>\n",
       "    <tr style=\"text-align: right;\">\n",
       "      <th></th>\n",
       "      <th>House ID</th>\n",
       "      <th>Day</th>\n",
       "      <th>Hour</th>\n",
       "      <th>Half Hour</th>\n",
       "      <th>Interval</th>\n",
       "      <th>kWh</th>\n",
       "      <th>Label</th>\n",
       "    </tr>\n",
       "  </thead>\n",
       "  <tbody>\n",
       "    <tr>\n",
       "      <th>757296</th>\n",
       "      <td>11632700</td>\n",
       "      <td>58</td>\n",
       "      <td>1</td>\n",
       "      <td>1</td>\n",
       "      <td>2737</td>\n",
       "      <td>NaN</td>\n",
       "      <td>0</td>\n",
       "    </tr>\n",
       "    <tr>\n",
       "      <th>757297</th>\n",
       "      <td>11632700</td>\n",
       "      <td>58</td>\n",
       "      <td>1</td>\n",
       "      <td>2</td>\n",
       "      <td>2738</td>\n",
       "      <td>NaN</td>\n",
       "      <td>0</td>\n",
       "    </tr>\n",
       "    <tr>\n",
       "      <th>757298</th>\n",
       "      <td>11632700</td>\n",
       "      <td>58</td>\n",
       "      <td>2</td>\n",
       "      <td>3</td>\n",
       "      <td>2739</td>\n",
       "      <td>NaN</td>\n",
       "      <td>0</td>\n",
       "    </tr>\n",
       "    <tr>\n",
       "      <th>757299</th>\n",
       "      <td>11632700</td>\n",
       "      <td>58</td>\n",
       "      <td>2</td>\n",
       "      <td>4</td>\n",
       "      <td>2740</td>\n",
       "      <td>NaN</td>\n",
       "      <td>0</td>\n",
       "    </tr>\n",
       "    <tr>\n",
       "      <th>757300</th>\n",
       "      <td>11632700</td>\n",
       "      <td>58</td>\n",
       "      <td>3</td>\n",
       "      <td>5</td>\n",
       "      <td>2741</td>\n",
       "      <td>NaN</td>\n",
       "      <td>0</td>\n",
       "    </tr>\n",
       "  </tbody>\n",
       "</table>\n",
       "</div>"
      ],
      "text/plain": [
       "        House ID  Day  Hour  Half Hour  Interval  kWh  Label\n",
       "757296  11632700   58     1          1      2737  NaN      0\n",
       "757297  11632700   58     1          2      2738  NaN      0\n",
       "757298  11632700   58     2          3      2739  NaN      0\n",
       "757299  11632700   58     2          4      2740  NaN      0\n",
       "757300  11632700   58     3          5      2741  NaN      0"
      ]
     },
     "metadata": {},
     "output_type": "display_data"
    }
   ],
   "source": [
    "all_missing_rows = ev_train_piv_lab_tmp['kWh'].isnull()\n",
    "display(ev_train_piv_lab_tmp[all_missing_rows].head())"
   ]
  },
  {
   "cell_type": "code",
   "execution_count": 16,
   "metadata": {
    "collapsed": true
   },
   "outputs": [],
   "source": [
    "house_hh_mean_df = ev_train_piv_lab_tmp.groupby(['House ID','Half Hour']).agg({'kWh':'mean'}).reset_index()"
   ]
  },
  {
   "cell_type": "code",
   "execution_count": null,
   "metadata": {},
   "outputs": [
    {
     "data": {
      "text/html": [
       "<div>\n",
       "<style>\n",
       "    .dataframe thead tr:only-child th {\n",
       "        text-align: right;\n",
       "    }\n",
       "\n",
       "    .dataframe thead th {\n",
       "        text-align: left;\n",
       "    }\n",
       "\n",
       "    .dataframe tbody tr th {\n",
       "        vertical-align: top;\n",
       "    }\n",
       "</style>\n",
       "<table border=\"1\" class=\"dataframe\">\n",
       "  <thead>\n",
       "    <tr style=\"text-align: right;\">\n",
       "      <th></th>\n",
       "      <th>House ID</th>\n",
       "      <th>Half Hour</th>\n",
       "      <th>kWh</th>\n",
       "    </tr>\n",
       "  </thead>\n",
       "  <tbody>\n",
       "    <tr>\n",
       "      <th>0</th>\n",
       "      <td>11628280</td>\n",
       "      <td>1</td>\n",
       "      <td>1.034950</td>\n",
       "    </tr>\n",
       "    <tr>\n",
       "      <th>1</th>\n",
       "      <td>11628280</td>\n",
       "      <td>2</td>\n",
       "      <td>0.990733</td>\n",
       "    </tr>\n",
       "    <tr>\n",
       "      <th>2</th>\n",
       "      <td>11628280</td>\n",
       "      <td>3</td>\n",
       "      <td>0.904383</td>\n",
       "    </tr>\n",
       "    <tr>\n",
       "      <th>3</th>\n",
       "      <td>11628280</td>\n",
       "      <td>4</td>\n",
       "      <td>0.940583</td>\n",
       "    </tr>\n",
       "    <tr>\n",
       "      <th>4</th>\n",
       "      <td>11628280</td>\n",
       "      <td>5</td>\n",
       "      <td>0.958350</td>\n",
       "    </tr>\n",
       "  </tbody>\n",
       "</table>\n",
       "</div>"
      ],
      "text/plain": [
       "   House ID  Half Hour       kWh\n",
       "0  11628280          1  1.034950\n",
       "1  11628280          2  0.990733\n",
       "2  11628280          3  0.904383\n",
       "3  11628280          4  0.940583\n",
       "4  11628280          5  0.958350"
      ]
     },
     "execution_count": 17,
     "metadata": {},
     "output_type": "execute_result"
    }
   ],
   "source": [
    "house_hh_mean_df.head()"
   ]
  },
  {
   "cell_type": "code",
   "execution_count": null,
   "metadata": {},
   "outputs": [
    {
     "name": "stderr",
     "output_type": "stream",
     "text": [
      "/Users/salvadornunez/anaconda/envs/ev-capstone/lib/python3.6/site-packages/ipykernel_launcher.py:15: SettingWithCopyWarning: \n",
      "A value is trying to be set on a copy of a slice from a DataFrame\n",
      "\n",
      "See the caveats in the documentation: http://pandas.pydata.org/pandas-docs/stable/indexing.html#indexing-view-versus-copy\n",
      "  from ipykernel import kernelapp as app\n"
     ]
    }
   ],
   "source": [
    "ev_train_piv_lab_tmp_filled = ev_train_piv_lab_tmp.copy()\n",
    "\n",
    "for idx, row in ev_train_piv_lab_tmp_filled[all_missing_rows].iterrows():\n",
    "\n",
    "    missing_interval = row['Interval']\n",
    "    missing_house = row['House ID']\n",
    "    missing_half_hour = row['Half Hour']\n",
    "    \n",
    "    house_rm = house_hh_mean_df['House ID'] == missing_house\n",
    "    half_hour_rm = house_hh_mean_df['Half Hour'] == missing_half_hour\n",
    "    house_half_hour_average = house_hh_mean_df[house_rm&half_hour_rm]['kWh'].values[0]\n",
    "    \n",
    "    house_rf = ev_train_piv_lab_tmp_filled['House ID'] == missing_house\n",
    "    interval_rf = ev_train_piv_lab_tmp_filled['Interval'] == missing_interval\n",
    "    ev_train_piv_lab_tmp_filled['kWh'][house_rf&interval_rf] = house_half_hour_average"
   ]
  },
  {
   "cell_type": "code",
   "execution_count": null,
   "metadata": {},
   "outputs": [],
   "source": [
    "display(ev_train_piv_lab_tmp.iloc[757292:757299,:])\n",
    "display(ev_train_piv_lab_tmp_filled.iloc[757292:757299,:])"
   ]
  },
  {
   "cell_type": "code",
   "execution_count": null,
   "metadata": {},
   "outputs": [],
   "source": [
    "print(ev_train_piv_lab_tmp_filled.shape)\n",
    "print(sum(ev_train_piv_lab_tmp_filled['Label']))\n",
    "print(sum(ev_train_piv_lab_tmp_filled['Label'])/ev_train_piv_lab_tmp_filled.shape[0])"
   ]
  },
  {
   "cell_type": "markdown",
   "metadata": {},
   "source": [
    "# House Classification"
   ]
  },
  {
   "cell_type": "markdown",
   "metadata": {},
   "source": [
    "### Transformation"
   ]
  },
  {
   "cell_type": "code",
   "execution_count": null,
   "metadata": {
    "collapsed": true
   },
   "outputs": [],
   "source": [
    "house_data_summary = ev_train_piv_lab_tmp_filled.groupby(['House ID', 'Half Hour']\n",
    "                                                ).agg({'kWh':['mean',np.std]}\n",
    "                                                     ).pivot_table(values='kWh',\n",
    "                                                                   index=['House ID'],\n",
    "                                                                   columns='Half Hour').reset_index()"
   ]
  },
  {
   "cell_type": "code",
   "execution_count": null,
   "metadata": {
    "collapsed": true
   },
   "outputs": [],
   "source": [
    "mean_cols = ['u_{}'.format(n) for n in np.arange(1,49)]\n",
    "sd_cols = ['s_{}'.format(n) for n in np.arange(1,49)]\n",
    "hds_cols = ['House ID'] + mean_cols + sd_cols\n",
    "house_data_summary.columns = hds_cols"
   ]
  },
  {
   "cell_type": "code",
   "execution_count": null,
   "metadata": {
    "collapsed": true
   },
   "outputs": [],
   "source": [
    "pct_cols = ['p_{}'.format(n) for n in np.arange(1,49)]\n",
    "house_data_summary[pct_cols] = house_data_summary[mean_cols].div(house_data_summary[mean_cols].sum(axis=1),axis=0)"
   ]
  },
  {
   "cell_type": "code",
   "execution_count": null,
   "metadata": {
    "collapsed": true
   },
   "outputs": [],
   "source": [
    "house_data_labels = ev_train_piv_lab_tmp_filled.groupby(['House ID']).agg({'Label':sum}).reset_index()\n",
    "house_data_labels['House Label'] = [1 if x > 0 else 0 for x in house_data_labels['Label']]\n",
    "house_data_labels.drop(['Label'], axis=1, inplace=True)\n",
    "house_data_df = house_data_summary.merge(house_data_labels, how='left', on='House ID')"
   ]
  },
  {
   "cell_type": "code",
   "execution_count": null,
   "metadata": {},
   "outputs": [],
   "source": [
    "X_house = house_data_df.copy()\n",
    "y_house = X_house['House Label']\n",
    "X_house.drop(['House Label'], axis=1, inplace=True)\n",
    "display(X_house.head())\n",
    "display(y_house.head())"
   ]
  },
  {
   "cell_type": "markdown",
   "metadata": {},
   "source": [
    "### House Training split"
   ]
  },
  {
   "cell_type": "code",
   "execution_count": null,
   "metadata": {
    "collapsed": true
   },
   "outputs": [],
   "source": [
    "from sklearn.model_selection import train_test_split\n",
    "\n",
    "X_train_house, X_valid_house, y_train_house, y_valid_house = train_test_split(X_house,\n",
    "                                                                            y_house,\n",
    "                                                                            test_size=0.25,\n",
    "                                                                            random_state=42)"
   ]
  },
  {
   "cell_type": "markdown",
   "metadata": {},
   "source": [
    "### F1 Score for Houses"
   ]
  },
  {
   "cell_type": "code",
   "execution_count": null,
   "metadata": {
    "collapsed": true
   },
   "outputs": [],
   "source": [
    "zero_zero_h = np.tile([0,0],int(len(y_valid_house)/2))\n",
    "zero_one_h = np.tile([0,1],int(len(y_valid_house)/2))\n",
    "one_one_h = np.tile([1,1],int(len(y_valid_house)/2))"
   ]
  },
  {
   "cell_type": "code",
   "execution_count": null,
   "metadata": {},
   "outputs": [],
   "source": [
    "print(f1_score(y_valid_house, zero_zero_h))\n",
    "print(f1_score(y_valid_house, zero_one_h))\n",
    "print(f1_score(y_valid_house, one_one_h))"
   ]
  },
  {
   "cell_type": "markdown",
   "metadata": {},
   "source": [
    "### K-Means Clustering"
   ]
  },
  {
   "cell_type": "code",
   "execution_count": null,
   "metadata": {},
   "outputs": [],
   "source": [
    "k_values = np.arange(2,20)\n",
    "\n",
    "centers_and_plot_dfs = []\n",
    "\n",
    "for k in k_values:\n",
    "    \n",
    "    kmeans_model = KMeans(n_clusters=k, random_state=42).fit(X_train_house[pct_cols].as_matrix())\n",
    "    \n",
    "    k_centers = kmeans_model.cluster_centers_\n",
    "    \n",
    "    k_col_name = \"k_{}\".format(k)\n",
    "    \n",
    "    X_train_house[k_col_name] = kmeans_model.labels_\n",
    "    \n",
    "    k_cols = pct_cols.copy()\n",
    "    \n",
    "    k_cols.insert(0, k_col_name)\n",
    "    \n",
    "    print(X_train_house[k_col_name].value_counts())\n",
    "    \n",
    "    k_cluster_mean_df = X_train_house.reset_index()[k_cols].groupby(k_col_name).mean()\n",
    "    \n",
    "    k_plot_df = k_cluster_mean_df.transpose()\n",
    "    \n",
    "    k_tuple = (k_centers, k_plot_df)\n",
    "    \n",
    "    centers_and_plot_dfs.append(k_tuple) "
   ]
  },
  {
   "cell_type": "code",
   "execution_count": null,
   "metadata": {},
   "outputs": [],
   "source": [
    "for c, df in centers_and_plot_dfs:\n",
    "    df.plot(xticks=np.arange(1,49), figsize=(12,6))"
   ]
  },
  {
   "cell_type": "code",
   "execution_count": null,
   "metadata": {
    "collapsed": true
   },
   "outputs": [],
   "source": [
    "count_test = X_train_house.copy()\n",
    "count_test['Label'] = y_train_house"
   ]
  },
  {
   "cell_type": "code",
   "execution_count": null,
   "metadata": {},
   "outputs": [],
   "source": [
    "for k in k_values:\n",
    "    k_col_name = \"k_{}\".format(k)\n",
    "    count_test_percent = count_test.groupby(k_col_name)['Label'].sum()/count_test.groupby(k_col_name)['Label'].count()\n",
    "    print(k_col_name, (max(count_test_percent) / min(count_test_percent)))"
   ]
  },
  {
   "cell_type": "code",
   "execution_count": null,
   "metadata": {},
   "outputs": [],
   "source": [
    "k_list = np.arange(2,20).tolist()\n",
    "k_list.remove(9)\n",
    "columns_to_remove = [\"k_{}\".format(k) for k in k_list]\n",
    "X_train_house.drop(columns_to_remove, axis=1, inplace=True)"
   ]
  },
  {
   "cell_type": "code",
   "execution_count": null,
   "metadata": {},
   "outputs": [],
   "source": [
    "X_train_house.iloc[:, 1:145].head()"
   ]
  },
  {
   "cell_type": "markdown",
   "metadata": {},
   "source": [
    "### Apply Predict k-means cluster based on k-nearest neighbors"
   ]
  },
  {
   "cell_type": "code",
   "execution_count": null,
   "metadata": {},
   "outputs": [],
   "source": [
    "neigh = KNeighborsClassifier(n_neighbors=5)\n",
    "neigh.fit(X_train_house.iloc[:, 1:145], X_train_house.iloc[:,145]) \n",
    "X_valid_house['k_9'] = neigh.predict(X_valid_house.iloc[:, 1:145])"
   ]
  },
  {
   "cell_type": "markdown",
   "metadata": {
    "collapsed": true
   },
   "source": [
    "### House Prediction"
   ]
  },
  {
   "cell_type": "code",
   "execution_count": null,
   "metadata": {},
   "outputs": [],
   "source": [
    "h_clf1 = GradientBoostingClassifier(random_state = 42)\n",
    "h_clf1.fit(X_train_house, y_train_house)"
   ]
  },
  {
   "cell_type": "code",
   "execution_count": null,
   "metadata": {},
   "outputs": [],
   "source": [
    "h_clf1.feature_importances_"
   ]
  },
  {
   "cell_type": "code",
   "execution_count": null,
   "metadata": {
    "collapsed": true
   },
   "outputs": [],
   "source": [
    "y_train_house_pred = h_clf1.predict(X_train_house)"
   ]
  },
  {
   "cell_type": "code",
   "execution_count": null,
   "metadata": {},
   "outputs": [],
   "source": [
    "f1_score(y_train_house, y_train_house_pred)"
   ]
  },
  {
   "cell_type": "code",
   "execution_count": null,
   "metadata": {},
   "outputs": [],
   "source": [
    "confusion_matrix(y_train_house, y_train_house_pred)"
   ]
  },
  {
   "cell_type": "code",
   "execution_count": null,
   "metadata": {
    "collapsed": true
   },
   "outputs": [],
   "source": [
    "y_valid_house_pred = h_clf1.predict(X_valid_house)"
   ]
  },
  {
   "cell_type": "code",
   "execution_count": null,
   "metadata": {},
   "outputs": [],
   "source": [
    "f1_score(y_valid_house, y_valid_house_pred)"
   ]
  },
  {
   "cell_type": "code",
   "execution_count": null,
   "metadata": {},
   "outputs": [],
   "source": [
    "confusion_matrix(y_valid_house, y_valid_house_pred)"
   ]
  },
  {
   "cell_type": "markdown",
   "metadata": {},
   "source": [
    "# Time Classification"
   ]
  },
  {
   "cell_type": "code",
   "execution_count": null,
   "metadata": {
    "collapsed": true
   },
   "outputs": [],
   "source": [
    "ev_train_piv_lab_tmp_filled_tmp_transformed = ev_train_piv_lab_tmp_filled.copy()"
   ]
  },
  {
   "cell_type": "code",
   "execution_count": null,
   "metadata": {},
   "outputs": [],
   "source": [
    "print(y_train_house.sum())\n",
    "print(y_valid_house_pred.sum())"
   ]
  },
  {
   "cell_type": "code",
   "execution_count": null,
   "metadata": {},
   "outputs": [],
   "source": [
    "h_time_train = X_train_house['House ID'][y_train_house>0].values\n",
    "h_time_valid = X_valid_house['House ID'][y_valid_house_pred>0].values"
   ]
  },
  {
   "cell_type": "code",
   "execution_count": null,
   "metadata": {},
   "outputs": [],
   "source": [
    "X_train_bool = ev_train_piv_lab_tmp_filled_tmp_transformed['House ID'].isin(h_time_train)\n",
    "X_valid_bool = ev_train_piv_lab_tmp_filled_tmp_transformed['House ID'].isin(h_time_valid)"
   ]
  },
  {
   "cell_type": "code",
   "execution_count": null,
   "metadata": {},
   "outputs": [],
   "source": [
    "X_train_time = ev_train_piv_lab_tmp_filled_tmp_transformed[X_train_bool]\n",
    "y_train_time = X_train_time['Label']\n",
    "X_train_time.drop(['Label'], axis=1, inplace=True)\n",
    "display(X_train_time.head())\n",
    "display(y_train_time.head())"
   ]
  },
  {
   "cell_type": "code",
   "execution_count": null,
   "metadata": {},
   "outputs": [],
   "source": [
    "X_valid_time = ev_train_piv_lab_tmp_filled_tmp_transformed[X_valid_bool]\n",
    "y_valid_time = X_valid_time['Label']\n",
    "X_valid_time.drop(['Label'], axis=1, inplace=True)\n",
    "display(X_valid_time.head())\n",
    "display(y_valid_time.head())"
   ]
  },
  {
   "cell_type": "code",
   "execution_count": null,
   "metadata": {},
   "outputs": [],
   "source": [
    "print(X_train_time.shape[0]/2880)\n",
    "print(X_valid_time.shape[0]/2880)"
   ]
  }
 ],
 "metadata": {
  "kernelspec": {
   "display_name": "EV Capstone Project",
   "language": "python",
   "name": "ev-capstone"
  },
  "language_info": {
   "codemirror_mode": {
    "name": "ipython",
    "version": 3
   },
   "file_extension": ".py",
   "mimetype": "text/x-python",
   "name": "python",
   "nbconvert_exporter": "python",
   "pygments_lexer": "ipython3",
   "version": "3.6.2"
  }
 },
 "nbformat": 4,
 "nbformat_minor": 2
}
