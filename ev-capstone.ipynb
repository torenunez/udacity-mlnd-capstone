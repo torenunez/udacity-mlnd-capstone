{
 "cells": [
  {
   "cell_type": "markdown",
   "metadata": {},
   "source": [
    "# Machine Learning Nanodegree\n",
    "## Capstone Project: Electric Vehicle Detection "
   ]
  },
  {
   "cell_type": "markdown",
   "metadata": {},
   "source": [
    "# Introduction"
   ]
  },
  {
   "cell_type": "markdown",
   "metadata": {},
   "source": [
    "### Setup"
   ]
  },
  {
   "cell_type": "code",
   "execution_count": 1,
   "metadata": {
    "collapsed": true
   },
   "outputs": [],
   "source": [
    "# Import libraries necessary for this project\n",
    "import math\n",
    "import numpy as np\n",
    "import pandas as pd\n",
    "from IPython.display import display, Image \n",
    "from sklearn.cluster import KMeans\n",
    "from sklearn.linear_model import LogisticRegression\n",
    "from sklearn.svm import SVC\n",
    "from sklearn.ensemble import GradientBoostingClassifier\n",
    "from sklearn.neural_network import MLPClassifier\n",
    "from sklearn.metrics import f1_score, confusion_matrix\n",
    "from sklearn.neighbors import KNeighborsClassifier\n",
    "\n",
    "# Pretty display for notebooks\n",
    "%matplotlib inline"
   ]
  },
  {
   "cell_type": "markdown",
   "metadata": {},
   "source": [
    "## Define Utiliy Functions"
   ]
  },
  {
   "cell_type": "code",
   "execution_count": 2,
   "metadata": {},
   "outputs": [],
   "source": [
    "def pivot_raw_dataframe(df):\n",
    "\tpass\n",
    "\n",
    "def add_implicit_temporal_dimensions(df):\n",
    "\tpass\n",
    "\n",
    "def fill_missing_values(df):\n",
    "\tpass\n",
    "\n",
    "def describe_houses(df):\n",
    "\tpass\n",
    "\n",
    "def cluster_retrieve_best_k(h_X, h_y, k_min=2, k_max=10):\n",
    "\n",
    "\tmax_k_percent = 0\n",
    "\n",
    "\tbest_k = None\n",
    "\tbest_k_col_name = None\n",
    "\th_X_with_cluster = None\n",
    "\tcluster_centers_df = None\n",
    "\n",
    "\tk_values = np.arange(k_min, k_max+1)\n",
    "\n",
    "\tpct_cols = ['p_{}'.format(n) for n in np.arange(1,49)]\n",
    "\n",
    "\tfor k in k_values:\n",
    "\n",
    "\t\th_X_with_k = h_X.copy()\n",
    "\t\t\n",
    "\t\t# assign cluster\n",
    "\t\tkmeans_model = KMeans(n_clusters=k, random_state=42).fit(h_X_with_k[pct_cols].as_matrix())\n",
    "\t\tk_col_name = \"k_{}\".format(k)\n",
    "\t\th_X_with_k[k_col_name] = kmeans_model.labels_\n",
    "\n",
    "\t\t# calculate ratio between clusters with max and min amount of EV labeled houses \n",
    "\t\tcount_test = h_X_with_k.copy()\n",
    "\t\tcount_test['Label'] = h_y\n",
    "\t\tcount_test_percent = count_test.groupby(k_col_name)['Label'].sum()/count_test.groupby(k_col_name)['Label'].count()\n",
    "\t\tk_percent = (max(count_test_percent) / min(count_test_percent))\n",
    "\t    \n",
    "\t \t# save k that maximizes ratio\n",
    "\t\tif k_percent > max_k_percent:\n",
    "\t\t\tmax_k_percent = k_percent\n",
    "\t\t\tbest_k = k\n",
    "\t\t\tbest_k_col_name = k_col_name\n",
    "\t\t\th_X_with_cluster = h_X_with_k\n",
    "\t\t\tcluster_centers_df = kmeans_model.cluster_centers_\n",
    "\n",
    "\t# describe results\n",
    "\tprint(\"Best clustering was when k = {}, with a ratio of {:.3f}\".format(best_k, max_k_percent))\n",
    "\tpd.DataFrame(cluster_centers_df).T.plot()\n",
    "\n",
    "\t# clean up centers_df\n",
    "\tcluster_centers_df = pd.DataFrame(cluster_centers_df).T.reset_index()\n",
    "\tcluster_centers_df.columns = ['Half Hour']+[\"c{}\".format(k) for k in np.arange(1,best_k+1).tolist()]\n",
    "\tcluster_centers_df['Half Hour'] = cluster_centers_df['Half Hour']+1\n",
    "\n",
    "\treturn h_X_with_cluster, cluster_centers_df, best_k_col_name\n",
    "\n",
    "\n",
    "def transform_house_subset_to_time(h_X, h_y, all_processed_df):\n",
    "\n",
    "\thouse_ids = h_X['House ID'][h_y>0].values\n",
    "\n",
    "\tkeep_records = all_processed_df['House ID'].isin(house_ids)\n",
    "\n",
    "\tt_X = all_processed_df[keep_records]\n",
    "\n",
    "\tt_y = t_X['Label']\n",
    "\n",
    "\tt_X.drop(['Label'], axis=1, inplace=True)\n",
    "\n",
    "\treturn t_X, t_y\n",
    "\n",
    "\n",
    "def augment_time_data(t_X, h_X, centers_df, k_col='k_9', diff_days=7):\n",
    "\n",
    "\t# day aggregation\n",
    "\tday_totals_df = t_X.groupby(['House ID','Day']).agg({'kWh':sum}).reset_index()\n",
    "\tday_totals_df.columns = ['House ID', 'Day', 'Day_kWh'] \n",
    "\n",
    "\t# join\n",
    "\tt_X_aug = t_X.merge(day_totals_df, how='left', on=['House ID', 'Day'])\n",
    "\tt_X_aug = t_X_aug.merge(h_X[['House ID', k_col]], how='left', on='House ID')\n",
    "\tt_X_aug = t_X_aug.merge(centers_df, how='left', on='Half Hour')\n",
    "\n",
    "\t# scale up centers\n",
    "\tc_names = centers_df.columns.values.tolist()\n",
    "\tc_names.pop(0)\n",
    "\n",
    "\tt_X_aug[c_names] = t_X_aug[c_names].multiply(t_X_aug['Day_kWh'], axis='index')\n",
    "\n",
    "\t# calculate day difference\n",
    "\tfor d in np.arange(1,diff_days+1):\n",
    "\t\tday_diff_col_name = \"{}d_diff\".format(d)\n",
    "\t\tt_X_aug[day_diff_col_name] = t_X_aug.groupby(['House ID','Half Hour'])['kWh'].diff(periods=d)\n",
    "\n",
    "\t# fill na to run model\n",
    "\tt_X_aug.fillna(value=0, inplace=True)\n",
    "\n",
    "\treturn t_X_aug\n",
    "\n",
    "\n",
    "def show_baseline_f1_scores(y):\n",
    "\n",
    "\tzero_zero = np.tile([0,0],math.floor(len(y)/2))\n",
    "\tif len(zero_zero) < len(y):\n",
    "\t\tzero_zero.append(0)\n",
    "\t\n",
    "\tzero_one = np.tile([0,1],math.floor(len(y)/2))\n",
    "\tif len(zero_zero) < len(y):\n",
    "\t\tzero_zero.append(0)\n",
    "\t\n",
    "\tone_one = np.tile([1,1],math.floor(len(y)/2))\n",
    "\tif len(zero_zero) < len(y):\n",
    "\t\tzero_zero.append(1)\n",
    "\n",
    "\tprint (\"All 0 F-score: {0:.3f}\".format(f1_score(y, zero_zero)))\n",
    "\tprint (\"Alternating 0,1 F-score: {0:.3f}\".format(f1_score(y, zero_one)))\n",
    "\tprint (\"All 1 F-score: {0:.3f}\".format(f1_score(y, one_one)))\n",
    "\n",
    "\n",
    "def format_EV_predictions(y, X, first_int=1, final_int=2880):\n",
    "\n",
    "\tpreds_long = X[['House ID', 'Interval']].copy()\n",
    "\n",
    "\tpreds_long['Label'] = y\n",
    "\n",
    "\tpreds = preds_long.pivot(index='House ID',columns='Interval')\n",
    "\n",
    "\tpreds.columns = preds.columns.get_level_values(0)\n",
    "\n",
    "\tpreds.columns = [\"Interval_{}\".format(i) for i in np.arange(first_int, final_int+1).tolist()]\n",
    "\n",
    "\treturn preds\n"
   ]
  },
  {
   "cell_type": "markdown",
   "metadata": {},
   "source": [
    "# Data Clean Up"
   ]
  },
  {
   "cell_type": "markdown",
   "metadata": {},
   "source": [
    "### Import"
   ]
  },
  {
   "cell_type": "code",
   "execution_count": 3,
   "metadata": {
    "collapsed": true
   },
   "outputs": [],
   "source": [
    "ev_train_raw = pd.read_csv('EV_train.csv')\n",
    "ev_train_labels_raw = pd.read_csv('EV_train_labels.csv')"
   ]
  },
  {
   "cell_type": "code",
   "execution_count": 4,
   "metadata": {},
   "outputs": [
    {
     "name": "stdout",
     "output_type": "stream",
     "text": [
      "(1590, 2881)\n",
      "(1590, 2881)\n"
     ]
    },
    {
     "data": {
      "text/html": [
       "<div>\n",
       "<style>\n",
       "    .dataframe thead tr:only-child th {\n",
       "        text-align: right;\n",
       "    }\n",
       "\n",
       "    .dataframe thead th {\n",
       "        text-align: left;\n",
       "    }\n",
       "\n",
       "    .dataframe tbody tr th {\n",
       "        vertical-align: top;\n",
       "    }\n",
       "</style>\n",
       "<table border=\"1\" class=\"dataframe\">\n",
       "  <thead>\n",
       "    <tr style=\"text-align: right;\">\n",
       "      <th></th>\n",
       "      <th>House ID</th>\n",
       "      <th>Interval_1</th>\n",
       "      <th>Interval_2</th>\n",
       "      <th>Interval_3</th>\n",
       "      <th>Interval_4</th>\n",
       "      <th>Interval_5</th>\n",
       "      <th>Interval_6</th>\n",
       "      <th>Interval_7</th>\n",
       "      <th>Interval_8</th>\n",
       "      <th>Interval_9</th>\n",
       "      <th>...</th>\n",
       "      <th>Interval_2871</th>\n",
       "      <th>Interval_2872</th>\n",
       "      <th>Interval_2873</th>\n",
       "      <th>Interval_2874</th>\n",
       "      <th>Interval_2875</th>\n",
       "      <th>Interval_2876</th>\n",
       "      <th>Interval_2877</th>\n",
       "      <th>Interval_2878</th>\n",
       "      <th>Interval_2879</th>\n",
       "      <th>Interval_2880</th>\n",
       "    </tr>\n",
       "  </thead>\n",
       "  <tbody>\n",
       "    <tr>\n",
       "      <th>0</th>\n",
       "      <td>11655099</td>\n",
       "      <td>0.950</td>\n",
       "      <td>0.826</td>\n",
       "      <td>0.361</td>\n",
       "      <td>0.238</td>\n",
       "      <td>0.342</td>\n",
       "      <td>0.233000</td>\n",
       "      <td>0.351000</td>\n",
       "      <td>0.194000</td>\n",
       "      <td>0.292000</td>\n",
       "      <td>...</td>\n",
       "      <td>0.664</td>\n",
       "      <td>0.783</td>\n",
       "      <td>0.601</td>\n",
       "      <td>0.639</td>\n",
       "      <td>0.417</td>\n",
       "      <td>0.439</td>\n",
       "      <td>0.226</td>\n",
       "      <td>0.190</td>\n",
       "      <td>0.710</td>\n",
       "      <td>0.728</td>\n",
       "    </tr>\n",
       "    <tr>\n",
       "      <th>1</th>\n",
       "      <td>11633257</td>\n",
       "      <td>0.353</td>\n",
       "      <td>0.327</td>\n",
       "      <td>0.358</td>\n",
       "      <td>0.292</td>\n",
       "      <td>0.285</td>\n",
       "      <td>0.304000</td>\n",
       "      <td>0.361000</td>\n",
       "      <td>0.342000</td>\n",
       "      <td>0.355000</td>\n",
       "      <td>...</td>\n",
       "      <td>0.536</td>\n",
       "      <td>0.558</td>\n",
       "      <td>0.622</td>\n",
       "      <td>0.634</td>\n",
       "      <td>0.513</td>\n",
       "      <td>0.421</td>\n",
       "      <td>0.273</td>\n",
       "      <td>0.296</td>\n",
       "      <td>0.291</td>\n",
       "      <td>0.289</td>\n",
       "    </tr>\n",
       "    <tr>\n",
       "      <th>2</th>\n",
       "      <td>11651552</td>\n",
       "      <td>0.150</td>\n",
       "      <td>0.181</td>\n",
       "      <td>0.150</td>\n",
       "      <td>0.150</td>\n",
       "      <td>0.131</td>\n",
       "      <td>0.125000</td>\n",
       "      <td>0.088000</td>\n",
       "      <td>0.106000</td>\n",
       "      <td>0.094000</td>\n",
       "      <td>...</td>\n",
       "      <td>2.125</td>\n",
       "      <td>0.881</td>\n",
       "      <td>0.481</td>\n",
       "      <td>1.194</td>\n",
       "      <td>0.138</td>\n",
       "      <td>0.119</td>\n",
       "      <td>0.038</td>\n",
       "      <td>0.088</td>\n",
       "      <td>0.056</td>\n",
       "      <td>0.113</td>\n",
       "    </tr>\n",
       "    <tr>\n",
       "      <th>3</th>\n",
       "      <td>11636092</td>\n",
       "      <td>2.088</td>\n",
       "      <td>2.075</td>\n",
       "      <td>2.121</td>\n",
       "      <td>2.098</td>\n",
       "      <td>2.046</td>\n",
       "      <td>2.081000</td>\n",
       "      <td>1.847000</td>\n",
       "      <td>0.420000</td>\n",
       "      <td>0.399000</td>\n",
       "      <td>...</td>\n",
       "      <td>0.620</td>\n",
       "      <td>0.487</td>\n",
       "      <td>0.563</td>\n",
       "      <td>0.419</td>\n",
       "      <td>0.379</td>\n",
       "      <td>0.359</td>\n",
       "      <td>0.347</td>\n",
       "      <td>0.325</td>\n",
       "      <td>0.330</td>\n",
       "      <td>0.340</td>\n",
       "    </tr>\n",
       "    <tr>\n",
       "      <th>4</th>\n",
       "      <td>11647239</td>\n",
       "      <td>1.416</td>\n",
       "      <td>1.250</td>\n",
       "      <td>1.270</td>\n",
       "      <td>1.258</td>\n",
       "      <td>1.239</td>\n",
       "      <td>1.753105</td>\n",
       "      <td>4.609256</td>\n",
       "      <td>4.619256</td>\n",
       "      <td>4.075151</td>\n",
       "      <td>...</td>\n",
       "      <td>1.596</td>\n",
       "      <td>1.667</td>\n",
       "      <td>1.569</td>\n",
       "      <td>1.664</td>\n",
       "      <td>1.580</td>\n",
       "      <td>1.635</td>\n",
       "      <td>1.568</td>\n",
       "      <td>1.565</td>\n",
       "      <td>1.575</td>\n",
       "      <td>1.571</td>\n",
       "    </tr>\n",
       "  </tbody>\n",
       "</table>\n",
       "<p>5 rows × 2881 columns</p>\n",
       "</div>"
      ],
      "text/plain": [
       "   House ID  Interval_1  Interval_2  Interval_3  Interval_4  Interval_5  \\\n",
       "0  11655099       0.950       0.826       0.361       0.238       0.342   \n",
       "1  11633257       0.353       0.327       0.358       0.292       0.285   \n",
       "2  11651552       0.150       0.181       0.150       0.150       0.131   \n",
       "3  11636092       2.088       2.075       2.121       2.098       2.046   \n",
       "4  11647239       1.416       1.250       1.270       1.258       1.239   \n",
       "\n",
       "   Interval_6  Interval_7  Interval_8  Interval_9      ...        \\\n",
       "0    0.233000    0.351000    0.194000    0.292000      ...         \n",
       "1    0.304000    0.361000    0.342000    0.355000      ...         \n",
       "2    0.125000    0.088000    0.106000    0.094000      ...         \n",
       "3    2.081000    1.847000    0.420000    0.399000      ...         \n",
       "4    1.753105    4.609256    4.619256    4.075151      ...         \n",
       "\n",
       "   Interval_2871  Interval_2872  Interval_2873  Interval_2874  Interval_2875  \\\n",
       "0          0.664          0.783          0.601          0.639          0.417   \n",
       "1          0.536          0.558          0.622          0.634          0.513   \n",
       "2          2.125          0.881          0.481          1.194          0.138   \n",
       "3          0.620          0.487          0.563          0.419          0.379   \n",
       "4          1.596          1.667          1.569          1.664          1.580   \n",
       "\n",
       "   Interval_2876  Interval_2877  Interval_2878  Interval_2879  Interval_2880  \n",
       "0          0.439          0.226          0.190          0.710          0.728  \n",
       "1          0.421          0.273          0.296          0.291          0.289  \n",
       "2          0.119          0.038          0.088          0.056          0.113  \n",
       "3          0.359          0.347          0.325          0.330          0.340  \n",
       "4          1.635          1.568          1.565          1.575          1.571  \n",
       "\n",
       "[5 rows x 2881 columns]"
      ]
     },
     "metadata": {},
     "output_type": "display_data"
    },
    {
     "data": {
      "text/html": [
       "<div>\n",
       "<style>\n",
       "    .dataframe thead tr:only-child th {\n",
       "        text-align: right;\n",
       "    }\n",
       "\n",
       "    .dataframe thead th {\n",
       "        text-align: left;\n",
       "    }\n",
       "\n",
       "    .dataframe tbody tr th {\n",
       "        vertical-align: top;\n",
       "    }\n",
       "</style>\n",
       "<table border=\"1\" class=\"dataframe\">\n",
       "  <thead>\n",
       "    <tr style=\"text-align: right;\">\n",
       "      <th></th>\n",
       "      <th>House ID</th>\n",
       "      <th>Interval_1</th>\n",
       "      <th>Interval_2</th>\n",
       "      <th>Interval_3</th>\n",
       "      <th>Interval_4</th>\n",
       "      <th>Interval_5</th>\n",
       "      <th>Interval_6</th>\n",
       "      <th>Interval_7</th>\n",
       "      <th>Interval_8</th>\n",
       "      <th>Interval_9</th>\n",
       "      <th>...</th>\n",
       "      <th>Interval_2871</th>\n",
       "      <th>Interval_2872</th>\n",
       "      <th>Interval_2873</th>\n",
       "      <th>Interval_2874</th>\n",
       "      <th>Interval_2875</th>\n",
       "      <th>Interval_2876</th>\n",
       "      <th>Interval_2877</th>\n",
       "      <th>Interval_2878</th>\n",
       "      <th>Interval_2879</th>\n",
       "      <th>Interval_2880</th>\n",
       "    </tr>\n",
       "  </thead>\n",
       "  <tbody>\n",
       "    <tr>\n",
       "      <th>0</th>\n",
       "      <td>11655099</td>\n",
       "      <td>0</td>\n",
       "      <td>0</td>\n",
       "      <td>0</td>\n",
       "      <td>0</td>\n",
       "      <td>0</td>\n",
       "      <td>0</td>\n",
       "      <td>0</td>\n",
       "      <td>0</td>\n",
       "      <td>0</td>\n",
       "      <td>...</td>\n",
       "      <td>0</td>\n",
       "      <td>0</td>\n",
       "      <td>0</td>\n",
       "      <td>0</td>\n",
       "      <td>0</td>\n",
       "      <td>0</td>\n",
       "      <td>0</td>\n",
       "      <td>0</td>\n",
       "      <td>0</td>\n",
       "      <td>0</td>\n",
       "    </tr>\n",
       "    <tr>\n",
       "      <th>1</th>\n",
       "      <td>11633257</td>\n",
       "      <td>0</td>\n",
       "      <td>0</td>\n",
       "      <td>0</td>\n",
       "      <td>0</td>\n",
       "      <td>0</td>\n",
       "      <td>0</td>\n",
       "      <td>0</td>\n",
       "      <td>0</td>\n",
       "      <td>0</td>\n",
       "      <td>...</td>\n",
       "      <td>0</td>\n",
       "      <td>0</td>\n",
       "      <td>0</td>\n",
       "      <td>0</td>\n",
       "      <td>0</td>\n",
       "      <td>0</td>\n",
       "      <td>0</td>\n",
       "      <td>0</td>\n",
       "      <td>0</td>\n",
       "      <td>0</td>\n",
       "    </tr>\n",
       "    <tr>\n",
       "      <th>2</th>\n",
       "      <td>11651552</td>\n",
       "      <td>0</td>\n",
       "      <td>0</td>\n",
       "      <td>0</td>\n",
       "      <td>0</td>\n",
       "      <td>0</td>\n",
       "      <td>0</td>\n",
       "      <td>0</td>\n",
       "      <td>0</td>\n",
       "      <td>0</td>\n",
       "      <td>...</td>\n",
       "      <td>0</td>\n",
       "      <td>0</td>\n",
       "      <td>0</td>\n",
       "      <td>0</td>\n",
       "      <td>0</td>\n",
       "      <td>0</td>\n",
       "      <td>0</td>\n",
       "      <td>0</td>\n",
       "      <td>0</td>\n",
       "      <td>0</td>\n",
       "    </tr>\n",
       "    <tr>\n",
       "      <th>3</th>\n",
       "      <td>11636092</td>\n",
       "      <td>0</td>\n",
       "      <td>0</td>\n",
       "      <td>0</td>\n",
       "      <td>0</td>\n",
       "      <td>0</td>\n",
       "      <td>0</td>\n",
       "      <td>0</td>\n",
       "      <td>0</td>\n",
       "      <td>0</td>\n",
       "      <td>...</td>\n",
       "      <td>0</td>\n",
       "      <td>0</td>\n",
       "      <td>0</td>\n",
       "      <td>0</td>\n",
       "      <td>0</td>\n",
       "      <td>0</td>\n",
       "      <td>0</td>\n",
       "      <td>0</td>\n",
       "      <td>0</td>\n",
       "      <td>0</td>\n",
       "    </tr>\n",
       "    <tr>\n",
       "      <th>4</th>\n",
       "      <td>11647239</td>\n",
       "      <td>0</td>\n",
       "      <td>0</td>\n",
       "      <td>0</td>\n",
       "      <td>0</td>\n",
       "      <td>0</td>\n",
       "      <td>1</td>\n",
       "      <td>1</td>\n",
       "      <td>1</td>\n",
       "      <td>1</td>\n",
       "      <td>...</td>\n",
       "      <td>0</td>\n",
       "      <td>0</td>\n",
       "      <td>0</td>\n",
       "      <td>0</td>\n",
       "      <td>0</td>\n",
       "      <td>0</td>\n",
       "      <td>0</td>\n",
       "      <td>0</td>\n",
       "      <td>0</td>\n",
       "      <td>0</td>\n",
       "    </tr>\n",
       "  </tbody>\n",
       "</table>\n",
       "<p>5 rows × 2881 columns</p>\n",
       "</div>"
      ],
      "text/plain": [
       "   House ID  Interval_1  Interval_2  Interval_3  Interval_4  Interval_5  \\\n",
       "0  11655099           0           0           0           0           0   \n",
       "1  11633257           0           0           0           0           0   \n",
       "2  11651552           0           0           0           0           0   \n",
       "3  11636092           0           0           0           0           0   \n",
       "4  11647239           0           0           0           0           0   \n",
       "\n",
       "   Interval_6  Interval_7  Interval_8  Interval_9      ...        \\\n",
       "0           0           0           0           0      ...         \n",
       "1           0           0           0           0      ...         \n",
       "2           0           0           0           0      ...         \n",
       "3           0           0           0           0      ...         \n",
       "4           1           1           1           1      ...         \n",
       "\n",
       "   Interval_2871  Interval_2872  Interval_2873  Interval_2874  Interval_2875  \\\n",
       "0              0              0              0              0              0   \n",
       "1              0              0              0              0              0   \n",
       "2              0              0              0              0              0   \n",
       "3              0              0              0              0              0   \n",
       "4              0              0              0              0              0   \n",
       "\n",
       "   Interval_2876  Interval_2877  Interval_2878  Interval_2879  Interval_2880  \n",
       "0              0              0              0              0              0  \n",
       "1              0              0              0              0              0  \n",
       "2              0              0              0              0              0  \n",
       "3              0              0              0              0              0  \n",
       "4              0              0              0              0              0  \n",
       "\n",
       "[5 rows x 2881 columns]"
      ]
     },
     "metadata": {},
     "output_type": "display_data"
    },
    {
     "name": "stdout",
     "output_type": "stream",
     "text": [
      "True\n",
      "False\n"
     ]
    }
   ],
   "source": [
    "print(ev_train_raw.shape)\n",
    "print(ev_train_labels_raw.shape)\n",
    "display(ev_train_raw.head())\n",
    "display(ev_train_labels_raw.head())\n",
    "print(ev_train_raw.isnull().values.any())  # Null values in training dataset?\n",
    "print(ev_train_labels_raw.isnull().values.any())  #Null values in training labels?"
   ]
  },
  {
   "cell_type": "markdown",
   "metadata": {},
   "source": [
    "### Quantify Missing Values"
   ]
  },
  {
   "cell_type": "code",
   "execution_count": 5,
   "metadata": {},
   "outputs": [
    {
     "data": {
      "text/plain": [
       "1    288\n",
       "4     48\n",
       "3     48\n",
       "2     48\n",
       "dtype: int64"
      ]
     },
     "execution_count": 5,
     "metadata": {},
     "output_type": "execute_result"
    }
   ],
   "source": [
    "# Missing value frequency by interval\n",
    "ev_train_raw.isnull().sum(axis=0)[ev_train_raw.isnull().sum(axis=0)>0].value_counts()"
   ]
  },
  {
   "cell_type": "code",
   "execution_count": 6,
   "metadata": {},
   "outputs": [
    {
     "data": {
      "text/plain": [
       "432    1\n",
       "48     1\n",
       "144    1\n",
       "96     1\n",
       "dtype: int64"
      ]
     },
     "execution_count": 6,
     "metadata": {},
     "output_type": "execute_result"
    }
   ],
   "source": [
    "# Missing value frequency by house\n",
    "ev_train_raw.isnull().sum(axis=1)[ev_train_raw.isnull().sum(axis=1)>0].value_counts()"
   ]
  },
  {
   "cell_type": "markdown",
   "metadata": {},
   "source": [
    "### Add Temporal Dimensions"
   ]
  },
  {
   "cell_type": "code",
   "execution_count": 7,
   "metadata": {
    "collapsed": true
   },
   "outputs": [],
   "source": [
    "ev_train_pivot = ev_train_raw.copy()\n",
    "ev_train_pivot = pd.wide_to_long(ev_train_pivot, stubnames='Interval_', i='House ID', j='kWh').reset_index()\n",
    "ev_train_pivot.columns = ['House ID', 'Interval', 'kWh']\n",
    "ev_train_pivot['Interval'] = pd.to_numeric(ev_train_pivot['Interval'], downcast='integer')\n",
    "ev_train_pivot = ev_train_pivot.sort_values(['House ID', 'Interval']).reset_index(drop=True)"
   ]
  },
  {
   "cell_type": "code",
   "execution_count": 8,
   "metadata": {
    "collapsed": true
   },
   "outputs": [],
   "source": [
    "ev_train_labels_pivot = ev_train_labels_raw.copy()\n",
    "ev_train_labels_pivot = pd.wide_to_long(ev_train_labels_pivot, stubnames='Interval_', i='House ID', j='label').reset_index()\n",
    "ev_train_labels_pivot.columns = ['House ID', 'Interval', 'Label']\n",
    "ev_train_labels_pivot['Interval'] = pd.to_numeric(ev_train_labels_pivot['Interval'], downcast='integer')\n",
    "ev_train_labels_pivot = ev_train_labels_pivot.sort_values(['House ID', 'Interval']).reset_index(drop=True)"
   ]
  },
  {
   "cell_type": "code",
   "execution_count": 9,
   "metadata": {
    "collapsed": true
   },
   "outputs": [],
   "source": [
    "ev_train_pivot_label = pd.concat([ev_train_pivot, ev_train_labels_pivot['Label']], axis=1)"
   ]
  },
  {
   "cell_type": "code",
   "execution_count": 10,
   "metadata": {},
   "outputs": [
    {
     "data": {
      "text/html": [
       "<div>\n",
       "<style>\n",
       "    .dataframe thead tr:only-child th {\n",
       "        text-align: right;\n",
       "    }\n",
       "\n",
       "    .dataframe thead th {\n",
       "        text-align: left;\n",
       "    }\n",
       "\n",
       "    .dataframe tbody tr th {\n",
       "        vertical-align: top;\n",
       "    }\n",
       "</style>\n",
       "<table border=\"1\" class=\"dataframe\">\n",
       "  <thead>\n",
       "    <tr style=\"text-align: right;\">\n",
       "      <th></th>\n",
       "      <th>House ID</th>\n",
       "      <th>Interval</th>\n",
       "      <th>kWh</th>\n",
       "      <th>Label</th>\n",
       "    </tr>\n",
       "  </thead>\n",
       "  <tbody>\n",
       "    <tr>\n",
       "      <th>3173760</th>\n",
       "      <td>11647239</td>\n",
       "      <td>1</td>\n",
       "      <td>1.416000</td>\n",
       "      <td>0</td>\n",
       "    </tr>\n",
       "    <tr>\n",
       "      <th>3173761</th>\n",
       "      <td>11647239</td>\n",
       "      <td>2</td>\n",
       "      <td>1.250000</td>\n",
       "      <td>0</td>\n",
       "    </tr>\n",
       "    <tr>\n",
       "      <th>3173762</th>\n",
       "      <td>11647239</td>\n",
       "      <td>3</td>\n",
       "      <td>1.270000</td>\n",
       "      <td>0</td>\n",
       "    </tr>\n",
       "    <tr>\n",
       "      <th>3173763</th>\n",
       "      <td>11647239</td>\n",
       "      <td>4</td>\n",
       "      <td>1.258000</td>\n",
       "      <td>0</td>\n",
       "    </tr>\n",
       "    <tr>\n",
       "      <th>3173764</th>\n",
       "      <td>11647239</td>\n",
       "      <td>5</td>\n",
       "      <td>1.239000</td>\n",
       "      <td>0</td>\n",
       "    </tr>\n",
       "    <tr>\n",
       "      <th>3173765</th>\n",
       "      <td>11647239</td>\n",
       "      <td>6</td>\n",
       "      <td>1.753105</td>\n",
       "      <td>1</td>\n",
       "    </tr>\n",
       "    <tr>\n",
       "      <th>3173766</th>\n",
       "      <td>11647239</td>\n",
       "      <td>7</td>\n",
       "      <td>4.609256</td>\n",
       "      <td>1</td>\n",
       "    </tr>\n",
       "    <tr>\n",
       "      <th>3173767</th>\n",
       "      <td>11647239</td>\n",
       "      <td>8</td>\n",
       "      <td>4.619256</td>\n",
       "      <td>1</td>\n",
       "    </tr>\n",
       "    <tr>\n",
       "      <th>3173768</th>\n",
       "      <td>11647239</td>\n",
       "      <td>9</td>\n",
       "      <td>4.075151</td>\n",
       "      <td>1</td>\n",
       "    </tr>\n",
       "  </tbody>\n",
       "</table>\n",
       "</div>"
      ],
      "text/plain": [
       "         House ID  Interval       kWh  Label\n",
       "3173760  11647239         1  1.416000      0\n",
       "3173761  11647239         2  1.250000      0\n",
       "3173762  11647239         3  1.270000      0\n",
       "3173763  11647239         4  1.258000      0\n",
       "3173764  11647239         5  1.239000      0\n",
       "3173765  11647239         6  1.753105      1\n",
       "3173766  11647239         7  4.609256      1\n",
       "3173767  11647239         8  4.619256      1\n",
       "3173768  11647239         9  4.075151      1"
      ]
     },
     "metadata": {},
     "output_type": "display_data"
    },
    {
     "data": {
      "text/html": [
       "<div>\n",
       "<style>\n",
       "    .dataframe thead tr:only-child th {\n",
       "        text-align: right;\n",
       "    }\n",
       "\n",
       "    .dataframe thead th {\n",
       "        text-align: left;\n",
       "    }\n",
       "\n",
       "    .dataframe tbody tr th {\n",
       "        vertical-align: top;\n",
       "    }\n",
       "</style>\n",
       "<table border=\"1\" class=\"dataframe\">\n",
       "  <thead>\n",
       "    <tr style=\"text-align: right;\">\n",
       "      <th></th>\n",
       "      <th>House ID</th>\n",
       "      <th>Interval</th>\n",
       "      <th>kWh</th>\n",
       "      <th>Label</th>\n",
       "    </tr>\n",
       "  </thead>\n",
       "  <tbody>\n",
       "    <tr>\n",
       "      <th>2640574</th>\n",
       "      <td>11643818</td>\n",
       "      <td>2495</td>\n",
       "      <td>1.749128</td>\n",
       "      <td>1</td>\n",
       "    </tr>\n",
       "  </tbody>\n",
       "</table>\n",
       "</div>"
      ],
      "text/plain": [
       "         House ID  Interval       kWh  Label\n",
       "2640574  11643818      2495  1.749128      1"
      ]
     },
     "metadata": {},
     "output_type": "display_data"
    },
    {
     "name": "stdout",
     "output_type": "stream",
     "text": [
      "{'House ID': 11643818, 'Interval': 2495, 'kWh': 1.7491279999999998, 'Label': 1}\n"
     ]
    }
   ],
   "source": [
    "##Checking Label Concatenation (pd.merge was failing due to memory limits?)\n",
    "\n",
    "import random\n",
    "\n",
    "display(ev_train_pivot_label[ev_train_pivot_label['House ID']==11647239].head(9))\n",
    "\n",
    "all_raw_house_ids  = ev_train_raw['House ID'].unique()\n",
    "\n",
    "random_house_id = random.choice(all_raw_house_ids)\n",
    "random_interval = random.randint(1,2880)\n",
    "\n",
    "\n",
    "lcr1 = ev_train_pivot_label['House ID']==random_house_id\n",
    "lcc1 = ev_train_pivot_label['Interval']==random_interval\n",
    "display(ev_train_pivot_label[lcr1&lcc1])\n",
    "\n",
    "lcr2 = ev_train_raw.index[ev_train_raw['House ID']==random_house_id].values[0]\n",
    "raw_kwh = ev_train_raw.iloc[lcr2,random_interval]\n",
    "raw_label = ev_train_labels_raw.iloc[lcr2,random_interval]\n",
    "\n",
    "rand_dict = {\n",
    "    \"House ID\": random_house_id,\n",
    "    \"Interval\": random_interval,\n",
    "    \"kWh\": raw_kwh,\n",
    "    \"Label\": raw_label \n",
    "}\n",
    "print(rand_dict)\n"
   ]
  },
  {
   "cell_type": "code",
   "execution_count": 11,
   "metadata": {},
   "outputs": [
    {
     "data": {
      "text/plain": [
       "Interval_2494    1.703128\n",
       "Interval_2495    1.749128\n",
       "Name: 592, dtype: float64"
      ]
     },
     "execution_count": 11,
     "metadata": {},
     "output_type": "execute_result"
    }
   ],
   "source": [
    "ev_train_raw.iloc[lcr2,random_interval-1:random_interval+1]"
   ]
  },
  {
   "cell_type": "code",
   "execution_count": 12,
   "metadata": {},
   "outputs": [
    {
     "name": "stdout",
     "output_type": "stream",
     "text": [
      "(4579200, 3)\n",
      "4579200\n"
     ]
    }
   ],
   "source": [
    "print(ev_train_pivot.shape)\n",
    "print(2*24*60*1590)\n",
    "\n",
    "temp_dim_dict = {\n",
    "    \"Day\": np.tile(np.repeat(np.arange(1,61),48),1590),\n",
    "    \"Hour\": np.tile(np.tile(np.repeat(np.arange(1,25),2),60),1590),\n",
    "    \"Half Hour\": np.tile(np.tile(np.arange(1,49),60),1590)\n",
    "}\n",
    "\n",
    "temp_dim_df = pd.DataFrame.from_dict(temp_dim_dict)"
   ]
  },
  {
   "cell_type": "code",
   "execution_count": 13,
   "metadata": {},
   "outputs": [
    {
     "data": {
      "text/html": [
       "<div>\n",
       "<style>\n",
       "    .dataframe thead tr:only-child th {\n",
       "        text-align: right;\n",
       "    }\n",
       "\n",
       "    .dataframe thead th {\n",
       "        text-align: left;\n",
       "    }\n",
       "\n",
       "    .dataframe tbody tr th {\n",
       "        vertical-align: top;\n",
       "    }\n",
       "</style>\n",
       "<table border=\"1\" class=\"dataframe\">\n",
       "  <thead>\n",
       "    <tr style=\"text-align: right;\">\n",
       "      <th></th>\n",
       "      <th>House ID</th>\n",
       "      <th>Day</th>\n",
       "      <th>Hour</th>\n",
       "      <th>Half Hour</th>\n",
       "      <th>Interval</th>\n",
       "      <th>kWh</th>\n",
       "      <th>Label</th>\n",
       "    </tr>\n",
       "  </thead>\n",
       "  <tbody>\n",
       "    <tr>\n",
       "      <th>0</th>\n",
       "      <td>11628280</td>\n",
       "      <td>1</td>\n",
       "      <td>1</td>\n",
       "      <td>1</td>\n",
       "      <td>1</td>\n",
       "      <td>1.114</td>\n",
       "      <td>0</td>\n",
       "    </tr>\n",
       "    <tr>\n",
       "      <th>1</th>\n",
       "      <td>11628280</td>\n",
       "      <td>1</td>\n",
       "      <td>1</td>\n",
       "      <td>2</td>\n",
       "      <td>2</td>\n",
       "      <td>0.845</td>\n",
       "      <td>0</td>\n",
       "    </tr>\n",
       "    <tr>\n",
       "      <th>2</th>\n",
       "      <td>11628280</td>\n",
       "      <td>1</td>\n",
       "      <td>2</td>\n",
       "      <td>3</td>\n",
       "      <td>3</td>\n",
       "      <td>0.463</td>\n",
       "      <td>0</td>\n",
       "    </tr>\n",
       "    <tr>\n",
       "      <th>3</th>\n",
       "      <td>11628280</td>\n",
       "      <td>1</td>\n",
       "      <td>2</td>\n",
       "      <td>4</td>\n",
       "      <td>4</td>\n",
       "      <td>0.453</td>\n",
       "      <td>0</td>\n",
       "    </tr>\n",
       "    <tr>\n",
       "      <th>4</th>\n",
       "      <td>11628280</td>\n",
       "      <td>1</td>\n",
       "      <td>3</td>\n",
       "      <td>5</td>\n",
       "      <td>5</td>\n",
       "      <td>0.610</td>\n",
       "      <td>0</td>\n",
       "    </tr>\n",
       "  </tbody>\n",
       "</table>\n",
       "</div>"
      ],
      "text/plain": [
       "   House ID  Day  Hour  Half Hour  Interval    kWh  Label\n",
       "0  11628280    1     1          1         1  1.114      0\n",
       "1  11628280    1     1          2         2  0.845      0\n",
       "2  11628280    1     2          3         3  0.463      0\n",
       "3  11628280    1     2          4         4  0.453      0\n",
       "4  11628280    1     3          5         5  0.610      0"
      ]
     },
     "execution_count": 13,
     "metadata": {},
     "output_type": "execute_result"
    }
   ],
   "source": [
    "ev_train_piv_lab_tmp = pd.concat([ev_train_pivot_label, temp_dim_df], axis=1)\n",
    "ev_train_piv_lab_tmp_cols = ['House ID','Day','Hour','Half Hour','Interval', 'kWh', 'Label']\n",
    "ev_train_piv_lab_tmp = ev_train_piv_lab_tmp[ev_train_piv_lab_tmp_cols] \n",
    "ev_train_piv_lab_tmp.head()"
   ]
  },
  {
   "cell_type": "code",
   "execution_count": 14,
   "metadata": {},
   "outputs": [
    {
     "data": {
      "text/html": [
       "<div>\n",
       "<style>\n",
       "    .dataframe thead tr:only-child th {\n",
       "        text-align: right;\n",
       "    }\n",
       "\n",
       "    .dataframe thead th {\n",
       "        text-align: left;\n",
       "    }\n",
       "\n",
       "    .dataframe tbody tr th {\n",
       "        vertical-align: top;\n",
       "    }\n",
       "</style>\n",
       "<table border=\"1\" class=\"dataframe\">\n",
       "  <thead>\n",
       "    <tr>\n",
       "      <th></th>\n",
       "      <th colspan=\"4\" halign=\"left\">Day</th>\n",
       "      <th colspan=\"4\" halign=\"left\">Hour</th>\n",
       "      <th colspan=\"4\" halign=\"left\">Half Hour</th>\n",
       "    </tr>\n",
       "    <tr>\n",
       "      <th></th>\n",
       "      <th>max</th>\n",
       "      <th>min</th>\n",
       "      <th>mean</th>\n",
       "      <th>count</th>\n",
       "      <th>max</th>\n",
       "      <th>min</th>\n",
       "      <th>mean</th>\n",
       "      <th>count</th>\n",
       "      <th>max</th>\n",
       "      <th>min</th>\n",
       "      <th>mean</th>\n",
       "      <th>count</th>\n",
       "    </tr>\n",
       "    <tr>\n",
       "      <th>House ID</th>\n",
       "      <th></th>\n",
       "      <th></th>\n",
       "      <th></th>\n",
       "      <th></th>\n",
       "      <th></th>\n",
       "      <th></th>\n",
       "      <th></th>\n",
       "      <th></th>\n",
       "      <th></th>\n",
       "      <th></th>\n",
       "      <th></th>\n",
       "      <th></th>\n",
       "    </tr>\n",
       "  </thead>\n",
       "  <tbody>\n",
       "    <tr>\n",
       "      <th>11628280</th>\n",
       "      <td>60</td>\n",
       "      <td>1</td>\n",
       "      <td>30.5</td>\n",
       "      <td>2880</td>\n",
       "      <td>24</td>\n",
       "      <td>1</td>\n",
       "      <td>12.5</td>\n",
       "      <td>2880</td>\n",
       "      <td>48</td>\n",
       "      <td>1</td>\n",
       "      <td>24.5</td>\n",
       "      <td>2880</td>\n",
       "    </tr>\n",
       "    <tr>\n",
       "      <th>11628291</th>\n",
       "      <td>60</td>\n",
       "      <td>1</td>\n",
       "      <td>30.5</td>\n",
       "      <td>2880</td>\n",
       "      <td>24</td>\n",
       "      <td>1</td>\n",
       "      <td>12.5</td>\n",
       "      <td>2880</td>\n",
       "      <td>48</td>\n",
       "      <td>1</td>\n",
       "      <td>24.5</td>\n",
       "      <td>2880</td>\n",
       "    </tr>\n",
       "    <tr>\n",
       "      <th>11628301</th>\n",
       "      <td>60</td>\n",
       "      <td>1</td>\n",
       "      <td>30.5</td>\n",
       "      <td>2880</td>\n",
       "      <td>24</td>\n",
       "      <td>1</td>\n",
       "      <td>12.5</td>\n",
       "      <td>2880</td>\n",
       "      <td>48</td>\n",
       "      <td>1</td>\n",
       "      <td>24.5</td>\n",
       "      <td>2880</td>\n",
       "    </tr>\n",
       "    <tr>\n",
       "      <th>11628319</th>\n",
       "      <td>60</td>\n",
       "      <td>1</td>\n",
       "      <td>30.5</td>\n",
       "      <td>2880</td>\n",
       "      <td>24</td>\n",
       "      <td>1</td>\n",
       "      <td>12.5</td>\n",
       "      <td>2880</td>\n",
       "      <td>48</td>\n",
       "      <td>1</td>\n",
       "      <td>24.5</td>\n",
       "      <td>2880</td>\n",
       "    </tr>\n",
       "    <tr>\n",
       "      <th>11628335</th>\n",
       "      <td>60</td>\n",
       "      <td>1</td>\n",
       "      <td>30.5</td>\n",
       "      <td>2880</td>\n",
       "      <td>24</td>\n",
       "      <td>1</td>\n",
       "      <td>12.5</td>\n",
       "      <td>2880</td>\n",
       "      <td>48</td>\n",
       "      <td>1</td>\n",
       "      <td>24.5</td>\n",
       "      <td>2880</td>\n",
       "    </tr>\n",
       "  </tbody>\n",
       "</table>\n",
       "</div>"
      ],
      "text/plain": [
       "         Day                 Hour                 Half Hour                \n",
       "         max min  mean count  max min  mean count       max min  mean count\n",
       "House ID                                                                   \n",
       "11628280  60   1  30.5  2880   24   1  12.5  2880        48   1  24.5  2880\n",
       "11628291  60   1  30.5  2880   24   1  12.5  2880        48   1  24.5  2880\n",
       "11628301  60   1  30.5  2880   24   1  12.5  2880        48   1  24.5  2880\n",
       "11628319  60   1  30.5  2880   24   1  12.5  2880        48   1  24.5  2880\n",
       "11628335  60   1  30.5  2880   24   1  12.5  2880        48   1  24.5  2880"
      ]
     },
     "metadata": {},
     "output_type": "display_data"
    }
   ],
   "source": [
    "# Checking Temporal Concatenation (pd.merge was failing due to memory limits?)\n",
    "\n",
    "check_aggs =['max', 'min','mean','count']\n",
    "\n",
    "check_dict = {\n",
    "    'Day' : check_aggs, \n",
    "    'Hour': check_aggs,\n",
    "    'Half Hour': check_aggs,\n",
    "}\n",
    "\n",
    "temp_merge_check_df = ev_train_piv_lab_tmp.groupby('House ID').agg(check_dict)\n",
    "\n",
    "unique_records = len(temp_merge_check_df.drop_duplicates())\n",
    "total_records = len(temp_merge_check_df)\n",
    "\n",
    "assert unique_records == 1, \"Problem with temporal concatenation\"\n",
    "\n",
    "display(temp_merge_check_df.head())"
   ]
  },
  {
   "cell_type": "code",
   "execution_count": 15,
   "metadata": {},
   "outputs": [
    {
     "data": {
      "text/html": [
       "<div>\n",
       "<style>\n",
       "    .dataframe thead tr:only-child th {\n",
       "        text-align: right;\n",
       "    }\n",
       "\n",
       "    .dataframe thead th {\n",
       "        text-align: left;\n",
       "    }\n",
       "\n",
       "    .dataframe tbody tr th {\n",
       "        vertical-align: top;\n",
       "    }\n",
       "</style>\n",
       "<table border=\"1\" class=\"dataframe\">\n",
       "  <thead>\n",
       "    <tr style=\"text-align: right;\">\n",
       "      <th></th>\n",
       "      <th>House ID</th>\n",
       "      <th>Day</th>\n",
       "      <th>Hour</th>\n",
       "      <th>Half Hour</th>\n",
       "      <th>Interval</th>\n",
       "      <th>kWh</th>\n",
       "      <th>Label</th>\n",
       "    </tr>\n",
       "  </thead>\n",
       "  <tbody>\n",
       "    <tr>\n",
       "      <th>45</th>\n",
       "      <td>11628280</td>\n",
       "      <td>1</td>\n",
       "      <td>23</td>\n",
       "      <td>46</td>\n",
       "      <td>46</td>\n",
       "      <td>1.146</td>\n",
       "      <td>0</td>\n",
       "    </tr>\n",
       "    <tr>\n",
       "      <th>46</th>\n",
       "      <td>11628280</td>\n",
       "      <td>1</td>\n",
       "      <td>24</td>\n",
       "      <td>47</td>\n",
       "      <td>47</td>\n",
       "      <td>1.130</td>\n",
       "      <td>0</td>\n",
       "    </tr>\n",
       "    <tr>\n",
       "      <th>47</th>\n",
       "      <td>11628280</td>\n",
       "      <td>1</td>\n",
       "      <td>24</td>\n",
       "      <td>48</td>\n",
       "      <td>48</td>\n",
       "      <td>1.170</td>\n",
       "      <td>0</td>\n",
       "    </tr>\n",
       "    <tr>\n",
       "      <th>48</th>\n",
       "      <td>11628280</td>\n",
       "      <td>2</td>\n",
       "      <td>1</td>\n",
       "      <td>1</td>\n",
       "      <td>49</td>\n",
       "      <td>1.239</td>\n",
       "      <td>0</td>\n",
       "    </tr>\n",
       "    <tr>\n",
       "      <th>49</th>\n",
       "      <td>11628280</td>\n",
       "      <td>2</td>\n",
       "      <td>1</td>\n",
       "      <td>2</td>\n",
       "      <td>50</td>\n",
       "      <td>0.952</td>\n",
       "      <td>0</td>\n",
       "    </tr>\n",
       "  </tbody>\n",
       "</table>\n",
       "</div>"
      ],
      "text/plain": [
       "    House ID  Day  Hour  Half Hour  Interval    kWh  Label\n",
       "45  11628280    1    23         46        46  1.146      0\n",
       "46  11628280    1    24         47        47  1.130      0\n",
       "47  11628280    1    24         48        48  1.170      0\n",
       "48  11628280    2     1          1        49  1.239      0\n",
       "49  11628280    2     1          2        50  0.952      0"
      ]
     },
     "metadata": {},
     "output_type": "display_data"
    },
    {
     "data": {
      "text/html": [
       "<div>\n",
       "<style>\n",
       "    .dataframe thead tr:only-child th {\n",
       "        text-align: right;\n",
       "    }\n",
       "\n",
       "    .dataframe thead th {\n",
       "        text-align: left;\n",
       "    }\n",
       "\n",
       "    .dataframe tbody tr th {\n",
       "        vertical-align: top;\n",
       "    }\n",
       "</style>\n",
       "<table border=\"1\" class=\"dataframe\">\n",
       "  <thead>\n",
       "    <tr style=\"text-align: right;\">\n",
       "      <th></th>\n",
       "      <th>House ID</th>\n",
       "      <th>Day</th>\n",
       "      <th>Hour</th>\n",
       "      <th>Half Hour</th>\n",
       "      <th>Interval</th>\n",
       "      <th>kWh</th>\n",
       "      <th>Label</th>\n",
       "    </tr>\n",
       "  </thead>\n",
       "  <tbody>\n",
       "    <tr>\n",
       "      <th>3173760</th>\n",
       "      <td>11647239</td>\n",
       "      <td>1</td>\n",
       "      <td>1</td>\n",
       "      <td>1</td>\n",
       "      <td>1</td>\n",
       "      <td>1.416000</td>\n",
       "      <td>0</td>\n",
       "    </tr>\n",
       "    <tr>\n",
       "      <th>3173761</th>\n",
       "      <td>11647239</td>\n",
       "      <td>1</td>\n",
       "      <td>1</td>\n",
       "      <td>2</td>\n",
       "      <td>2</td>\n",
       "      <td>1.250000</td>\n",
       "      <td>0</td>\n",
       "    </tr>\n",
       "    <tr>\n",
       "      <th>3173762</th>\n",
       "      <td>11647239</td>\n",
       "      <td>1</td>\n",
       "      <td>2</td>\n",
       "      <td>3</td>\n",
       "      <td>3</td>\n",
       "      <td>1.270000</td>\n",
       "      <td>0</td>\n",
       "    </tr>\n",
       "    <tr>\n",
       "      <th>3173763</th>\n",
       "      <td>11647239</td>\n",
       "      <td>1</td>\n",
       "      <td>2</td>\n",
       "      <td>4</td>\n",
       "      <td>4</td>\n",
       "      <td>1.258000</td>\n",
       "      <td>0</td>\n",
       "    </tr>\n",
       "    <tr>\n",
       "      <th>3173764</th>\n",
       "      <td>11647239</td>\n",
       "      <td>1</td>\n",
       "      <td>3</td>\n",
       "      <td>5</td>\n",
       "      <td>5</td>\n",
       "      <td>1.239000</td>\n",
       "      <td>0</td>\n",
       "    </tr>\n",
       "    <tr>\n",
       "      <th>3173765</th>\n",
       "      <td>11647239</td>\n",
       "      <td>1</td>\n",
       "      <td>3</td>\n",
       "      <td>6</td>\n",
       "      <td>6</td>\n",
       "      <td>1.753105</td>\n",
       "      <td>1</td>\n",
       "    </tr>\n",
       "    <tr>\n",
       "      <th>3173766</th>\n",
       "      <td>11647239</td>\n",
       "      <td>1</td>\n",
       "      <td>4</td>\n",
       "      <td>7</td>\n",
       "      <td>7</td>\n",
       "      <td>4.609256</td>\n",
       "      <td>1</td>\n",
       "    </tr>\n",
       "    <tr>\n",
       "      <th>3173767</th>\n",
       "      <td>11647239</td>\n",
       "      <td>1</td>\n",
       "      <td>4</td>\n",
       "      <td>8</td>\n",
       "      <td>8</td>\n",
       "      <td>4.619256</td>\n",
       "      <td>1</td>\n",
       "    </tr>\n",
       "    <tr>\n",
       "      <th>3173768</th>\n",
       "      <td>11647239</td>\n",
       "      <td>1</td>\n",
       "      <td>5</td>\n",
       "      <td>9</td>\n",
       "      <td>9</td>\n",
       "      <td>4.075151</td>\n",
       "      <td>1</td>\n",
       "    </tr>\n",
       "  </tbody>\n",
       "</table>\n",
       "</div>"
      ],
      "text/plain": [
       "         House ID  Day  Hour  Half Hour  Interval       kWh  Label\n",
       "3173760  11647239    1     1          1         1  1.416000      0\n",
       "3173761  11647239    1     1          2         2  1.250000      0\n",
       "3173762  11647239    1     2          3         3  1.270000      0\n",
       "3173763  11647239    1     2          4         4  1.258000      0\n",
       "3173764  11647239    1     3          5         5  1.239000      0\n",
       "3173765  11647239    1     3          6         6  1.753105      1\n",
       "3173766  11647239    1     4          7         7  4.609256      1\n",
       "3173767  11647239    1     4          8         8  4.619256      1\n",
       "3173768  11647239    1     5          9         9  4.075151      1"
      ]
     },
     "metadata": {},
     "output_type": "display_data"
    }
   ],
   "source": [
    "display(ev_train_piv_lab_tmp.iloc[45:50,])\n",
    "display(ev_train_piv_lab_tmp[ev_train_piv_lab_tmp['House ID']==11647239].head(9))"
   ]
  },
  {
   "cell_type": "markdown",
   "metadata": {},
   "source": [
    "### Fill in Missing Values"
   ]
  },
  {
   "cell_type": "code",
   "execution_count": 16,
   "metadata": {},
   "outputs": [
    {
     "data": {
      "text/html": [
       "<div>\n",
       "<style>\n",
       "    .dataframe thead tr:only-child th {\n",
       "        text-align: right;\n",
       "    }\n",
       "\n",
       "    .dataframe thead th {\n",
       "        text-align: left;\n",
       "    }\n",
       "\n",
       "    .dataframe tbody tr th {\n",
       "        vertical-align: top;\n",
       "    }\n",
       "</style>\n",
       "<table border=\"1\" class=\"dataframe\">\n",
       "  <thead>\n",
       "    <tr style=\"text-align: right;\">\n",
       "      <th></th>\n",
       "      <th>House ID</th>\n",
       "      <th>Day</th>\n",
       "      <th>Hour</th>\n",
       "      <th>Half Hour</th>\n",
       "      <th>Interval</th>\n",
       "      <th>kWh</th>\n",
       "      <th>Label</th>\n",
       "    </tr>\n",
       "  </thead>\n",
       "  <tbody>\n",
       "    <tr>\n",
       "      <th>757296</th>\n",
       "      <td>11632700</td>\n",
       "      <td>58</td>\n",
       "      <td>1</td>\n",
       "      <td>1</td>\n",
       "      <td>2737</td>\n",
       "      <td>NaN</td>\n",
       "      <td>0</td>\n",
       "    </tr>\n",
       "    <tr>\n",
       "      <th>757297</th>\n",
       "      <td>11632700</td>\n",
       "      <td>58</td>\n",
       "      <td>1</td>\n",
       "      <td>2</td>\n",
       "      <td>2738</td>\n",
       "      <td>NaN</td>\n",
       "      <td>0</td>\n",
       "    </tr>\n",
       "    <tr>\n",
       "      <th>757298</th>\n",
       "      <td>11632700</td>\n",
       "      <td>58</td>\n",
       "      <td>2</td>\n",
       "      <td>3</td>\n",
       "      <td>2739</td>\n",
       "      <td>NaN</td>\n",
       "      <td>0</td>\n",
       "    </tr>\n",
       "    <tr>\n",
       "      <th>757299</th>\n",
       "      <td>11632700</td>\n",
       "      <td>58</td>\n",
       "      <td>2</td>\n",
       "      <td>4</td>\n",
       "      <td>2740</td>\n",
       "      <td>NaN</td>\n",
       "      <td>0</td>\n",
       "    </tr>\n",
       "    <tr>\n",
       "      <th>757300</th>\n",
       "      <td>11632700</td>\n",
       "      <td>58</td>\n",
       "      <td>3</td>\n",
       "      <td>5</td>\n",
       "      <td>2741</td>\n",
       "      <td>NaN</td>\n",
       "      <td>0</td>\n",
       "    </tr>\n",
       "  </tbody>\n",
       "</table>\n",
       "</div>"
      ],
      "text/plain": [
       "        House ID  Day  Hour  Half Hour  Interval  kWh  Label\n",
       "757296  11632700   58     1          1      2737  NaN      0\n",
       "757297  11632700   58     1          2      2738  NaN      0\n",
       "757298  11632700   58     2          3      2739  NaN      0\n",
       "757299  11632700   58     2          4      2740  NaN      0\n",
       "757300  11632700   58     3          5      2741  NaN      0"
      ]
     },
     "metadata": {},
     "output_type": "display_data"
    }
   ],
   "source": [
    "all_missing_rows = ev_train_piv_lab_tmp['kWh'].isnull()\n",
    "display(ev_train_piv_lab_tmp[all_missing_rows].head())"
   ]
  },
  {
   "cell_type": "code",
   "execution_count": 17,
   "metadata": {
    "collapsed": true
   },
   "outputs": [],
   "source": [
    "house_hh_mean_df = ev_train_piv_lab_tmp.groupby(['House ID','Half Hour']).agg({'kWh':'mean'}).reset_index()"
   ]
  },
  {
   "cell_type": "code",
   "execution_count": 18,
   "metadata": {},
   "outputs": [
    {
     "data": {
      "text/html": [
       "<div>\n",
       "<style>\n",
       "    .dataframe thead tr:only-child th {\n",
       "        text-align: right;\n",
       "    }\n",
       "\n",
       "    .dataframe thead th {\n",
       "        text-align: left;\n",
       "    }\n",
       "\n",
       "    .dataframe tbody tr th {\n",
       "        vertical-align: top;\n",
       "    }\n",
       "</style>\n",
       "<table border=\"1\" class=\"dataframe\">\n",
       "  <thead>\n",
       "    <tr style=\"text-align: right;\">\n",
       "      <th></th>\n",
       "      <th>House ID</th>\n",
       "      <th>Half Hour</th>\n",
       "      <th>kWh</th>\n",
       "    </tr>\n",
       "  </thead>\n",
       "  <tbody>\n",
       "    <tr>\n",
       "      <th>0</th>\n",
       "      <td>11628280</td>\n",
       "      <td>1</td>\n",
       "      <td>1.034950</td>\n",
       "    </tr>\n",
       "    <tr>\n",
       "      <th>1</th>\n",
       "      <td>11628280</td>\n",
       "      <td>2</td>\n",
       "      <td>0.990733</td>\n",
       "    </tr>\n",
       "    <tr>\n",
       "      <th>2</th>\n",
       "      <td>11628280</td>\n",
       "      <td>3</td>\n",
       "      <td>0.904383</td>\n",
       "    </tr>\n",
       "    <tr>\n",
       "      <th>3</th>\n",
       "      <td>11628280</td>\n",
       "      <td>4</td>\n",
       "      <td>0.940583</td>\n",
       "    </tr>\n",
       "    <tr>\n",
       "      <th>4</th>\n",
       "      <td>11628280</td>\n",
       "      <td>5</td>\n",
       "      <td>0.958350</td>\n",
       "    </tr>\n",
       "  </tbody>\n",
       "</table>\n",
       "</div>"
      ],
      "text/plain": [
       "   House ID  Half Hour       kWh\n",
       "0  11628280          1  1.034950\n",
       "1  11628280          2  0.990733\n",
       "2  11628280          3  0.904383\n",
       "3  11628280          4  0.940583\n",
       "4  11628280          5  0.958350"
      ]
     },
     "execution_count": 18,
     "metadata": {},
     "output_type": "execute_result"
    }
   ],
   "source": [
    "house_hh_mean_df.head()"
   ]
  },
  {
   "cell_type": "code",
   "execution_count": 19,
   "metadata": {},
   "outputs": [
    {
     "name": "stderr",
     "output_type": "stream",
     "text": [
      "/Users/salvadornunez/anaconda/envs/ev-capstone/lib/python3.6/site-packages/ipykernel_launcher.py:15: SettingWithCopyWarning: \n",
      "A value is trying to be set on a copy of a slice from a DataFrame\n",
      "\n",
      "See the caveats in the documentation: http://pandas.pydata.org/pandas-docs/stable/indexing.html#indexing-view-versus-copy\n",
      "  from ipykernel import kernelapp as app\n"
     ]
    }
   ],
   "source": [
    "ev_train_piv_lab_tmp_filled = ev_train_piv_lab_tmp.copy()\n",
    "\n",
    "for idx, row in ev_train_piv_lab_tmp_filled[all_missing_rows].iterrows():\n",
    "\n",
    "    missing_interval = row['Interval']\n",
    "    missing_house = row['House ID']\n",
    "    missing_half_hour = row['Half Hour']\n",
    "    \n",
    "    house_rm = house_hh_mean_df['House ID'] == missing_house\n",
    "    half_hour_rm = house_hh_mean_df['Half Hour'] == missing_half_hour\n",
    "    house_half_hour_average = house_hh_mean_df[house_rm&half_hour_rm]['kWh'].values[0]\n",
    "    \n",
    "    house_rf = ev_train_piv_lab_tmp_filled['House ID'] == missing_house\n",
    "    interval_rf = ev_train_piv_lab_tmp_filled['Interval'] == missing_interval\n",
    "    ev_train_piv_lab_tmp_filled['kWh'][house_rf&interval_rf] = house_half_hour_average"
   ]
  },
  {
   "cell_type": "code",
   "execution_count": 20,
   "metadata": {},
   "outputs": [
    {
     "data": {
      "text/html": [
       "<div>\n",
       "<style>\n",
       "    .dataframe thead tr:only-child th {\n",
       "        text-align: right;\n",
       "    }\n",
       "\n",
       "    .dataframe thead th {\n",
       "        text-align: left;\n",
       "    }\n",
       "\n",
       "    .dataframe tbody tr th {\n",
       "        vertical-align: top;\n",
       "    }\n",
       "</style>\n",
       "<table border=\"1\" class=\"dataframe\">\n",
       "  <thead>\n",
       "    <tr style=\"text-align: right;\">\n",
       "      <th></th>\n",
       "      <th>House ID</th>\n",
       "      <th>Day</th>\n",
       "      <th>Hour</th>\n",
       "      <th>Half Hour</th>\n",
       "      <th>Interval</th>\n",
       "      <th>kWh</th>\n",
       "      <th>Label</th>\n",
       "    </tr>\n",
       "  </thead>\n",
       "  <tbody>\n",
       "    <tr>\n",
       "      <th>757292</th>\n",
       "      <td>11632700</td>\n",
       "      <td>57</td>\n",
       "      <td>23</td>\n",
       "      <td>45</td>\n",
       "      <td>2733</td>\n",
       "      <td>1.812128</td>\n",
       "      <td>1</td>\n",
       "    </tr>\n",
       "    <tr>\n",
       "      <th>757293</th>\n",
       "      <td>11632700</td>\n",
       "      <td>57</td>\n",
       "      <td>23</td>\n",
       "      <td>46</td>\n",
       "      <td>2734</td>\n",
       "      <td>1.787128</td>\n",
       "      <td>1</td>\n",
       "    </tr>\n",
       "    <tr>\n",
       "      <th>757294</th>\n",
       "      <td>11632700</td>\n",
       "      <td>57</td>\n",
       "      <td>24</td>\n",
       "      <td>47</td>\n",
       "      <td>2735</td>\n",
       "      <td>1.242252</td>\n",
       "      <td>1</td>\n",
       "    </tr>\n",
       "    <tr>\n",
       "      <th>757295</th>\n",
       "      <td>11632700</td>\n",
       "      <td>57</td>\n",
       "      <td>24</td>\n",
       "      <td>48</td>\n",
       "      <td>2736</td>\n",
       "      <td>0.125000</td>\n",
       "      <td>0</td>\n",
       "    </tr>\n",
       "    <tr>\n",
       "      <th>757296</th>\n",
       "      <td>11632700</td>\n",
       "      <td>58</td>\n",
       "      <td>1</td>\n",
       "      <td>1</td>\n",
       "      <td>2737</td>\n",
       "      <td>NaN</td>\n",
       "      <td>0</td>\n",
       "    </tr>\n",
       "    <tr>\n",
       "      <th>757297</th>\n",
       "      <td>11632700</td>\n",
       "      <td>58</td>\n",
       "      <td>1</td>\n",
       "      <td>2</td>\n",
       "      <td>2738</td>\n",
       "      <td>NaN</td>\n",
       "      <td>0</td>\n",
       "    </tr>\n",
       "    <tr>\n",
       "      <th>757298</th>\n",
       "      <td>11632700</td>\n",
       "      <td>58</td>\n",
       "      <td>2</td>\n",
       "      <td>3</td>\n",
       "      <td>2739</td>\n",
       "      <td>NaN</td>\n",
       "      <td>0</td>\n",
       "    </tr>\n",
       "  </tbody>\n",
       "</table>\n",
       "</div>"
      ],
      "text/plain": [
       "        House ID  Day  Hour  Half Hour  Interval       kWh  Label\n",
       "757292  11632700   57    23         45      2733  1.812128      1\n",
       "757293  11632700   57    23         46      2734  1.787128      1\n",
       "757294  11632700   57    24         47      2735  1.242252      1\n",
       "757295  11632700   57    24         48      2736  0.125000      0\n",
       "757296  11632700   58     1          1      2737       NaN      0\n",
       "757297  11632700   58     1          2      2738       NaN      0\n",
       "757298  11632700   58     2          3      2739       NaN      0"
      ]
     },
     "metadata": {},
     "output_type": "display_data"
    },
    {
     "data": {
      "text/html": [
       "<div>\n",
       "<style>\n",
       "    .dataframe thead tr:only-child th {\n",
       "        text-align: right;\n",
       "    }\n",
       "\n",
       "    .dataframe thead th {\n",
       "        text-align: left;\n",
       "    }\n",
       "\n",
       "    .dataframe tbody tr th {\n",
       "        vertical-align: top;\n",
       "    }\n",
       "</style>\n",
       "<table border=\"1\" class=\"dataframe\">\n",
       "  <thead>\n",
       "    <tr style=\"text-align: right;\">\n",
       "      <th></th>\n",
       "      <th>House ID</th>\n",
       "      <th>Day</th>\n",
       "      <th>Hour</th>\n",
       "      <th>Half Hour</th>\n",
       "      <th>Interval</th>\n",
       "      <th>kWh</th>\n",
       "      <th>Label</th>\n",
       "    </tr>\n",
       "  </thead>\n",
       "  <tbody>\n",
       "    <tr>\n",
       "      <th>757292</th>\n",
       "      <td>11632700</td>\n",
       "      <td>57</td>\n",
       "      <td>23</td>\n",
       "      <td>45</td>\n",
       "      <td>2733</td>\n",
       "      <td>1.812128</td>\n",
       "      <td>1</td>\n",
       "    </tr>\n",
       "    <tr>\n",
       "      <th>757293</th>\n",
       "      <td>11632700</td>\n",
       "      <td>57</td>\n",
       "      <td>23</td>\n",
       "      <td>46</td>\n",
       "      <td>2734</td>\n",
       "      <td>1.787128</td>\n",
       "      <td>1</td>\n",
       "    </tr>\n",
       "    <tr>\n",
       "      <th>757294</th>\n",
       "      <td>11632700</td>\n",
       "      <td>57</td>\n",
       "      <td>24</td>\n",
       "      <td>47</td>\n",
       "      <td>2735</td>\n",
       "      <td>1.242252</td>\n",
       "      <td>1</td>\n",
       "    </tr>\n",
       "    <tr>\n",
       "      <th>757295</th>\n",
       "      <td>11632700</td>\n",
       "      <td>57</td>\n",
       "      <td>24</td>\n",
       "      <td>48</td>\n",
       "      <td>2736</td>\n",
       "      <td>0.125000</td>\n",
       "      <td>0</td>\n",
       "    </tr>\n",
       "    <tr>\n",
       "      <th>757296</th>\n",
       "      <td>11632700</td>\n",
       "      <td>58</td>\n",
       "      <td>1</td>\n",
       "      <td>1</td>\n",
       "      <td>2737</td>\n",
       "      <td>0.405968</td>\n",
       "      <td>0</td>\n",
       "    </tr>\n",
       "    <tr>\n",
       "      <th>757297</th>\n",
       "      <td>11632700</td>\n",
       "      <td>58</td>\n",
       "      <td>1</td>\n",
       "      <td>2</td>\n",
       "      <td>2738</td>\n",
       "      <td>0.413420</td>\n",
       "      <td>0</td>\n",
       "    </tr>\n",
       "    <tr>\n",
       "      <th>757298</th>\n",
       "      <td>11632700</td>\n",
       "      <td>58</td>\n",
       "      <td>2</td>\n",
       "      <td>3</td>\n",
       "      <td>2739</td>\n",
       "      <td>0.433921</td>\n",
       "      <td>0</td>\n",
       "    </tr>\n",
       "  </tbody>\n",
       "</table>\n",
       "</div>"
      ],
      "text/plain": [
       "        House ID  Day  Hour  Half Hour  Interval       kWh  Label\n",
       "757292  11632700   57    23         45      2733  1.812128      1\n",
       "757293  11632700   57    23         46      2734  1.787128      1\n",
       "757294  11632700   57    24         47      2735  1.242252      1\n",
       "757295  11632700   57    24         48      2736  0.125000      0\n",
       "757296  11632700   58     1          1      2737  0.405968      0\n",
       "757297  11632700   58     1          2      2738  0.413420      0\n",
       "757298  11632700   58     2          3      2739  0.433921      0"
      ]
     },
     "metadata": {},
     "output_type": "display_data"
    }
   ],
   "source": [
    "display(ev_train_piv_lab_tmp.iloc[757292:757299,:])\n",
    "display(ev_train_piv_lab_tmp_filled.iloc[757292:757299,:])"
   ]
  },
  {
   "cell_type": "code",
   "execution_count": 21,
   "metadata": {},
   "outputs": [
    {
     "name": "stdout",
     "output_type": "stream",
     "text": [
      "(4579200, 7)\n",
      "106910\n",
      "0.0233468728162\n"
     ]
    }
   ],
   "source": [
    "print(ev_train_piv_lab_tmp_filled.shape)\n",
    "print(sum(ev_train_piv_lab_tmp_filled['Label']))\n",
    "print(sum(ev_train_piv_lab_tmp_filled['Label'])/ev_train_piv_lab_tmp_filled.shape[0])"
   ]
  },
  {
   "cell_type": "markdown",
   "metadata": {},
   "source": [
    "# House Classification"
   ]
  },
  {
   "cell_type": "markdown",
   "metadata": {},
   "source": [
    "### Transformation"
   ]
  },
  {
   "cell_type": "code",
   "execution_count": 22,
   "metadata": {
    "collapsed": true
   },
   "outputs": [],
   "source": [
    "house_data_summary = ev_train_piv_lab_tmp_filled.groupby(['House ID', 'Half Hour']\n",
    "                                                ).agg({'kWh':['mean',np.std]}\n",
    "                                                     ).pivot_table(values='kWh',\n",
    "                                                                   index=['House ID'],\n",
    "                                                                   columns='Half Hour').reset_index()"
   ]
  },
  {
   "cell_type": "code",
   "execution_count": 23,
   "metadata": {
    "collapsed": true
   },
   "outputs": [],
   "source": [
    "mean_cols = ['u_{}'.format(n) for n in np.arange(1,49)]\n",
    "sd_cols = ['s_{}'.format(n) for n in np.arange(1,49)]\n",
    "hds_cols = ['House ID'] + mean_cols + sd_cols\n",
    "house_data_summary.columns = hds_cols"
   ]
  },
  {
   "cell_type": "code",
   "execution_count": 24,
   "metadata": {
    "collapsed": true
   },
   "outputs": [],
   "source": [
    "pct_cols = ['p_{}'.format(n) for n in np.arange(1,49)]\n",
    "house_data_summary[pct_cols] = house_data_summary[mean_cols].div(house_data_summary[mean_cols].sum(axis=1),axis=0)"
   ]
  },
  {
   "cell_type": "code",
   "execution_count": 25,
   "metadata": {
    "collapsed": true
   },
   "outputs": [],
   "source": [
    "house_data_labels = ev_train_piv_lab_tmp_filled.groupby(['House ID']).agg({'Label':sum}).reset_index()\n",
    "house_data_labels['House Label'] = [1 if x > 0 else 0 for x in house_data_labels['Label']]\n",
    "house_data_labels.drop(['Label'], axis=1, inplace=True)\n",
    "house_data_df = house_data_summary.merge(house_data_labels, how='left', on='House ID')"
   ]
  },
  {
   "cell_type": "code",
   "execution_count": 26,
   "metadata": {},
   "outputs": [
    {
     "data": {
      "text/html": [
       "<div>\n",
       "<style>\n",
       "    .dataframe thead tr:only-child th {\n",
       "        text-align: right;\n",
       "    }\n",
       "\n",
       "    .dataframe thead th {\n",
       "        text-align: left;\n",
       "    }\n",
       "\n",
       "    .dataframe tbody tr th {\n",
       "        vertical-align: top;\n",
       "    }\n",
       "</style>\n",
       "<table border=\"1\" class=\"dataframe\">\n",
       "  <thead>\n",
       "    <tr style=\"text-align: right;\">\n",
       "      <th></th>\n",
       "      <th>House ID</th>\n",
       "      <th>u_1</th>\n",
       "      <th>u_2</th>\n",
       "      <th>u_3</th>\n",
       "      <th>u_4</th>\n",
       "      <th>u_5</th>\n",
       "      <th>u_6</th>\n",
       "      <th>u_7</th>\n",
       "      <th>u_8</th>\n",
       "      <th>u_9</th>\n",
       "      <th>...</th>\n",
       "      <th>p_39</th>\n",
       "      <th>p_40</th>\n",
       "      <th>p_41</th>\n",
       "      <th>p_42</th>\n",
       "      <th>p_43</th>\n",
       "      <th>p_44</th>\n",
       "      <th>p_45</th>\n",
       "      <th>p_46</th>\n",
       "      <th>p_47</th>\n",
       "      <th>p_48</th>\n",
       "    </tr>\n",
       "  </thead>\n",
       "  <tbody>\n",
       "    <tr>\n",
       "      <th>0</th>\n",
       "      <td>11628280</td>\n",
       "      <td>1.034950</td>\n",
       "      <td>0.990733</td>\n",
       "      <td>0.904383</td>\n",
       "      <td>0.940583</td>\n",
       "      <td>0.958350</td>\n",
       "      <td>0.940750</td>\n",
       "      <td>0.936317</td>\n",
       "      <td>0.919983</td>\n",
       "      <td>0.894133</td>\n",
       "      <td>...</td>\n",
       "      <td>0.021406</td>\n",
       "      <td>0.020981</td>\n",
       "      <td>0.019509</td>\n",
       "      <td>0.019009</td>\n",
       "      <td>0.019226</td>\n",
       "      <td>0.018909</td>\n",
       "      <td>0.019017</td>\n",
       "      <td>0.019521</td>\n",
       "      <td>0.019504</td>\n",
       "      <td>0.019241</td>\n",
       "    </tr>\n",
       "    <tr>\n",
       "      <th>1</th>\n",
       "      <td>11628291</td>\n",
       "      <td>0.742283</td>\n",
       "      <td>0.743917</td>\n",
       "      <td>0.742250</td>\n",
       "      <td>0.740300</td>\n",
       "      <td>0.743651</td>\n",
       "      <td>0.838403</td>\n",
       "      <td>0.771068</td>\n",
       "      <td>0.797265</td>\n",
       "      <td>0.762628</td>\n",
       "      <td>...</td>\n",
       "      <td>0.020703</td>\n",
       "      <td>0.018956</td>\n",
       "      <td>0.018786</td>\n",
       "      <td>0.018658</td>\n",
       "      <td>0.017564</td>\n",
       "      <td>0.017195</td>\n",
       "      <td>0.017451</td>\n",
       "      <td>0.018865</td>\n",
       "      <td>0.018214</td>\n",
       "      <td>0.017874</td>\n",
       "    </tr>\n",
       "    <tr>\n",
       "      <th>2</th>\n",
       "      <td>11628301</td>\n",
       "      <td>0.236132</td>\n",
       "      <td>0.273704</td>\n",
       "      <td>0.255804</td>\n",
       "      <td>0.248360</td>\n",
       "      <td>0.191183</td>\n",
       "      <td>0.202845</td>\n",
       "      <td>0.314648</td>\n",
       "      <td>0.314576</td>\n",
       "      <td>0.251421</td>\n",
       "      <td>...</td>\n",
       "      <td>0.063615</td>\n",
       "      <td>0.060917</td>\n",
       "      <td>0.055962</td>\n",
       "      <td>0.040179</td>\n",
       "      <td>0.025159</td>\n",
       "      <td>0.013686</td>\n",
       "      <td>0.010051</td>\n",
       "      <td>0.006760</td>\n",
       "      <td>0.006476</td>\n",
       "      <td>0.005591</td>\n",
       "    </tr>\n",
       "    <tr>\n",
       "      <th>3</th>\n",
       "      <td>11628319</td>\n",
       "      <td>0.779583</td>\n",
       "      <td>0.766733</td>\n",
       "      <td>0.660650</td>\n",
       "      <td>0.591733</td>\n",
       "      <td>0.600967</td>\n",
       "      <td>0.578200</td>\n",
       "      <td>0.581083</td>\n",
       "      <td>0.595033</td>\n",
       "      <td>0.615067</td>\n",
       "      <td>...</td>\n",
       "      <td>0.030123</td>\n",
       "      <td>0.035465</td>\n",
       "      <td>0.036182</td>\n",
       "      <td>0.035222</td>\n",
       "      <td>0.032022</td>\n",
       "      <td>0.030527</td>\n",
       "      <td>0.027833</td>\n",
       "      <td>0.024870</td>\n",
       "      <td>0.019554</td>\n",
       "      <td>0.017096</td>\n",
       "    </tr>\n",
       "    <tr>\n",
       "      <th>4</th>\n",
       "      <td>11628335</td>\n",
       "      <td>0.299017</td>\n",
       "      <td>0.301467</td>\n",
       "      <td>0.297050</td>\n",
       "      <td>0.286950</td>\n",
       "      <td>0.283717</td>\n",
       "      <td>0.293583</td>\n",
       "      <td>0.790850</td>\n",
       "      <td>0.914083</td>\n",
       "      <td>0.929167</td>\n",
       "      <td>...</td>\n",
       "      <td>0.037180</td>\n",
       "      <td>0.037238</td>\n",
       "      <td>0.021009</td>\n",
       "      <td>0.016897</td>\n",
       "      <td>0.015468</td>\n",
       "      <td>0.012938</td>\n",
       "      <td>0.011480</td>\n",
       "      <td>0.009744</td>\n",
       "      <td>0.008606</td>\n",
       "      <td>0.008468</td>\n",
       "    </tr>\n",
       "  </tbody>\n",
       "</table>\n",
       "<p>5 rows × 145 columns</p>\n",
       "</div>"
      ],
      "text/plain": [
       "   House ID       u_1       u_2       u_3       u_4       u_5       u_6  \\\n",
       "0  11628280  1.034950  0.990733  0.904383  0.940583  0.958350  0.940750   \n",
       "1  11628291  0.742283  0.743917  0.742250  0.740300  0.743651  0.838403   \n",
       "2  11628301  0.236132  0.273704  0.255804  0.248360  0.191183  0.202845   \n",
       "3  11628319  0.779583  0.766733  0.660650  0.591733  0.600967  0.578200   \n",
       "4  11628335  0.299017  0.301467  0.297050  0.286950  0.283717  0.293583   \n",
       "\n",
       "        u_7       u_8       u_9    ...         p_39      p_40      p_41  \\\n",
       "0  0.936317  0.919983  0.894133    ...     0.021406  0.020981  0.019509   \n",
       "1  0.771068  0.797265  0.762628    ...     0.020703  0.018956  0.018786   \n",
       "2  0.314648  0.314576  0.251421    ...     0.063615  0.060917  0.055962   \n",
       "3  0.581083  0.595033  0.615067    ...     0.030123  0.035465  0.036182   \n",
       "4  0.790850  0.914083  0.929167    ...     0.037180  0.037238  0.021009   \n",
       "\n",
       "       p_42      p_43      p_44      p_45      p_46      p_47      p_48  \n",
       "0  0.019009  0.019226  0.018909  0.019017  0.019521  0.019504  0.019241  \n",
       "1  0.018658  0.017564  0.017195  0.017451  0.018865  0.018214  0.017874  \n",
       "2  0.040179  0.025159  0.013686  0.010051  0.006760  0.006476  0.005591  \n",
       "3  0.035222  0.032022  0.030527  0.027833  0.024870  0.019554  0.017096  \n",
       "4  0.016897  0.015468  0.012938  0.011480  0.009744  0.008606  0.008468  \n",
       "\n",
       "[5 rows x 145 columns]"
      ]
     },
     "metadata": {},
     "output_type": "display_data"
    },
    {
     "data": {
      "text/plain": [
       "0    0\n",
       "1    1\n",
       "2    1\n",
       "3    0\n",
       "4    0\n",
       "Name: House Label, dtype: int64"
      ]
     },
     "metadata": {},
     "output_type": "display_data"
    }
   ],
   "source": [
    "X_house = house_data_df.copy()\n",
    "y_house = X_house['House Label']\n",
    "X_house.drop(['House Label'], axis=1, inplace=True)\n",
    "display(X_house.head())\n",
    "display(y_house.head())"
   ]
  },
  {
   "cell_type": "markdown",
   "metadata": {},
   "source": [
    "### House Training split"
   ]
  },
  {
   "cell_type": "code",
   "execution_count": 27,
   "metadata": {
    "collapsed": true
   },
   "outputs": [],
   "source": [
    "from sklearn.model_selection import train_test_split\n",
    "\n",
    "X_train_house, X_valid_house, y_train_house, y_valid_house = train_test_split(X_house,\n",
    "                                                                            y_house,\n",
    "                                                                            test_size=0.25,\n",
    "                                                                            random_state=42)"
   ]
  },
  {
   "cell_type": "markdown",
   "metadata": {},
   "source": [
    "### F1 Score for Houses"
   ]
  },
  {
   "cell_type": "code",
   "execution_count": 28,
   "metadata": {},
   "outputs": [
    {
     "name": "stdout",
     "output_type": "stream",
     "text": [
      "All 0 F-score: 0.000\n",
      "Alternating 0,1 F-score: 0.367\n",
      "All 1 F-score: 0.487\n"
     ]
    },
    {
     "name": "stderr",
     "output_type": "stream",
     "text": [
      "/Users/salvadornunez/anaconda/envs/ev-capstone/lib/python3.6/site-packages/sklearn/metrics/classification.py:1113: UndefinedMetricWarning: F-score is ill-defined and being set to 0.0 due to no predicted samples.\n",
      "  'precision', 'predicted', average, warn_for)\n"
     ]
    }
   ],
   "source": [
    "show_baseline_f1_scores(y_valid_house)"
   ]
  },
  {
   "cell_type": "markdown",
   "metadata": {
    "collapsed": true
   },
   "source": [
    "### House Training"
   ]
  },
  {
   "cell_type": "code",
   "execution_count": 29,
   "metadata": {},
   "outputs": [
    {
     "data": {
      "text/html": [
       "<img src=\"http://aprs.org/Energy/Charging/L1-EV-timed-charging.GIF\"/>"
      ],
      "text/plain": [
       "<IPython.core.display.Image object>"
      ]
     },
     "execution_count": 29,
     "metadata": {},
     "output_type": "execute_result"
    }
   ],
   "source": [
    "Image(url= \"http://aprs.org/Energy/Charging/L1-EV-timed-charging.GIF\")"
   ]
  },
  {
   "cell_type": "code",
   "execution_count": 30,
   "metadata": {},
   "outputs": [
    {
     "name": "stdout",
     "output_type": "stream",
     "text": [
      "Best clustering was when k = 9, with a ratio of 5.069\n"
     ]
    },
    {
     "data": {
      "image/png": "[encoded data removed]",
      "text/plain": [
       "<matplotlib.figure.Figure at 0x117aa7c50>"
      ]
     },
     "metadata": {},
     "output_type": "display_data"
    }
   ],
   "source": [
    "X_train_house, centers_df, k_col_name = cluster_retrieve_best_k(X_train_house, y_train_house)"
   ]
  },
  {
   "cell_type": "code",
   "execution_count": 31,
   "metadata": {},
   "outputs": [
    {
     "data": {
      "text/plain": [
       "GradientBoostingClassifier(criterion='friedman_mse', init=None,\n",
       "              learning_rate=0.1, loss='deviance', max_depth=3,\n",
       "              max_features=None, max_leaf_nodes=None,\n",
       "              min_impurity_split=1e-07, min_samples_leaf=1,\n",
       "              min_samples_split=2, min_weight_fraction_leaf=0.0,\n",
       "              n_estimators=100, presort='auto', random_state=42,\n",
       "              subsample=1.0, verbose=0, warm_start=False)"
      ]
     },
     "execution_count": 31,
     "metadata": {},
     "output_type": "execute_result"
    }
   ],
   "source": [
    "h_clf1 = GradientBoostingClassifier(random_state = 42)\n",
    "h_clf1.fit(X_train_house, y_train_house)"
   ]
  },
  {
   "cell_type": "code",
   "execution_count": 32,
   "metadata": {},
   "outputs": [
    {
     "data": {
      "text/plain": [
       "array([  3.32508506e-02,   6.75851785e-03,   1.55058516e-03,\n",
       "         4.49561581e-03,   0.00000000e+00,   8.37088775e-04,\n",
       "         4.26933767e-03,   1.20950147e-02,   4.53612124e-03,\n",
       "         1.60223769e-03,   1.25098436e-03,   1.69252199e-03,\n",
       "         5.67935262e-03,   1.04498118e-02,   1.10345605e-03,\n",
       "         1.11232808e-03,   3.90702881e-03,   0.00000000e+00,\n",
       "         5.85550447e-03,   1.30568497e-03,   0.00000000e+00,\n",
       "         0.00000000e+00,   2.10491925e-03,   0.00000000e+00,\n",
       "         8.58752835e-04,   1.08610718e-03,   3.68667717e-04,\n",
       "         0.00000000e+00,   4.35447799e-03,   0.00000000e+00,\n",
       "         2.15627292e-03,   3.22026003e-03,   3.66331176e-03,\n",
       "         8.19043299e-03,   1.61213174e-02,   1.51858009e-02,\n",
       "         4.33353087e-03,   1.36918682e-03,   1.44491597e-03,\n",
       "         0.00000000e+00,   3.00234400e-03,   4.51188290e-03,\n",
       "         9.23129965e-05,   4.13361711e-03,   2.11628736e-03,\n",
       "         2.98223456e-03,   5.30907747e-03,   4.09614921e-03,\n",
       "         0.00000000e+00,   2.21577190e-02,   2.30860678e-02,\n",
       "         1.68793359e-02,   1.94207632e-02,   2.74093265e-02,\n",
       "         3.32938913e-02,   1.22600563e-02,   2.22322764e-02,\n",
       "         2.69699519e-02,   1.82291180e-02,   1.91991050e-02,\n",
       "         2.94023626e-02,   2.31102426e-02,   9.96273819e-03,\n",
       "         1.59052898e-03,   5.52887109e-03,   0.00000000e+00,\n",
       "         8.17673384e-03,   2.39583865e-03,   4.94172502e-03,\n",
       "         1.36202759e-02,   6.40404718e-03,   3.18506663e-03,\n",
       "         0.00000000e+00,   9.20843409e-04,   0.00000000e+00,\n",
       "         0.00000000e+00,   1.45933871e-02,   1.23600688e-02,\n",
       "         4.59980230e-03,   1.44596798e-02,   1.37642623e-02,\n",
       "         3.63829591e-03,   6.34494095e-03,   9.25244373e-03,\n",
       "         1.59161618e-02,   1.77005829e-02,   6.84088243e-02,\n",
       "         2.40002034e-02,   3.83778319e-03,   4.12556488e-03,\n",
       "         1.25071360e-02,   1.88382974e-03,   8.12423362e-03,\n",
       "         1.30755354e-03,   2.81745282e-02,   1.08637707e-02,\n",
       "         7.50637968e-03,   7.37239838e-04,   1.45839619e-03,\n",
       "         1.51463472e-03,   1.71117113e-03,   1.06566599e-03,\n",
       "         1.70151934e-03,   4.28382694e-03,   1.63601302e-03,\n",
       "         1.45686652e-03,   7.22546254e-03,   7.29254761e-03,\n",
       "         4.62092885e-03,   7.55274558e-03,   2.26560172e-03,\n",
       "         4.82339577e-03,   2.75278285e-03,   7.58871220e-03,\n",
       "         0.00000000e+00,   2.49119580e-03,   6.82432996e-04,\n",
       "         0.00000000e+00,   2.48356640e-03,   4.24879774e-03,\n",
       "         0.00000000e+00,   0.00000000e+00,   0.00000000e+00,\n",
       "         1.72222924e-03,   0.00000000e+00,   2.16068457e-03,\n",
       "         1.13610987e-03,   6.14834490e-03,   4.90558291e-04,\n",
       "         0.00000000e+00,   5.37823748e-03,   8.63953980e-03,\n",
       "         4.66080683e-03,   2.93109635e-03,   1.63944519e-02,\n",
       "         5.51020296e-03,   4.94454287e-03,   6.08304683e-03,\n",
       "         2.51112448e-03,   3.38762120e-03,   4.29618001e-03,\n",
       "         1.15251364e-02,   7.85222798e-03,   1.44714157e-03,\n",
       "         5.10359982e-03,   1.88339210e-03])"
      ]
     },
     "execution_count": 32,
     "metadata": {},
     "output_type": "execute_result"
    }
   ],
   "source": [
    "h_clf1.feature_importances_"
   ]
  },
  {
   "cell_type": "code",
   "execution_count": 33,
   "metadata": {
    "collapsed": true
   },
   "outputs": [],
   "source": [
    "y_train_house_pred = h_clf1.predict(X_train_house)"
   ]
  },
  {
   "cell_type": "code",
   "execution_count": 34,
   "metadata": {},
   "outputs": [
    {
     "data": {
      "text/plain": [
       "0.98145506419400852"
      ]
     },
     "execution_count": 34,
     "metadata": {},
     "output_type": "execute_result"
    }
   ],
   "source": [
    "f1_score(y_train_house, y_train_house_pred)"
   ]
  },
  {
   "cell_type": "code",
   "execution_count": 35,
   "metadata": {},
   "outputs": [
    {
     "data": {
      "text/plain": [
       "array([[835,   0],\n",
       "       [ 13, 344]])"
      ]
     },
     "execution_count": 35,
     "metadata": {},
     "output_type": "execute_result"
    }
   ],
   "source": [
    "confusion_matrix(y_train_house, y_train_house_pred)"
   ]
  },
  {
   "cell_type": "markdown",
   "metadata": {},
   "source": [
    "### House Validation"
   ]
  },
  {
   "cell_type": "code",
   "execution_count": 36,
   "metadata": {},
   "outputs": [],
   "source": [
    "KNN_cols = X_train_house.columns.values.tolist()\n",
    "KNN_cols.remove('House ID')\n",
    "KNN_cols.remove(k_col_name)"
   ]
  },
  {
   "cell_type": "code",
   "execution_count": 37,
   "metadata": {},
   "outputs": [
    {
     "name": "stderr",
     "output_type": "stream",
     "text": [
      "/Users/salvadornunez/anaconda/envs/ev-capstone/lib/python3.6/site-packages/ipykernel_launcher.py:3: SettingWithCopyWarning: \n",
      "A value is trying to be set on a copy of a slice from a DataFrame.\n",
      "Try using .loc[row_indexer,col_indexer] = value instead\n",
      "\n",
      "See the caveats in the documentation: http://pandas.pydata.org/pandas-docs/stable/indexing.html#indexing-view-versus-copy\n",
      "  This is separate from the ipykernel package so we can avoid doing imports until\n"
     ]
    }
   ],
   "source": [
    "neigh = KNeighborsClassifier(n_neighbors=5)\n",
    "neigh.fit(X_train_house[KNN_cols], X_train_house[k_col_name]) \n",
    "X_valid_house[k_col_name] = neigh.predict(X_valid_house[KNN_cols])"
   ]
  },
  {
   "cell_type": "code",
   "execution_count": 38,
   "metadata": {
    "collapsed": true
   },
   "outputs": [],
   "source": [
    "y_valid_house_pred = h_clf1.predict(X_valid_house)"
   ]
  },
  {
   "cell_type": "code",
   "execution_count": 39,
   "metadata": {},
   "outputs": [
    {
     "data": {
      "text/plain": [
       "0.75303643724696356"
      ]
     },
     "execution_count": 39,
     "metadata": {},
     "output_type": "execute_result"
    }
   ],
   "source": [
    "f1_score(y_valid_house, y_valid_house_pred)"
   ]
  },
  {
   "cell_type": "code",
   "execution_count": 40,
   "metadata": {},
   "outputs": [
    {
     "data": {
      "text/plain": [
       "array([[244,  26],\n",
       "       [ 35,  93]])"
      ]
     },
     "execution_count": 40,
     "metadata": {},
     "output_type": "execute_result"
    }
   ],
   "source": [
    "confusion_matrix(y_valid_house, y_valid_house_pred)"
   ]
  },
  {
   "cell_type": "markdown",
   "metadata": {},
   "source": [
    "# Time Classification"
   ]
  },
  {
   "cell_type": "code",
   "execution_count": 41,
   "metadata": {},
   "outputs": [
    {
     "name": "stderr",
     "output_type": "stream",
     "text": [
      "/Users/salvadornunez/anaconda/envs/ev-capstone/lib/python3.6/site-packages/ipykernel_launcher.py:71: SettingWithCopyWarning: \n",
      "A value is trying to be set on a copy of a slice from a DataFrame\n",
      "\n",
      "See the caveats in the documentation: http://pandas.pydata.org/pandas-docs/stable/indexing.html#indexing-view-versus-copy\n"
     ]
    }
   ],
   "source": [
    "X_train_time, y_train_time = transform_house_subset_to_time(\n",
    "    X_train_house,\n",
    "    y_train_house,\n",
    "    ev_train_piv_lab_tmp_filled\n",
    ")"
   ]
  },
  {
   "cell_type": "code",
   "execution_count": 42,
   "metadata": {},
   "outputs": [
    {
     "name": "stderr",
     "output_type": "stream",
     "text": [
      "/Users/salvadornunez/anaconda/envs/ev-capstone/lib/python3.6/site-packages/ipykernel_launcher.py:71: SettingWithCopyWarning: \n",
      "A value is trying to be set on a copy of a slice from a DataFrame\n",
      "\n",
      "See the caveats in the documentation: http://pandas.pydata.org/pandas-docs/stable/indexing.html#indexing-view-versus-copy\n"
     ]
    }
   ],
   "source": [
    "X_valid_time, y_valid_time = transform_house_subset_to_time(\n",
    "    X_valid_house,\n",
    "    y_valid_house_pred, # use predicted values, not true values\n",
    "    ev_train_piv_lab_tmp_filled\n",
    ")"
   ]
  },
  {
   "cell_type": "markdown",
   "metadata": {},
   "source": [
    "### Augment Training Data"
   ]
  },
  {
   "cell_type": "code",
   "execution_count": 43,
   "metadata": {},
   "outputs": [],
   "source": [
    "X_train_time_augmented = augment_time_data(\n",
    "    X_train_time, \n",
    "    X_train_house, \n",
    "    centers_df)"
   ]
  },
  {
   "cell_type": "markdown",
   "metadata": {},
   "source": [
    "### Predict Training Data"
   ]
  },
  {
   "cell_type": "code",
   "execution_count": 44,
   "metadata": {},
   "outputs": [
    {
     "data": {
      "text/plain": [
       "GradientBoostingClassifier(criterion='friedman_mse', init=None,\n",
       "              learning_rate=0.1, loss='deviance', max_depth=3,\n",
       "              max_features=None, max_leaf_nodes=None,\n",
       "              min_impurity_split=1e-07, min_samples_leaf=1,\n",
       "              min_samples_split=2, min_weight_fraction_leaf=0.0,\n",
       "              n_estimators=100, presort='auto', random_state=42,\n",
       "              subsample=1.0, verbose=0, warm_start=False)"
      ]
     },
     "execution_count": 44,
     "metadata": {},
     "output_type": "execute_result"
    }
   ],
   "source": [
    "t_clf1 = GradientBoostingClassifier(random_state = 42)\n",
    "t_clf1.fit(X_train_time_augmented, y_train_time)"
   ]
  },
  {
   "cell_type": "code",
   "execution_count": 45,
   "metadata": {
    "collapsed": true
   },
   "outputs": [],
   "source": [
    "y_train_time_pred = t_clf1.predict(X_train_time_augmented)"
   ]
  },
  {
   "cell_type": "code",
   "execution_count": 46,
   "metadata": {},
   "outputs": [
    {
     "data": {
      "text/plain": [
       "0.72386198145718295"
      ]
     },
     "execution_count": 46,
     "metadata": {},
     "output_type": "execute_result"
    }
   ],
   "source": [
    "f1_score(y_train_time, y_train_time_pred)"
   ]
  },
  {
   "cell_type": "code",
   "execution_count": 47,
   "metadata": {},
   "outputs": [
    {
     "data": {
      "text/plain": [
       "array([[939656,  10789],\n",
       "       [ 27513,  50202]])"
      ]
     },
     "execution_count": 47,
     "metadata": {},
     "output_type": "execute_result"
    }
   ],
   "source": [
    "confusion_matrix(y_train_time, y_train_time_pred)"
   ]
  },
  {
   "cell_type": "markdown",
   "metadata": {},
   "source": [
    "### Augment Validation Data"
   ]
  },
  {
   "cell_type": "code",
   "execution_count": 48,
   "metadata": {
    "collapsed": true
   },
   "outputs": [],
   "source": [
    "X_valid_time_augmented = augment_time_data(\n",
    "    X_valid_time, \n",
    "    X_valid_house, \n",
    "    centers_df)"
   ]
  },
  {
   "cell_type": "markdown",
   "metadata": {},
   "source": [
    "### Predict Validation Training Data"
   ]
  },
  {
   "cell_type": "code",
   "execution_count": 49,
   "metadata": {},
   "outputs": [
    {
     "name": "stdout",
     "output_type": "stream",
     "text": [
      "All 0 F-score: 0.000\n",
      "Alternating 0,1 F-score: 0.110\n",
      "All 1 F-score: 0.116\n"
     ]
    },
    {
     "name": "stderr",
     "output_type": "stream",
     "text": [
      "/Users/salvadornunez/anaconda/envs/ev-capstone/lib/python3.6/site-packages/sklearn/metrics/classification.py:1113: UndefinedMetricWarning: F-score is ill-defined and being set to 0.0 due to no predicted samples.\n",
      "  'precision', 'predicted', average, warn_for)\n"
     ]
    }
   ],
   "source": [
    "show_baseline_f1_scores(y_valid_time)"
   ]
  },
  {
   "cell_type": "code",
   "execution_count": 50,
   "metadata": {
    "collapsed": true
   },
   "outputs": [],
   "source": [
    "y_valid_time_pred = t_clf1.predict(X_valid_time_augmented)"
   ]
  },
  {
   "cell_type": "code",
   "execution_count": 51,
   "metadata": {},
   "outputs": [
    {
     "data": {
      "text/plain": [
       "0.67729655964950086"
      ]
     },
     "execution_count": 51,
     "metadata": {},
     "output_type": "execute_result"
    }
   ],
   "source": [
    "f1_score(y_valid_time, y_valid_time_pred)"
   ]
  },
  {
   "cell_type": "code",
   "execution_count": 52,
   "metadata": {},
   "outputs": [
    {
     "data": {
      "text/plain": [
       "array([[315096,   6502],\n",
       "       [  6977,  14145]])"
      ]
     },
     "execution_count": 52,
     "metadata": {},
     "output_type": "execute_result"
    }
   ],
   "source": [
    "confusion_matrix(y_valid_time, y_valid_time_pred)"
   ]
  },
  {
   "cell_type": "markdown",
   "metadata": {},
   "source": [
    "### Transform Back to Raw Format"
   ]
  },
  {
   "cell_type": "code",
   "execution_count": 53,
   "metadata": {
    "collapsed": true
   },
   "outputs": [],
   "source": [
    "EV_train_label_predictions = format_EV_predictions(\n",
    "    y_valid_time_pred, \n",
    "    X_valid_time_augmented\n",
    ")"
   ]
  },
  {
   "cell_type": "code",
   "execution_count": 54,
   "metadata": {},
   "outputs": [
    {
     "data": {
      "text/html": [
       "<div>\n",
       "<style>\n",
       "    .dataframe thead tr:only-child th {\n",
       "        text-align: right;\n",
       "    }\n",
       "\n",
       "    .dataframe thead th {\n",
       "        text-align: left;\n",
       "    }\n",
       "\n",
       "    .dataframe tbody tr th {\n",
       "        vertical-align: top;\n",
       "    }\n",
       "</style>\n",
       "<table border=\"1\" class=\"dataframe\">\n",
       "  <thead>\n",
       "    <tr style=\"text-align: right;\">\n",
       "      <th></th>\n",
       "      <th>Interval_1</th>\n",
       "      <th>Interval_2</th>\n",
       "      <th>Interval_3</th>\n",
       "      <th>Interval_4</th>\n",
       "      <th>Interval_5</th>\n",
       "      <th>Interval_6</th>\n",
       "      <th>Interval_7</th>\n",
       "      <th>Interval_8</th>\n",
       "      <th>Interval_9</th>\n",
       "      <th>Interval_10</th>\n",
       "      <th>...</th>\n",
       "      <th>Interval_2871</th>\n",
       "      <th>Interval_2872</th>\n",
       "      <th>Interval_2873</th>\n",
       "      <th>Interval_2874</th>\n",
       "      <th>Interval_2875</th>\n",
       "      <th>Interval_2876</th>\n",
       "      <th>Interval_2877</th>\n",
       "      <th>Interval_2878</th>\n",
       "      <th>Interval_2879</th>\n",
       "      <th>Interval_2880</th>\n",
       "    </tr>\n",
       "    <tr>\n",
       "      <th>House ID</th>\n",
       "      <th></th>\n",
       "      <th></th>\n",
       "      <th></th>\n",
       "      <th></th>\n",
       "      <th></th>\n",
       "      <th></th>\n",
       "      <th></th>\n",
       "      <th></th>\n",
       "      <th></th>\n",
       "      <th></th>\n",
       "      <th></th>\n",
       "      <th></th>\n",
       "      <th></th>\n",
       "      <th></th>\n",
       "      <th></th>\n",
       "      <th></th>\n",
       "      <th></th>\n",
       "      <th></th>\n",
       "      <th></th>\n",
       "      <th></th>\n",
       "      <th></th>\n",
       "    </tr>\n",
       "  </thead>\n",
       "  <tbody>\n",
       "    <tr>\n",
       "      <th>11628565</th>\n",
       "      <td>0</td>\n",
       "      <td>0</td>\n",
       "      <td>0</td>\n",
       "      <td>0</td>\n",
       "      <td>0</td>\n",
       "      <td>0</td>\n",
       "      <td>0</td>\n",
       "      <td>0</td>\n",
       "      <td>0</td>\n",
       "      <td>0</td>\n",
       "      <td>...</td>\n",
       "      <td>0</td>\n",
       "      <td>0</td>\n",
       "      <td>0</td>\n",
       "      <td>0</td>\n",
       "      <td>0</td>\n",
       "      <td>0</td>\n",
       "      <td>0</td>\n",
       "      <td>0</td>\n",
       "      <td>0</td>\n",
       "      <td>0</td>\n",
       "    </tr>\n",
       "    <tr>\n",
       "      <th>11628886</th>\n",
       "      <td>0</td>\n",
       "      <td>0</td>\n",
       "      <td>0</td>\n",
       "      <td>0</td>\n",
       "      <td>0</td>\n",
       "      <td>0</td>\n",
       "      <td>0</td>\n",
       "      <td>0</td>\n",
       "      <td>0</td>\n",
       "      <td>0</td>\n",
       "      <td>...</td>\n",
       "      <td>0</td>\n",
       "      <td>0</td>\n",
       "      <td>0</td>\n",
       "      <td>0</td>\n",
       "      <td>0</td>\n",
       "      <td>0</td>\n",
       "      <td>0</td>\n",
       "      <td>0</td>\n",
       "      <td>0</td>\n",
       "      <td>0</td>\n",
       "    </tr>\n",
       "    <tr>\n",
       "      <th>11628910</th>\n",
       "      <td>0</td>\n",
       "      <td>0</td>\n",
       "      <td>0</td>\n",
       "      <td>0</td>\n",
       "      <td>0</td>\n",
       "      <td>0</td>\n",
       "      <td>0</td>\n",
       "      <td>0</td>\n",
       "      <td>0</td>\n",
       "      <td>0</td>\n",
       "      <td>...</td>\n",
       "      <td>0</td>\n",
       "      <td>0</td>\n",
       "      <td>0</td>\n",
       "      <td>0</td>\n",
       "      <td>0</td>\n",
       "      <td>0</td>\n",
       "      <td>0</td>\n",
       "      <td>0</td>\n",
       "      <td>0</td>\n",
       "      <td>0</td>\n",
       "    </tr>\n",
       "    <tr>\n",
       "      <th>11629322</th>\n",
       "      <td>0</td>\n",
       "      <td>0</td>\n",
       "      <td>0</td>\n",
       "      <td>0</td>\n",
       "      <td>0</td>\n",
       "      <td>0</td>\n",
       "      <td>0</td>\n",
       "      <td>0</td>\n",
       "      <td>0</td>\n",
       "      <td>0</td>\n",
       "      <td>...</td>\n",
       "      <td>0</td>\n",
       "      <td>0</td>\n",
       "      <td>0</td>\n",
       "      <td>0</td>\n",
       "      <td>0</td>\n",
       "      <td>0</td>\n",
       "      <td>0</td>\n",
       "      <td>0</td>\n",
       "      <td>0</td>\n",
       "      <td>0</td>\n",
       "    </tr>\n",
       "    <tr>\n",
       "      <th>11629366</th>\n",
       "      <td>0</td>\n",
       "      <td>0</td>\n",
       "      <td>0</td>\n",
       "      <td>0</td>\n",
       "      <td>0</td>\n",
       "      <td>0</td>\n",
       "      <td>0</td>\n",
       "      <td>0</td>\n",
       "      <td>0</td>\n",
       "      <td>0</td>\n",
       "      <td>...</td>\n",
       "      <td>0</td>\n",
       "      <td>0</td>\n",
       "      <td>0</td>\n",
       "      <td>0</td>\n",
       "      <td>0</td>\n",
       "      <td>0</td>\n",
       "      <td>0</td>\n",
       "      <td>0</td>\n",
       "      <td>0</td>\n",
       "      <td>0</td>\n",
       "    </tr>\n",
       "  </tbody>\n",
       "</table>\n",
       "<p>5 rows × 2880 columns</p>\n",
       "</div>"
      ],
      "text/plain": [
       "          Interval_1  Interval_2  Interval_3  Interval_4  Interval_5  \\\n",
       "House ID                                                               \n",
       "11628565           0           0           0           0           0   \n",
       "11628886           0           0           0           0           0   \n",
       "11628910           0           0           0           0           0   \n",
       "11629322           0           0           0           0           0   \n",
       "11629366           0           0           0           0           0   \n",
       "\n",
       "          Interval_6  Interval_7  Interval_8  Interval_9  Interval_10  \\\n",
       "House ID                                                                \n",
       "11628565           0           0           0           0            0   \n",
       "11628886           0           0           0           0            0   \n",
       "11628910           0           0           0           0            0   \n",
       "11629322           0           0           0           0            0   \n",
       "11629366           0           0           0           0            0   \n",
       "\n",
       "              ...        Interval_2871  Interval_2872  Interval_2873  \\\n",
       "House ID      ...                                                      \n",
       "11628565      ...                    0              0              0   \n",
       "11628886      ...                    0              0              0   \n",
       "11628910      ...                    0              0              0   \n",
       "11629322      ...                    0              0              0   \n",
       "11629366      ...                    0              0              0   \n",
       "\n",
       "          Interval_2874  Interval_2875  Interval_2876  Interval_2877  \\\n",
       "House ID                                                               \n",
       "11628565              0              0              0              0   \n",
       "11628886              0              0              0              0   \n",
       "11628910              0              0              0              0   \n",
       "11629322              0              0              0              0   \n",
       "11629366              0              0              0              0   \n",
       "\n",
       "          Interval_2878  Interval_2879  Interval_2880  \n",
       "House ID                                               \n",
       "11628565              0              0              0  \n",
       "11628886              0              0              0  \n",
       "11628910              0              0              0  \n",
       "11629322              0              0              0  \n",
       "11629366              0              0              0  \n",
       "\n",
       "[5 rows x 2880 columns]"
      ]
     },
     "execution_count": 54,
     "metadata": {},
     "output_type": "execute_result"
    }
   ],
   "source": [
    "EV_train_label_predictions.head()"
   ]
  }
 ],
 "metadata": {
  "kernelspec": {
   "display_name": "EV Capstone Project",
   "language": "python",
   "name": "ev-capstone"
  },
  "language_info": {
   "codemirror_mode": {
    "name": "ipython",
    "version": 3
   },
   "file_extension": ".py",
   "mimetype": "text/x-python",
   "name": "python",
   "nbconvert_exporter": "python",
   "pygments_lexer": "ipython3",
   "version": "3.6.2"
  }
 },
 "nbformat": 4,
 "nbformat_minor": 2
}
