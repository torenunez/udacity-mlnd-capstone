{
 "cells": [
  {
   "cell_type": "markdown",
   "metadata": {},
   "source": [
    "##### Machine Learning Nanodegree\n",
    "##### Capstone Project: Electric Vehicle Detection \n",
    "##### Salvador Nunez"
   ]
  },
  {
   "cell_type": "markdown",
   "metadata": {},
   "source": [
    "# Setup"
   ]
  },
  {
   "cell_type": "code",
   "execution_count": 1,
   "metadata": {
    "collapsed": true
   },
   "outputs": [],
   "source": [
    "# Import libraries necessary for this project\n",
    "import os.path\n",
    "import time\n",
    "import pickle\n",
    "\n",
    "import math\n",
    "import numpy as np\n",
    "import pandas as pd\n",
    "import matplotlib.pyplot as plt\n",
    "from IPython.display import display, Image \n",
    "\n",
    "from sklearn.externals import joblib\n",
    "from sklearn.model_selection import train_test_split\n",
    "from sklearn.svm import SVC\n",
    "from sklearn.naive_bayes import GaussianNB\n",
    "from sklearn.linear_model import LogisticRegression, SGDClassifier\n",
    "from sklearn.ensemble import GradientBoostingClassifier\n",
    "from sklearn.neural_network import MLPClassifier\n",
    "from sklearn.neighbors import KNeighborsClassifier\n",
    "from sklearn.metrics import f1_score, confusion_matrix, make_scorer\n",
    "from sklearn.model_selection import GridSearchCV, ShuffleSplit\n",
    "\n",
    "# Import functions defined for this project, located in this repo in ev_capstone_lib.py\n",
    "import ev_capstone_lib as ev\n",
    "\n",
    "# Pretty display for notebooks\n",
    "%matplotlib inline"
   ]
  },
  {
   "cell_type": "code",
   "execution_count": 2,
   "metadata": {
    "collapsed": true
   },
   "outputs": [],
   "source": [
    "# set visualization defaults\n",
    "title_font = {'fontname':'Arial', 'size':'18', 'color':'black', \n",
    "              'weight':'bold','verticalalignment':'bottom'} \n",
    "axis_font = {'fontname':'Arial', 'size':'16','weight':'bold'}"
   ]
  },
  {
   "cell_type": "markdown",
   "metadata": {},
   "source": [
    "# Data Exploration"
   ]
  },
  {
   "cell_type": "markdown",
   "metadata": {},
   "source": [
    "## Import"
   ]
  },
  {
   "cell_type": "code",
   "execution_count": 3,
   "metadata": {
    "collapsed": true
   },
   "outputs": [],
   "source": [
    "ev_train_raw = pd.read_csv('source_files/EV_train.csv')\n",
    "ev_train_labels_raw = pd.read_csv('source_files/EV_train_labels.csv')"
   ]
  },
  {
   "cell_type": "markdown",
   "metadata": {},
   "source": [
    "## Inspect"
   ]
  },
  {
   "cell_type": "code",
   "execution_count": 4,
   "metadata": {},
   "outputs": [
    {
     "name": "stdout",
     "output_type": "stream",
     "text": [
      "(1590, 2881)\n",
      "(1590, 2881)\n"
     ]
    }
   ],
   "source": [
    "print(ev_train_raw.shape)\n",
    "print(ev_train_labels_raw.shape)"
   ]
  },
  {
   "cell_type": "code",
   "execution_count": 5,
   "metadata": {},
   "outputs": [
    {
     "data": {
      "text/html": [
       "<div>\n",
       "<style>\n",
       "    .dataframe thead tr:only-child th {\n",
       "        text-align: right;\n",
       "    }\n",
       "\n",
       "    .dataframe thead th {\n",
       "        text-align: left;\n",
       "    }\n",
       "\n",
       "    .dataframe tbody tr th {\n",
       "        vertical-align: top;\n",
       "    }\n",
       "</style>\n",
       "<table border=\"1\" class=\"dataframe\">\n",
       "  <thead>\n",
       "    <tr style=\"text-align: right;\">\n",
       "      <th></th>\n",
       "      <th>House ID</th>\n",
       "      <th>Interval_1</th>\n",
       "      <th>Interval_2</th>\n",
       "      <th>Interval_3</th>\n",
       "      <th>Interval_4</th>\n",
       "      <th>Interval_5</th>\n",
       "      <th>Interval_6</th>\n",
       "      <th>Interval_7</th>\n",
       "      <th>Interval_8</th>\n",
       "      <th>Interval_9</th>\n",
       "      <th>...</th>\n",
       "      <th>Interval_2871</th>\n",
       "      <th>Interval_2872</th>\n",
       "      <th>Interval_2873</th>\n",
       "      <th>Interval_2874</th>\n",
       "      <th>Interval_2875</th>\n",
       "      <th>Interval_2876</th>\n",
       "      <th>Interval_2877</th>\n",
       "      <th>Interval_2878</th>\n",
       "      <th>Interval_2879</th>\n",
       "      <th>Interval_2880</th>\n",
       "    </tr>\n",
       "  </thead>\n",
       "  <tbody>\n",
       "    <tr>\n",
       "      <th>0</th>\n",
       "      <td>11655099</td>\n",
       "      <td>0.950</td>\n",
       "      <td>0.826</td>\n",
       "      <td>0.361</td>\n",
       "      <td>0.238</td>\n",
       "      <td>0.342</td>\n",
       "      <td>0.233000</td>\n",
       "      <td>0.351000</td>\n",
       "      <td>0.194000</td>\n",
       "      <td>0.292000</td>\n",
       "      <td>...</td>\n",
       "      <td>0.664</td>\n",
       "      <td>0.783</td>\n",
       "      <td>0.601</td>\n",
       "      <td>0.639</td>\n",
       "      <td>0.417</td>\n",
       "      <td>0.439</td>\n",
       "      <td>0.226</td>\n",
       "      <td>0.190</td>\n",
       "      <td>0.710</td>\n",
       "      <td>0.728</td>\n",
       "    </tr>\n",
       "    <tr>\n",
       "      <th>1</th>\n",
       "      <td>11633257</td>\n",
       "      <td>0.353</td>\n",
       "      <td>0.327</td>\n",
       "      <td>0.358</td>\n",
       "      <td>0.292</td>\n",
       "      <td>0.285</td>\n",
       "      <td>0.304000</td>\n",
       "      <td>0.361000</td>\n",
       "      <td>0.342000</td>\n",
       "      <td>0.355000</td>\n",
       "      <td>...</td>\n",
       "      <td>0.536</td>\n",
       "      <td>0.558</td>\n",
       "      <td>0.622</td>\n",
       "      <td>0.634</td>\n",
       "      <td>0.513</td>\n",
       "      <td>0.421</td>\n",
       "      <td>0.273</td>\n",
       "      <td>0.296</td>\n",
       "      <td>0.291</td>\n",
       "      <td>0.289</td>\n",
       "    </tr>\n",
       "    <tr>\n",
       "      <th>2</th>\n",
       "      <td>11651552</td>\n",
       "      <td>0.150</td>\n",
       "      <td>0.181</td>\n",
       "      <td>0.150</td>\n",
       "      <td>0.150</td>\n",
       "      <td>0.131</td>\n",
       "      <td>0.125000</td>\n",
       "      <td>0.088000</td>\n",
       "      <td>0.106000</td>\n",
       "      <td>0.094000</td>\n",
       "      <td>...</td>\n",
       "      <td>2.125</td>\n",
       "      <td>0.881</td>\n",
       "      <td>0.481</td>\n",
       "      <td>1.194</td>\n",
       "      <td>0.138</td>\n",
       "      <td>0.119</td>\n",
       "      <td>0.038</td>\n",
       "      <td>0.088</td>\n",
       "      <td>0.056</td>\n",
       "      <td>0.113</td>\n",
       "    </tr>\n",
       "    <tr>\n",
       "      <th>3</th>\n",
       "      <td>11636092</td>\n",
       "      <td>2.088</td>\n",
       "      <td>2.075</td>\n",
       "      <td>2.121</td>\n",
       "      <td>2.098</td>\n",
       "      <td>2.046</td>\n",
       "      <td>2.081000</td>\n",
       "      <td>1.847000</td>\n",
       "      <td>0.420000</td>\n",
       "      <td>0.399000</td>\n",
       "      <td>...</td>\n",
       "      <td>0.620</td>\n",
       "      <td>0.487</td>\n",
       "      <td>0.563</td>\n",
       "      <td>0.419</td>\n",
       "      <td>0.379</td>\n",
       "      <td>0.359</td>\n",
       "      <td>0.347</td>\n",
       "      <td>0.325</td>\n",
       "      <td>0.330</td>\n",
       "      <td>0.340</td>\n",
       "    </tr>\n",
       "    <tr>\n",
       "      <th>4</th>\n",
       "      <td>11647239</td>\n",
       "      <td>1.416</td>\n",
       "      <td>1.250</td>\n",
       "      <td>1.270</td>\n",
       "      <td>1.258</td>\n",
       "      <td>1.239</td>\n",
       "      <td>1.753105</td>\n",
       "      <td>4.609256</td>\n",
       "      <td>4.619256</td>\n",
       "      <td>4.075151</td>\n",
       "      <td>...</td>\n",
       "      <td>1.596</td>\n",
       "      <td>1.667</td>\n",
       "      <td>1.569</td>\n",
       "      <td>1.664</td>\n",
       "      <td>1.580</td>\n",
       "      <td>1.635</td>\n",
       "      <td>1.568</td>\n",
       "      <td>1.565</td>\n",
       "      <td>1.575</td>\n",
       "      <td>1.571</td>\n",
       "    </tr>\n",
       "  </tbody>\n",
       "</table>\n",
       "<p>5 rows × 2881 columns</p>\n",
       "</div>"
      ],
      "text/plain": [
       "   House ID  Interval_1  Interval_2  Interval_3  Interval_4  Interval_5  \\\n",
       "0  11655099       0.950       0.826       0.361       0.238       0.342   \n",
       "1  11633257       0.353       0.327       0.358       0.292       0.285   \n",
       "2  11651552       0.150       0.181       0.150       0.150       0.131   \n",
       "3  11636092       2.088       2.075       2.121       2.098       2.046   \n",
       "4  11647239       1.416       1.250       1.270       1.258       1.239   \n",
       "\n",
       "   Interval_6  Interval_7  Interval_8  Interval_9      ...        \\\n",
       "0    0.233000    0.351000    0.194000    0.292000      ...         \n",
       "1    0.304000    0.361000    0.342000    0.355000      ...         \n",
       "2    0.125000    0.088000    0.106000    0.094000      ...         \n",
       "3    2.081000    1.847000    0.420000    0.399000      ...         \n",
       "4    1.753105    4.609256    4.619256    4.075151      ...         \n",
       "\n",
       "   Interval_2871  Interval_2872  Interval_2873  Interval_2874  Interval_2875  \\\n",
       "0          0.664          0.783          0.601          0.639          0.417   \n",
       "1          0.536          0.558          0.622          0.634          0.513   \n",
       "2          2.125          0.881          0.481          1.194          0.138   \n",
       "3          0.620          0.487          0.563          0.419          0.379   \n",
       "4          1.596          1.667          1.569          1.664          1.580   \n",
       "\n",
       "   Interval_2876  Interval_2877  Interval_2878  Interval_2879  Interval_2880  \n",
       "0          0.439          0.226          0.190          0.710          0.728  \n",
       "1          0.421          0.273          0.296          0.291          0.289  \n",
       "2          0.119          0.038          0.088          0.056          0.113  \n",
       "3          0.359          0.347          0.325          0.330          0.340  \n",
       "4          1.635          1.568          1.565          1.575          1.571  \n",
       "\n",
       "[5 rows x 2881 columns]"
      ]
     },
     "metadata": {},
     "output_type": "display_data"
    },
    {
     "data": {
      "text/html": [
       "<div>\n",
       "<style>\n",
       "    .dataframe thead tr:only-child th {\n",
       "        text-align: right;\n",
       "    }\n",
       "\n",
       "    .dataframe thead th {\n",
       "        text-align: left;\n",
       "    }\n",
       "\n",
       "    .dataframe tbody tr th {\n",
       "        vertical-align: top;\n",
       "    }\n",
       "</style>\n",
       "<table border=\"1\" class=\"dataframe\">\n",
       "  <thead>\n",
       "    <tr style=\"text-align: right;\">\n",
       "      <th></th>\n",
       "      <th>House ID</th>\n",
       "      <th>Interval_1</th>\n",
       "      <th>Interval_2</th>\n",
       "      <th>Interval_3</th>\n",
       "      <th>Interval_4</th>\n",
       "      <th>Interval_5</th>\n",
       "      <th>Interval_6</th>\n",
       "      <th>Interval_7</th>\n",
       "      <th>Interval_8</th>\n",
       "      <th>Interval_9</th>\n",
       "      <th>...</th>\n",
       "      <th>Interval_2871</th>\n",
       "      <th>Interval_2872</th>\n",
       "      <th>Interval_2873</th>\n",
       "      <th>Interval_2874</th>\n",
       "      <th>Interval_2875</th>\n",
       "      <th>Interval_2876</th>\n",
       "      <th>Interval_2877</th>\n",
       "      <th>Interval_2878</th>\n",
       "      <th>Interval_2879</th>\n",
       "      <th>Interval_2880</th>\n",
       "    </tr>\n",
       "  </thead>\n",
       "  <tbody>\n",
       "    <tr>\n",
       "      <th>0</th>\n",
       "      <td>11655099</td>\n",
       "      <td>0</td>\n",
       "      <td>0</td>\n",
       "      <td>0</td>\n",
       "      <td>0</td>\n",
       "      <td>0</td>\n",
       "      <td>0</td>\n",
       "      <td>0</td>\n",
       "      <td>0</td>\n",
       "      <td>0</td>\n",
       "      <td>...</td>\n",
       "      <td>0</td>\n",
       "      <td>0</td>\n",
       "      <td>0</td>\n",
       "      <td>0</td>\n",
       "      <td>0</td>\n",
       "      <td>0</td>\n",
       "      <td>0</td>\n",
       "      <td>0</td>\n",
       "      <td>0</td>\n",
       "      <td>0</td>\n",
       "    </tr>\n",
       "    <tr>\n",
       "      <th>1</th>\n",
       "      <td>11633257</td>\n",
       "      <td>0</td>\n",
       "      <td>0</td>\n",
       "      <td>0</td>\n",
       "      <td>0</td>\n",
       "      <td>0</td>\n",
       "      <td>0</td>\n",
       "      <td>0</td>\n",
       "      <td>0</td>\n",
       "      <td>0</td>\n",
       "      <td>...</td>\n",
       "      <td>0</td>\n",
       "      <td>0</td>\n",
       "      <td>0</td>\n",
       "      <td>0</td>\n",
       "      <td>0</td>\n",
       "      <td>0</td>\n",
       "      <td>0</td>\n",
       "      <td>0</td>\n",
       "      <td>0</td>\n",
       "      <td>0</td>\n",
       "    </tr>\n",
       "    <tr>\n",
       "      <th>2</th>\n",
       "      <td>11651552</td>\n",
       "      <td>0</td>\n",
       "      <td>0</td>\n",
       "      <td>0</td>\n",
       "      <td>0</td>\n",
       "      <td>0</td>\n",
       "      <td>0</td>\n",
       "      <td>0</td>\n",
       "      <td>0</td>\n",
       "      <td>0</td>\n",
       "      <td>...</td>\n",
       "      <td>0</td>\n",
       "      <td>0</td>\n",
       "      <td>0</td>\n",
       "      <td>0</td>\n",
       "      <td>0</td>\n",
       "      <td>0</td>\n",
       "      <td>0</td>\n",
       "      <td>0</td>\n",
       "      <td>0</td>\n",
       "      <td>0</td>\n",
       "    </tr>\n",
       "    <tr>\n",
       "      <th>3</th>\n",
       "      <td>11636092</td>\n",
       "      <td>0</td>\n",
       "      <td>0</td>\n",
       "      <td>0</td>\n",
       "      <td>0</td>\n",
       "      <td>0</td>\n",
       "      <td>0</td>\n",
       "      <td>0</td>\n",
       "      <td>0</td>\n",
       "      <td>0</td>\n",
       "      <td>...</td>\n",
       "      <td>0</td>\n",
       "      <td>0</td>\n",
       "      <td>0</td>\n",
       "      <td>0</td>\n",
       "      <td>0</td>\n",
       "      <td>0</td>\n",
       "      <td>0</td>\n",
       "      <td>0</td>\n",
       "      <td>0</td>\n",
       "      <td>0</td>\n",
       "    </tr>\n",
       "    <tr>\n",
       "      <th>4</th>\n",
       "      <td>11647239</td>\n",
       "      <td>0</td>\n",
       "      <td>0</td>\n",
       "      <td>0</td>\n",
       "      <td>0</td>\n",
       "      <td>0</td>\n",
       "      <td>1</td>\n",
       "      <td>1</td>\n",
       "      <td>1</td>\n",
       "      <td>1</td>\n",
       "      <td>...</td>\n",
       "      <td>0</td>\n",
       "      <td>0</td>\n",
       "      <td>0</td>\n",
       "      <td>0</td>\n",
       "      <td>0</td>\n",
       "      <td>0</td>\n",
       "      <td>0</td>\n",
       "      <td>0</td>\n",
       "      <td>0</td>\n",
       "      <td>0</td>\n",
       "    </tr>\n",
       "  </tbody>\n",
       "</table>\n",
       "<p>5 rows × 2881 columns</p>\n",
       "</div>"
      ],
      "text/plain": [
       "   House ID  Interval_1  Interval_2  Interval_3  Interval_4  Interval_5  \\\n",
       "0  11655099           0           0           0           0           0   \n",
       "1  11633257           0           0           0           0           0   \n",
       "2  11651552           0           0           0           0           0   \n",
       "3  11636092           0           0           0           0           0   \n",
       "4  11647239           0           0           0           0           0   \n",
       "\n",
       "   Interval_6  Interval_7  Interval_8  Interval_9      ...        \\\n",
       "0           0           0           0           0      ...         \n",
       "1           0           0           0           0      ...         \n",
       "2           0           0           0           0      ...         \n",
       "3           0           0           0           0      ...         \n",
       "4           1           1           1           1      ...         \n",
       "\n",
       "   Interval_2871  Interval_2872  Interval_2873  Interval_2874  Interval_2875  \\\n",
       "0              0              0              0              0              0   \n",
       "1              0              0              0              0              0   \n",
       "2              0              0              0              0              0   \n",
       "3              0              0              0              0              0   \n",
       "4              0              0              0              0              0   \n",
       "\n",
       "   Interval_2876  Interval_2877  Interval_2878  Interval_2879  Interval_2880  \n",
       "0              0              0              0              0              0  \n",
       "1              0              0              0              0              0  \n",
       "2              0              0              0              0              0  \n",
       "3              0              0              0              0              0  \n",
       "4              0              0              0              0              0  \n",
       "\n",
       "[5 rows x 2881 columns]"
      ]
     },
     "metadata": {},
     "output_type": "display_data"
    }
   ],
   "source": [
    "display(ev_train_raw.head())\n",
    "display(ev_train_labels_raw.head())"
   ]
  },
  {
   "cell_type": "markdown",
   "metadata": {},
   "source": [
    "## Quantify Class Imbalance"
   ]
  },
  {
   "cell_type": "code",
   "execution_count": 6,
   "metadata": {},
   "outputs": [
    {
     "name": "stdout",
     "output_type": "stream",
     "text": [
      "485 houses have EVs, representing 31% of all houses.\n"
     ]
    }
   ],
   "source": [
    "# % EV Houses\n",
    "ev_houses_raw = sum(ev_train_labels_raw.drop('House ID', axis=1).sum(axis=1) > 0)\n",
    "print(\"{} houses have EVs, representing {:.0%} of all houses.\".format(\n",
    "    ev_houses_raw, ev_houses_raw/ev_train_labels_raw.shape[0]\n",
    "))"
   ]
  },
  {
   "cell_type": "code",
   "execution_count": 7,
   "metadata": {},
   "outputs": [
    {
     "name": "stdout",
     "output_type": "stream",
     "text": [
      "106910 intervals have charging EVs, representing 2% of all intervals for all houses.\n"
     ]
    }
   ],
   "source": [
    "# % EV Intervals Total\n",
    "ev_intervals_raw = ev_train_labels_raw.drop('House ID', axis=1).values.sum()\n",
    "print(\"{} intervals have charging EVs, representing {:.0%} of all intervals for all houses.\".format(\n",
    "    ev_intervals_raw, ev_intervals_raw/(1590*2800)\n",
    "))"
   ]
  },
  {
   "cell_type": "code",
   "execution_count": 8,
   "metadata": {},
   "outputs": [
    {
     "name": "stdout",
     "output_type": "stream",
     "text": [
      "106910 intervals have charging EVs, representing 8% of all intervals for all EV houses.\n"
     ]
    }
   ],
   "source": [
    "print(\"{} intervals have charging EVs, representing {:.0%} of all intervals for all EV houses.\".format(\n",
    "    ev_intervals_raw, ev_intervals_raw/(485*2800)\n",
    "))"
   ]
  },
  {
   "cell_type": "markdown",
   "metadata": {},
   "source": [
    "## Quantify Missing Values"
   ]
  },
  {
   "cell_type": "code",
   "execution_count": 9,
   "metadata": {},
   "outputs": [
    {
     "name": "stdout",
     "output_type": "stream",
     "text": [
      "True\n",
      "False\n"
     ]
    }
   ],
   "source": [
    "print(ev_train_raw.isnull().values.any())  # Null values in training dataset?\n",
    "print(ev_train_labels_raw.isnull().values.any())  #Null values in training labels?"
   ]
  },
  {
   "cell_type": "code",
   "execution_count": 10,
   "metadata": {},
   "outputs": [
    {
     "data": {
      "text/plain": [
       "720"
      ]
     },
     "execution_count": 10,
     "metadata": {},
     "output_type": "execute_result"
    }
   ],
   "source": [
    "# Count Nulls\n",
    "ev_train_raw.isnull().sum().sum()"
   ]
  },
  {
   "cell_type": "code",
   "execution_count": 11,
   "metadata": {},
   "outputs": [
    {
     "name": "stdout",
     "output_type": "stream",
     "text": [
      "290     11637447\n",
      "539     11635802\n",
      "1159    11637232\n",
      "1374    11632700\n",
      "Name: House ID, dtype: int64\n",
      "290      96\n",
      "539      48\n",
      "1159    432\n",
      "1374    144\n",
      "dtype: int64\n"
     ]
    }
   ],
   "source": [
    "# Count Nulls by House\n",
    "print(ev_train_raw['House ID'][ev_train_raw.isnull().sum(axis=1)>0])\n",
    "print(ev_train_raw.isnull().sum(axis=1)[ev_train_raw.isnull().sum(axis=1)>0])"
   ]
  },
  {
   "cell_type": "code",
   "execution_count": 12,
   "metadata": {},
   "outputs": [
    {
     "data": {
      "text/html": [
       "<div>\n",
       "<style>\n",
       "    .dataframe thead tr:only-child th {\n",
       "        text-align: right;\n",
       "    }\n",
       "\n",
       "    .dataframe thead th {\n",
       "        text-align: left;\n",
       "    }\n",
       "\n",
       "    .dataframe tbody tr th {\n",
       "        vertical-align: top;\n",
       "    }\n",
       "</style>\n",
       "<table border=\"1\" class=\"dataframe\">\n",
       "  <thead>\n",
       "    <tr style=\"text-align: right;\">\n",
       "      <th></th>\n",
       "      <th>House ID</th>\n",
       "      <th>Interval_1</th>\n",
       "      <th>Interval_2</th>\n",
       "      <th>Interval_3</th>\n",
       "      <th>Interval_4</th>\n",
       "      <th>Interval_5</th>\n",
       "      <th>Interval_6</th>\n",
       "      <th>Interval_7</th>\n",
       "      <th>Interval_8</th>\n",
       "      <th>Interval_9</th>\n",
       "      <th>...</th>\n",
       "      <th>Interval_2871</th>\n",
       "      <th>Interval_2872</th>\n",
       "      <th>Interval_2873</th>\n",
       "      <th>Interval_2874</th>\n",
       "      <th>Interval_2875</th>\n",
       "      <th>Interval_2876</th>\n",
       "      <th>Interval_2877</th>\n",
       "      <th>Interval_2878</th>\n",
       "      <th>Interval_2879</th>\n",
       "      <th>Interval_2880</th>\n",
       "    </tr>\n",
       "  </thead>\n",
       "  <tbody>\n",
       "    <tr>\n",
       "      <th>290</th>\n",
       "      <td>11637447</td>\n",
       "      <td>2.395</td>\n",
       "      <td>2.380</td>\n",
       "      <td>2.336</td>\n",
       "      <td>2.417</td>\n",
       "      <td>2.422</td>\n",
       "      <td>2.497</td>\n",
       "      <td>2.486</td>\n",
       "      <td>3.015</td>\n",
       "      <td>2.317</td>\n",
       "      <td>...</td>\n",
       "      <td>NaN</td>\n",
       "      <td>NaN</td>\n",
       "      <td>NaN</td>\n",
       "      <td>NaN</td>\n",
       "      <td>NaN</td>\n",
       "      <td>NaN</td>\n",
       "      <td>NaN</td>\n",
       "      <td>NaN</td>\n",
       "      <td>NaN</td>\n",
       "      <td>NaN</td>\n",
       "    </tr>\n",
       "    <tr>\n",
       "      <th>539</th>\n",
       "      <td>11635802</td>\n",
       "      <td>0.249</td>\n",
       "      <td>0.271</td>\n",
       "      <td>0.266</td>\n",
       "      <td>0.255</td>\n",
       "      <td>0.247</td>\n",
       "      <td>0.280</td>\n",
       "      <td>0.178</td>\n",
       "      <td>0.237</td>\n",
       "      <td>0.133</td>\n",
       "      <td>...</td>\n",
       "      <td>NaN</td>\n",
       "      <td>NaN</td>\n",
       "      <td>NaN</td>\n",
       "      <td>NaN</td>\n",
       "      <td>NaN</td>\n",
       "      <td>NaN</td>\n",
       "      <td>NaN</td>\n",
       "      <td>NaN</td>\n",
       "      <td>NaN</td>\n",
       "      <td>NaN</td>\n",
       "    </tr>\n",
       "    <tr>\n",
       "      <th>1159</th>\n",
       "      <td>11637232</td>\n",
       "      <td>1.218</td>\n",
       "      <td>1.087</td>\n",
       "      <td>0.995</td>\n",
       "      <td>0.791</td>\n",
       "      <td>0.798</td>\n",
       "      <td>0.756</td>\n",
       "      <td>0.745</td>\n",
       "      <td>0.736</td>\n",
       "      <td>0.699</td>\n",
       "      <td>...</td>\n",
       "      <td>NaN</td>\n",
       "      <td>NaN</td>\n",
       "      <td>NaN</td>\n",
       "      <td>NaN</td>\n",
       "      <td>NaN</td>\n",
       "      <td>NaN</td>\n",
       "      <td>NaN</td>\n",
       "      <td>NaN</td>\n",
       "      <td>NaN</td>\n",
       "      <td>NaN</td>\n",
       "    </tr>\n",
       "    <tr>\n",
       "      <th>1374</th>\n",
       "      <td>11632700</td>\n",
       "      <td>0.113</td>\n",
       "      <td>0.106</td>\n",
       "      <td>0.113</td>\n",
       "      <td>0.150</td>\n",
       "      <td>0.119</td>\n",
       "      <td>0.106</td>\n",
       "      <td>0.100</td>\n",
       "      <td>0.144</td>\n",
       "      <td>0.144</td>\n",
       "      <td>...</td>\n",
       "      <td>NaN</td>\n",
       "      <td>NaN</td>\n",
       "      <td>NaN</td>\n",
       "      <td>NaN</td>\n",
       "      <td>NaN</td>\n",
       "      <td>NaN</td>\n",
       "      <td>NaN</td>\n",
       "      <td>NaN</td>\n",
       "      <td>NaN</td>\n",
       "      <td>NaN</td>\n",
       "    </tr>\n",
       "  </tbody>\n",
       "</table>\n",
       "<p>4 rows × 2881 columns</p>\n",
       "</div>"
      ],
      "text/plain": [
       "      House ID  Interval_1  Interval_2  Interval_3  Interval_4  Interval_5  \\\n",
       "290   11637447       2.395       2.380       2.336       2.417       2.422   \n",
       "539   11635802       0.249       0.271       0.266       0.255       0.247   \n",
       "1159  11637232       1.218       1.087       0.995       0.791       0.798   \n",
       "1374  11632700       0.113       0.106       0.113       0.150       0.119   \n",
       "\n",
       "      Interval_6  Interval_7  Interval_8  Interval_9      ...        \\\n",
       "290        2.497       2.486       3.015       2.317      ...         \n",
       "539        0.280       0.178       0.237       0.133      ...         \n",
       "1159       0.756       0.745       0.736       0.699      ...         \n",
       "1374       0.106       0.100       0.144       0.144      ...         \n",
       "\n",
       "      Interval_2871  Interval_2872  Interval_2873  Interval_2874  \\\n",
       "290             NaN            NaN            NaN            NaN   \n",
       "539             NaN            NaN            NaN            NaN   \n",
       "1159            NaN            NaN            NaN            NaN   \n",
       "1374            NaN            NaN            NaN            NaN   \n",
       "\n",
       "      Interval_2875  Interval_2876  Interval_2877  Interval_2878  \\\n",
       "290             NaN            NaN            NaN            NaN   \n",
       "539             NaN            NaN            NaN            NaN   \n",
       "1159            NaN            NaN            NaN            NaN   \n",
       "1374            NaN            NaN            NaN            NaN   \n",
       "\n",
       "      Interval_2879  Interval_2880  \n",
       "290             NaN            NaN  \n",
       "539             NaN            NaN  \n",
       "1159            NaN            NaN  \n",
       "1374            NaN            NaN  \n",
       "\n",
       "[4 rows x 2881 columns]"
      ]
     },
     "execution_count": 12,
     "metadata": {},
     "output_type": "execute_result"
    }
   ],
   "source": [
    "# Show records with missing values\n",
    "ev_train_raw[ev_train_raw.isnull().any(axis=1)]"
   ]
  },
  {
   "cell_type": "markdown",
   "metadata": {},
   "source": [
    "## Exploratory Visualizations"
   ]
  },
  {
   "cell_type": "code",
   "execution_count": 13,
   "metadata": {},
   "outputs": [
    {
     "data": {
      "image/png": "[encoded data removed]",
      "text/plain": [
       "<matplotlib.figure.Figure at 0x117dbde48>"
      ]
     },
     "metadata": {},
     "output_type": "display_data"
    }
   ],
   "source": [
    "house_totals = ev_train_raw.drop(['House ID'], axis=1).sum(axis=1)\n",
    "plt.figure(figsize=(20,10))\n",
    "plt.hist(house_totals, bins='auto') \n",
    "plt.xlabel('kWh Spent in 2 months', **axis_font)\n",
    "plt.ylabel('Counts', **axis_font)\n",
    "plt.title(\"Complete 2 Month Energy Histogram by House\", **title_font)\n",
    "plt.tick_params(axis='both', which='major', labelsize=14)\n",
    "plt.tick_params(axis='both', which='minor', labelsize=12)\n",
    "plt.show()"
   ]
  },
  {
   "cell_type": "code",
   "execution_count": null,
   "metadata": {},
   "outputs": [
    {
     "data": {
      "image/png": "[encoded data removed]",
      "text/plain": [
       "<matplotlib.figure.Figure at 0x114c30cf8>"
      ]
     },
     "metadata": {},
     "output_type": "display_data"
    }
   ],
   "source": [
    "interval_values = ev_train_raw.drop(['House ID'], axis=1).values.flatten()\n",
    "interval_values = interval_values[~np.isnan(interval_values)]\n",
    "plt.figure(figsize=(20,10))\n",
    "plt.hist(interval_values, bins='auto') \n",
    "plt.xlabel('kWh Spent in 30 minutes', **axis_font)\n",
    "plt.ylabel('Counts', **axis_font)\n",
    "plt.title(\"30 Minute Energy Histogram By Interval\", **title_font)\n",
    "plt.tick_params(axis='both', which='major', labelsize=14)\n",
    "plt.tick_params(axis='both', which='minor', labelsize=12)\n",
    "plt.show()"
   ]
  },
  {
   "cell_type": "markdown",
   "metadata": {},
   "source": [
    "# Data Preprocessing"
   ]
  },
  {
   "cell_type": "markdown",
   "metadata": {},
   "source": [
    "## Pivot and Combine"
   ]
  },
  {
   "cell_type": "code",
   "execution_count": null,
   "metadata": {},
   "outputs": [],
   "source": [
    "ev_train_kwh_pivot = ev.pivot_raw_df(ev_train_raw, 'kWh')\n",
    "display(ev_train_kwh_pivot.head())"
   ]
  },
  {
   "cell_type": "code",
   "execution_count": null,
   "metadata": {},
   "outputs": [],
   "source": [
    "ev_train_labels_pivot = ev.pivot_raw_df(ev_train_labels_raw, 'Label')\n",
    "display(ev_train_labels_pivot.head())"
   ]
  },
  {
   "cell_type": "code",
   "execution_count": null,
   "metadata": {},
   "outputs": [],
   "source": [
    "ev_train_piv_w_lab = pd.concat([ev_train_kwh_pivot, ev_train_labels_pivot['Label']], axis=1)\n",
    "display(ev_train_piv_w_lab.head())"
   ]
  },
  {
   "cell_type": "markdown",
   "metadata": {},
   "source": [
    "## Add Temporal Dimensions"
   ]
  },
  {
   "cell_type": "code",
   "execution_count": null,
   "metadata": {},
   "outputs": [],
   "source": [
    "ev_train_piv_lab_tmp = ev.add_temp_dim(ev_train_piv_w_lab)\n",
    "display(ev_train_piv_lab_tmp.head())"
   ]
  },
  {
   "cell_type": "markdown",
   "metadata": {},
   "source": [
    "## Fill in Missing Values"
   ]
  },
  {
   "cell_type": "code",
   "execution_count": null,
   "metadata": {},
   "outputs": [],
   "source": [
    "ev_train_piv_lab_tmp_filled = ev.fill_with_mean(ev_train_piv_lab_tmp)\n",
    "display(ev_train_piv_lab_tmp_filled.head())"
   ]
  },
  {
   "cell_type": "markdown",
   "metadata": {},
   "source": [
    "# House Classification"
   ]
  },
  {
   "cell_type": "markdown",
   "metadata": {},
   "source": [
    "## Training and Validation Split"
   ]
  },
  {
   "cell_type": "code",
   "execution_count": null,
   "metadata": {
    "collapsed": true
   },
   "outputs": [],
   "source": [
    "X_house, y_house = ev.house_agg_and_split(ev_train_piv_lab_tmp_filled)"
   ]
  },
  {
   "cell_type": "code",
   "execution_count": null,
   "metadata": {},
   "outputs": [],
   "source": [
    "X_house.columns.values"
   ]
  },
  {
   "cell_type": "code",
   "execution_count": null,
   "metadata": {},
   "outputs": [],
   "source": [
    "display(X_house.head())\n",
    "display(y_house.head())"
   ]
  },
  {
   "cell_type": "code",
   "execution_count": null,
   "metadata": {},
   "outputs": [],
   "source": [
    "# inspect for patterns at the house level\n",
    "house_id_label = pd.concat([X_house['House ID'], y_house], axis=1)\n",
    "display(house_id_label.head())"
   ]
  },
  {
   "cell_type": "code",
   "execution_count": null,
   "metadata": {},
   "outputs": [],
   "source": [
    "house_id_label.groupby(['House Label']).agg(['mean','count'])"
   ]
  },
  {
   "cell_type": "code",
   "execution_count": null,
   "metadata": {},
   "outputs": [],
   "source": [
    "house_id_label.corr()"
   ]
  },
  {
   "cell_type": "code",
   "execution_count": null,
   "metadata": {},
   "outputs": [],
   "source": [
    "plt.figure(figsize=(20,10))\n",
    "plt.scatter(x=house_id_label['House ID'], y=house_id_label['House Label']) \n",
    "plt.xlabel('House ID', **axis_font)\n",
    "plt.ylabel('Label', **axis_font)\n",
    "plt.title(\"Distribution of Positive and Negative Labels\", **title_font)\n",
    "plt.tick_params(axis='both', which='major', labelsize=14)\n",
    "plt.tick_params(axis='both', which='minor', labelsize=12)\n",
    "plt.show()"
   ]
  },
  {
   "cell_type": "code",
   "execution_count": null,
   "metadata": {
    "collapsed": true
   },
   "outputs": [],
   "source": [
    "X_train_house, X_valid_house, y_train_house, y_valid_house = train_test_split(X_house,\n",
    "                                                                            y_house,\n",
    "                                                                            test_size=0.25,\n",
    "                                                                            random_state=42)"
   ]
  },
  {
   "cell_type": "markdown",
   "metadata": {},
   "source": [
    "## Augment Data"
   ]
  },
  {
   "cell_type": "markdown",
   "metadata": {},
   "source": [
    "## Perform K-Means Clustering"
   ]
  },
  {
   "cell_type": "code",
   "execution_count": null,
   "metadata": {},
   "outputs": [],
   "source": [
    "Image(url= \"http://aprs.org/Energy/Charging/L1-EV-timed-charging.GIF\")"
   ]
  },
  {
   "cell_type": "code",
   "execution_count": null,
   "metadata": {},
   "outputs": [],
   "source": [
    "X_train_house, centers_df, k_col_name = ev.cluster_retrieve_best_k(X_train_house, y_train_house)"
   ]
  },
  {
   "cell_type": "markdown",
   "metadata": {},
   "source": [
    "Ratio defined as the maximum percent / minimum percent, where percent is the percent of positively identified EV houses in each of the k clusters. This helps discriminate ev houses depending on what cluster it belongs to."
   ]
  },
  {
   "cell_type": "code",
   "execution_count": null,
   "metadata": {},
   "outputs": [],
   "source": [
    "display(X_train_house.head())"
   ]
  },
  {
   "cell_type": "markdown",
   "metadata": {},
   "source": [
    "## Train Model"
   ]
  },
  {
   "cell_type": "markdown",
   "metadata": {},
   "source": [
    "### Modeling Attempts"
   ]
  },
  {
   "cell_type": "code",
   "execution_count": null,
   "metadata": {
    "collapsed": true
   },
   "outputs": [],
   "source": [
    "def save_object(obj, filename):\n",
    "    with open(filename, 'wb') as output:  # Overwrites any existing file.\n",
    "        pickle.dump(obj, output, pickle.HIGHEST_PROTOCOL)"
   ]
  },
  {
   "cell_type": "code",
   "execution_count": null,
   "metadata": {},
   "outputs": [],
   "source": [
    "# GBDT\n",
    "if os.path.isfile('pickle_files/h_clf1_list.pkl'):\n",
    "    with open('pickle_files/h_clf1_list.pkl', 'rb') as input:\n",
    "        h_clf1_list = pickle.load(input)\n",
    "        h_clf1 = h_clf1_list[0]\n",
    "        h_clf1_time = h_clf1_list[1]\n",
    "        print(\"Training Time (sec) : {}\".format(h_clf1_time))\n",
    "    \n",
    "else:\n",
    "    h_clf1 = GradientBoostingClassifier(random_state = 42)\n",
    "    \n",
    "    h_clf1_start = time.time()\n",
    "    h_clf1.fit(X_train_house, y_train_house)\n",
    "    h_clf1_end = time.time()\n",
    "    h_clf1_time = h_clf1_end - h_clf1_start\n",
    "    print(\"Training Time (sec) : {}\".format(h_clf1_time))\n",
    "    \n",
    "    h_clf1_list = [h_clf1, h_clf1_time]\n",
    "    save_object(h_clf1_list, 'pickle_files/h_clf1_list.pkl') \n",
    "\n",
    "    \n",
    "y_train_house_pred1 = h_clf1.predict(X_train_house)\n",
    "\n",
    "print(\"F1-Score: {}\".format(f1_score(y_train_house, y_train_house_pred1)))\n",
    "\n",
    "print(\"Confusion Matrix: \")\n",
    "confusion_matrix(y_train_house, y_train_house_pred1)"
   ]
  },
  {
   "cell_type": "code",
   "execution_count": null,
   "metadata": {},
   "outputs": [],
   "source": [
    "# Logistic Regression\n",
    "if os.path.isfile('pickle_files/h_clf2_list.pkl'):\n",
    "    with open('pickle_files/h_clf2_list.pkl', 'rb') as input:\n",
    "        h_clf2_list = pickle.load(input)\n",
    "        h_clf2 = h_clf2_list[0]\n",
    "        h_clf2_time = h_clf2_list[1]\n",
    "        print(\"Training Time (sec) : {}\".format(h_clf2_time))\n",
    "    \n",
    "else:\n",
    "    h_clf2 = LogisticRegression(random_state = 42)\n",
    "    \n",
    "    h_clf2_start = time.time()\n",
    "    h_clf2.fit(X_train_house, y_train_house)\n",
    "    h_clf2_end = time.time()\n",
    "    h_clf2_time = h_clf2_end - h_clf2_start\n",
    "    print(\"Training Time (sec) : {}\".format(h_clf2_time))\n",
    "    \n",
    "    h_clf2_list = [h_clf2, h_clf2_time]\n",
    "    save_object(h_clf2_list, 'pickle_files/h_clf2_list.pkl') \n",
    "\n",
    "    \n",
    "y_train_house_pred2 = h_clf2.predict(X_train_house)\n",
    "\n",
    "print(\"F1-Score: {}\".format(f1_score(y_train_house, y_train_house_pred2)))\n",
    "\n",
    "print(\"Confusion Matrix: \")\n",
    "confusion_matrix(y_train_house, y_train_house_pred2)"
   ]
  },
  {
   "cell_type": "code",
   "execution_count": null,
   "metadata": {},
   "outputs": [],
   "source": [
    "# Stochastic Gradient Descent\n",
    "if os.path.isfile('pickle_files/h_clf3_list.pkl'):\n",
    "    with open('pickle_files/h_clf3_list.pkl', 'rb') as input:\n",
    "        h_clf3_list = pickle.load(input)\n",
    "        h_clf3 = h_clf3_list[0]\n",
    "        h_clf3_time = h_clf3_list[1]\n",
    "        print(\"Training Time (sec) : {}\".format(h_clf3_time))\n",
    "    \n",
    "else:\n",
    "    h_clf3 = SGDClassifier(random_state = 42)\n",
    "    \n",
    "    h_clf3_start = time.time()\n",
    "    h_clf3.fit(X_train_house, y_train_house)\n",
    "    h_clf3_end = time.time()\n",
    "    h_clf3_time = h_clf3_end - h_clf3_start\n",
    "    print(\"Training Time (sec) : {}\".format(h_clf3_time))\n",
    "    \n",
    "    h_clf3_list = [h_clf3, h_clf3_time]\n",
    "    save_object(h_clf3_list, 'pickle_files/h_clf3_list.pkl') \n",
    "\n",
    "    \n",
    "y_train_house_pred3 = h_clf3.predict(X_train_house)\n",
    "\n",
    "print(\"F1-Score: {}\".format(f1_score(y_train_house, y_train_house_pred3)))\n",
    "\n",
    "print(\"Confusion Matrix: \")\n",
    "confusion_matrix(y_train_house, y_train_house_pred3)"
   ]
  },
  {
   "cell_type": "code",
   "execution_count": null,
   "metadata": {},
   "outputs": [],
   "source": [
    "# Support Vector Classification\n",
    "if os.path.isfile('pickle_files/h_clf4_list.pkl'):\n",
    "    with open('pickle_files/h_clf4_list.pkl', 'rb') as input:\n",
    "        h_clf4_list = pickle.load(input)\n",
    "        h_clf4 = h_clf4_list[0]\n",
    "        h_clf4_time = h_clf4_list[1]\n",
    "        print(\"Training Time (sec) : {}\".format(h_clf4_time))\n",
    "    \n",
    "else:\n",
    "    h_clf4 = SVC(random_state = 42)\n",
    "    \n",
    "    h_clf4_start = time.time()\n",
    "    h_clf4.fit(X_train_house, y_train_house)\n",
    "    h_clf4_end = time.time()\n",
    "    h_clf4_time = h_clf4_end - h_clf4_start\n",
    "    print(\"Training Time (sec) : {}\".format(h_clf4_time))\n",
    "    \n",
    "    h_clf4_list = [h_clf4, h_clf4_time]\n",
    "    save_object(h_clf4_list, 'pickle_files/h_clf4_list.pkl') \n",
    "\n",
    "    \n",
    "y_train_house_pred4 = h_clf4.predict(X_train_house)\n",
    "\n",
    "print(\"F1-Score: {}\".format(f1_score(y_train_house, y_train_house_pred4)))\n",
    "\n",
    "print(\"Confusion Matrix: \")\n",
    "confusion_matrix(y_train_house, y_train_house_pred4)"
   ]
  },
  {
   "cell_type": "code",
   "execution_count": null,
   "metadata": {},
   "outputs": [],
   "source": [
    "# Naive Bayes\n",
    "if os.path.isfile('pickle_files/h_clf5_list.pkl'):\n",
    "    with open('pickle_files/h_clf5_list.pkl', 'rb') as input:\n",
    "        h_clf5_list = pickle.load(input)\n",
    "        h_clf5 = h_clf5_list[0]\n",
    "        h_clf5_time = h_clf5_list[1]\n",
    "        print(\"Training Time (sec) : {}\".format(h_clf5_time))\n",
    "    \n",
    "else:\n",
    "    h_clf5 = GaussianNB()\n",
    "    \n",
    "    h_clf5_start = time.time()\n",
    "    h_clf5.fit(X_train_house, y_train_house)\n",
    "    h_clf5_end = time.time()\n",
    "    h_clf5_time = h_clf5_end - h_clf5_start\n",
    "    print(\"Training Time (sec) : {}\".format(h_clf5_time))\n",
    "    \n",
    "    h_clf5_list = [h_clf5, h_clf5_time]\n",
    "    save_object(h_clf5_list, 'pickle_files/h_clf5_list.pkl') \n",
    "\n",
    "    \n",
    "y_train_house_pred5 = h_clf5.predict(X_train_house)\n",
    "\n",
    "print(\"F1-Score: {}\".format(f1_score(y_train_house, y_train_house_pred5)))\n",
    "\n",
    "print(\"Confusion Matrix: \")\n",
    "confusion_matrix(y_train_house, y_train_house_pred5)"
   ]
  },
  {
   "cell_type": "code",
   "execution_count": null,
   "metadata": {},
   "outputs": [],
   "source": [
    "# Multi-layer Perceptron (Neural Networks)\n",
    "if os.path.isfile('pickle_files/h_clf6_list.pkl'):\n",
    "    with open('pickle_files/h_clf6_list.pkl', 'rb') as input:\n",
    "        h_clf6_list = pickle.load(input)\n",
    "        h_clf6 = h_clf6_list[0]\n",
    "        h_clf6_time = h_clf6_list[1]\n",
    "        print(\"Training Time (sec) : {}\".format(h_clf6_time))\n",
    "    \n",
    "else:\n",
    "    h_clf6 = MLPClassifier(random_state = 42)\n",
    "    \n",
    "    h_clf6_start = time.time()\n",
    "    h_clf6.fit(X_train_house, y_train_house)\n",
    "    h_clf6_end = time.time()\n",
    "    h_clf6_time = h_clf6_end - h_clf6_start\n",
    "    print(\"Training Time (sec) : {}\".format(h_clf6_time))\n",
    "    \n",
    "    h_clf6_list = [h_clf6, h_clf6_time]\n",
    "    save_object(h_clf6_list, 'pickle_files/h_clf6_list.pkl') \n",
    "\n",
    "    \n",
    "y_train_house_pred6 = h_clf6.predict(X_train_house)\n",
    "\n",
    "print(\"F1-Score: {}\".format(f1_score(y_train_house, y_train_house_pred6)))\n",
    "\n",
    "print(\"Confusion Matrix: \")\n",
    "confusion_matrix(y_train_house, y_train_house_pred6)"
   ]
  },
  {
   "cell_type": "markdown",
   "metadata": {},
   "source": [
    "### F1 Benchmark"
   ]
  },
  {
   "cell_type": "code",
   "execution_count": null,
   "metadata": {},
   "outputs": [],
   "source": [
    "ev.show_baseline_f1_scores(y_train_house)"
   ]
  },
  {
   "cell_type": "markdown",
   "metadata": {},
   "source": [
    "## Validate Model"
   ]
  },
  {
   "cell_type": "code",
   "execution_count": null,
   "metadata": {
    "collapsed": true
   },
   "outputs": [],
   "source": [
    "KNN_cols = ['p_{}'.format(n) for n in np.arange(1,49)]"
   ]
  },
  {
   "cell_type": "code",
   "execution_count": null,
   "metadata": {},
   "outputs": [],
   "source": [
    "neigh = KNeighborsClassifier(n_neighbors=5)\n",
    "neigh.fit(X_train_house[KNN_cols], X_train_house[k_col_name]) \n",
    "X_valid_house[k_col_name] = neigh.predict(X_valid_house[KNN_cols])"
   ]
  },
  {
   "cell_type": "markdown",
   "metadata": {},
   "source": [
    "The validation data did not go through k-means clustering. Instead, the cluster is predicted on the validation dataset using k-nearest neighbors (KNN). Where the KNN model was trained exclusively on the training dataset."
   ]
  },
  {
   "cell_type": "markdown",
   "metadata": {},
   "source": [
    "### Modeling Attempts"
   ]
  },
  {
   "cell_type": "code",
   "execution_count": null,
   "metadata": {},
   "outputs": [],
   "source": [
    "# GBDT\n",
    "y_valid_house_pred1 = h_clf1.predict(X_valid_house)\n",
    "print(\"F1-Score: {}\".format(f1_score(y_valid_house, y_valid_house_pred1)))\n",
    "print(\"Confusion Matrix: \")\n",
    "confusion_matrix(y_valid_house, y_valid_house_pred1)"
   ]
  },
  {
   "cell_type": "code",
   "execution_count": null,
   "metadata": {},
   "outputs": [],
   "source": [
    "# Logistic Regression\n",
    "y_valid_house_pred2 = h_clf2.predict(X_valid_house)\n",
    "print(\"F1-Score: {}\".format(f1_score(y_valid_house, y_valid_house_pred2)))\n",
    "print(\"Confusion Matrix: \")\n",
    "confusion_matrix(y_valid_house, y_valid_house_pred2)"
   ]
  },
  {
   "cell_type": "code",
   "execution_count": null,
   "metadata": {},
   "outputs": [],
   "source": [
    "# Stochastic Gradient Descent\n",
    "y_valid_house_pred3 = h_clf3.predict(X_valid_house)\n",
    "print(\"F1-Score: {}\".format(f1_score(y_valid_house, y_valid_house_pred3)))\n",
    "print(\"Confusion Matrix: \")\n",
    "confusion_matrix(y_valid_house, y_valid_house_pred3)"
   ]
  },
  {
   "cell_type": "code",
   "execution_count": null,
   "metadata": {},
   "outputs": [],
   "source": [
    "# Support Vector Classification\n",
    "y_valid_house_pred4 = h_clf4.predict(X_valid_house)\n",
    "print(\"F1-Score: {}\".format(f1_score(y_valid_house, y_valid_house_pred4)))\n",
    "print(\"Confusion Matrix: \")\n",
    "confusion_matrix(y_valid_house, y_valid_house_pred4)"
   ]
  },
  {
   "cell_type": "code",
   "execution_count": null,
   "metadata": {},
   "outputs": [],
   "source": [
    "# Naive Bayes\n",
    "y_valid_house_pred5 = h_clf5.predict(X_valid_house)\n",
    "print(\"F1-Score: {}\".format(f1_score(y_valid_house, y_valid_house_pred5)))\n",
    "print(\"Confusion Matrix: \")\n",
    "confusion_matrix(y_valid_house, y_valid_house_pred5)"
   ]
  },
  {
   "cell_type": "code",
   "execution_count": null,
   "metadata": {},
   "outputs": [],
   "source": [
    "# Multi-layer Perceptron (Neural Networks)\n",
    "y_valid_house_pred6 = h_clf6.predict(X_valid_house)\n",
    "print(\"F1-Score: {}\".format(f1_score(y_valid_house, y_valid_house_pred6)))\n",
    "print(\"Confusion Matrix: \")\n",
    "confusion_matrix(y_valid_house, y_valid_house_pred6)"
   ]
  },
  {
   "cell_type": "markdown",
   "metadata": {},
   "source": [
    "### F1 Benchmark"
   ]
  },
  {
   "cell_type": "code",
   "execution_count": null,
   "metadata": {},
   "outputs": [],
   "source": [
    "ev.show_baseline_f1_scores(y_valid_house)"
   ]
  },
  {
   "cell_type": "markdown",
   "metadata": {},
   "source": [
    "# Time Classification"
   ]
  },
  {
   "cell_type": "markdown",
   "metadata": {},
   "source": [
    "## Training and Validation Split"
   ]
  },
  {
   "cell_type": "code",
   "execution_count": null,
   "metadata": {},
   "outputs": [],
   "source": [
    "X_train_time, y_train_time = ev.transform_house_subset_to_time(\n",
    "    X_train_house,\n",
    "    y_train_house,\n",
    "    ev_train_piv_lab_tmp_filled\n",
    ")"
   ]
  },
  {
   "cell_type": "code",
   "execution_count": null,
   "metadata": {},
   "outputs": [],
   "source": [
    "display(X_train_time.head())\n",
    "display(y_train_time.head())"
   ]
  },
  {
   "cell_type": "code",
   "execution_count": null,
   "metadata": {
    "scrolled": true
   },
   "outputs": [],
   "source": [
    "X_valid_time, y_valid_time = ev.transform_house_subset_to_time(\n",
    "    X_valid_house,\n",
    "    y_valid_house_pred1, # predicted values from best house classifier, not true values!!!\n",
    "    ev_train_piv_lab_tmp_filled\n",
    ")"
   ]
  },
  {
   "cell_type": "code",
   "execution_count": null,
   "metadata": {},
   "outputs": [],
   "source": [
    "display(X_valid_time.head())\n",
    "display(y_valid_time.head())"
   ]
  },
  {
   "cell_type": "markdown",
   "metadata": {},
   "source": [
    "## Augment Data"
   ]
  },
  {
   "cell_type": "markdown",
   "metadata": {},
   "source": [
    "### Difference between Clusters and Intervals"
   ]
  },
  {
   "cell_type": "code",
   "execution_count": null,
   "metadata": {},
   "outputs": [],
   "source": [
    "X_train_time_augmented = ev.augment_time_data(\n",
    "    X_train_time, \n",
    "    X_train_house, \n",
    "    centers_df)\n",
    "display(X_train_time_augmented.head())"
   ]
  },
  {
   "cell_type": "code",
   "execution_count": null,
   "metadata": {},
   "outputs": [],
   "source": [
    "X_train_time_augmented.columns.values"
   ]
  },
  {
   "cell_type": "code",
   "execution_count": null,
   "metadata": {},
   "outputs": [],
   "source": [
    "X_valid_time_augmented = ev.augment_time_data(\n",
    "    X_valid_time, \n",
    "    X_valid_house, \n",
    "    centers_df) # centers do not reflect validation data\n",
    "display(X_valid_time_augmented.head())"
   ]
  },
  {
   "cell_type": "markdown",
   "metadata": {},
   "source": [
    "## Train Model"
   ]
  },
  {
   "cell_type": "markdown",
   "metadata": {},
   "source": [
    "### Modeling Attempts"
   ]
  },
  {
   "cell_type": "code",
   "execution_count": null,
   "metadata": {},
   "outputs": [],
   "source": [
    "# GBDT\n",
    "if os.path.isfile('pickle_files/t_clf1_list.pkl'):\n",
    "    with open('pickle_files/t_clf1_list.pkl', 'rb') as input:\n",
    "        t_clf1_list = pickle.load(input)\n",
    "        t_clf1 = t_clf1_list[0]\n",
    "        t_clf1_time = t_clf1_list[1]\n",
    "        print(\"Training Time (sec) : {}\".format(t_clf1_time))\n",
    "    \n",
    "else:\n",
    "    t_clf1 = GradientBoostingClassifier(random_state = 42)\n",
    "    \n",
    "    t_clf1_start = time.time()\n",
    "    t_clf1.fit(X_train_time_augmented, y_train_time)\n",
    "    t_clf1_end = time.time()\n",
    "    t_clf1_time = t_clf1_end - t_clf1_start\n",
    "    print(\"Training Time (sec) : {}\".format(t_clf1_time))\n",
    "    \n",
    "    t_clf1_list = [t_clf1, t_clf1_time]\n",
    "    save_object(t_clf1_list, 'pickle_files/t_clf1_list.pkl') \n",
    "\n",
    "    \n",
    "y_train_time_pred1 = t_clf1.predict(X_train_time_augmented)\n",
    "\n",
    "all_y_train_time_pred1, all_y_train_time_true, all_Xy_train_time = ev.get_all_relevant_preds_and_trues(\n",
    "    X_train_time_augmented,\n",
    "    y_train_time_pred1,\n",
    "    X_train_house,\n",
    "    ev_train_piv_lab_tmp_filled)\n",
    "\n",
    "print(\"F1-Score: {}\".format(f1_score(all_y_train_time_true, all_y_train_time_pred1)))\n",
    "\n",
    "print(\"Confusion Matrix: \")\n",
    "confusion_matrix(all_y_train_time_true, all_y_train_time_pred1)"
   ]
  },
  {
   "cell_type": "code",
   "execution_count": null,
   "metadata": {},
   "outputs": [],
   "source": [
    "# Logistic Regression\n",
    "if os.path.isfile('pickle_files/t_clf2_list.pkl'):\n",
    "    with open('pickle_files/t_clf2_list.pkl', 'rb') as input:\n",
    "        t_clf2_list = pickle.load(input)\n",
    "        t_clf2 = t_clf2_list[0]\n",
    "        t_clf2_time = t_clf2_list[1]\n",
    "        print(\"Training Time (sec) : {}\".format(t_clf2_time))\n",
    "    \n",
    "else:\n",
    "    t_clf2 = LogisticRegression(random_state = 42)\n",
    "    \n",
    "    t_clf2_start = time.time()\n",
    "    t_clf2.fit(X_train_time_augmented, y_train_time)\n",
    "    t_clf2_end = time.time()\n",
    "    t_clf2_time = t_clf2_end - t_clf2_start\n",
    "    print(\"Training Time (sec) : {}\".format(t_clf2_time))\n",
    "    \n",
    "    t_clf2_list = [t_clf2, t_clf2_time]\n",
    "    save_object(t_clf2_list, 'pickle_files/t_clf2_list.pkl') \n",
    "\n",
    "    \n",
    "y_train_time_pred2 = t_clf2.predict(X_train_time_augmented)\n",
    "\n",
    "all_y_train_time_pred2, all_y_train_time_true, all_Xy_train_time = ev.get_all_relevant_preds_and_trues(\n",
    "    X_train_time_augmented,\n",
    "    y_train_time_pred2,\n",
    "    X_train_house,\n",
    "    ev_train_piv_lab_tmp_filled)\n",
    "\n",
    "print(\"F1-Score: {}\".format(f1_score(all_y_train_time_true, all_y_train_time_pred2)))\n",
    "\n",
    "print(\"Confusion Matrix: \")\n",
    "confusion_matrix(all_y_train_time_true, all_y_train_time_pred2)"
   ]
  },
  {
   "cell_type": "code",
   "execution_count": null,
   "metadata": {},
   "outputs": [],
   "source": [
    "# Stochastic Gradient Descent\n",
    "if os.path.isfile('pickle_files/t_clf3_list.pkl'):\n",
    "    with open('pickle_files/t_clf3_list.pkl', 'rb') as input:\n",
    "        t_clf3_list = pickle.load(input)\n",
    "        t_clf3 = t_clf3_list[0]\n",
    "        t_clf3_time = t_clf3_list[1]\n",
    "        print(\"Training Time (sec) : {}\".format(t_clf3_time))\n",
    "    \n",
    "else:\n",
    "    t_clf3 = SGDClassifier(random_state = 42)\n",
    "    \n",
    "    t_clf3_start = time.time()\n",
    "    t_clf3.fit(X_train_time_augmented, y_train_time)\n",
    "    t_clf3_end = time.time()\n",
    "    t_clf3_time = t_clf3_end - t_clf3_start\n",
    "    print(\"Training Time (sec) : {}\".format(t_clf3_time))\n",
    "    \n",
    "    t_clf3_list = [t_clf3, t_clf3_time]\n",
    "    save_object(t_clf3_list, 'pickle_files/t_clf3_list.pkl') \n",
    "\n",
    "    \n",
    "y_train_time_pred3 = t_clf3.predict(X_train_time_augmented)\n",
    "\n",
    "all_y_train_time_pred3, all_y_train_time_true, all_Xy_train_time = ev.get_all_relevant_preds_and_trues(\n",
    "    X_train_time_augmented,\n",
    "    y_train_time_pred3,\n",
    "    X_train_house,\n",
    "    ev_train_piv_lab_tmp_filled)\n",
    "\n",
    "print(\"F1-Score: {}\".format(f1_score(all_y_train_time_true, all_y_train_time_pred3)))\n",
    "\n",
    "print(\"Confusion Matrix: \")\n",
    "confusion_matrix(all_y_train_time_true, all_y_train_time_pred3)"
   ]
  },
  {
   "cell_type": "raw",
   "metadata": {
    "collapsed": true
   },
   "source": [
    "# Support Vector Classification\n",
    "if os.path.isfile('pickle_files/t_clf4_list.pkl'):\n",
    "    with open('pickle_files/t_clf4_list.pkl', 'rb') as input:\n",
    "        t_clf4_list = pickle.load(input)\n",
    "        t_clf4 = t_clf4_list[0]\n",
    "        t_clf4_time = t_clf4_list[1]\n",
    "        print(\"Training Time (sec) : {}\".format(t_clf4_time))\n",
    "    \n",
    "else:\n",
    "    t_clf4 = SVC(random_state = 42)\n",
    "    \n",
    "    t_clf4_start = time.time()\n",
    "    t_clf4.fit(X_train_time_augmented, y_train_time)\n",
    "    t_clf4_end = time.time()\n",
    "    t_clf4_time = t_clf4_end - t_clf4_start\n",
    "    print(\"Training Time (sec) : {}\".format(t_clf4_time))\n",
    "    \n",
    "    t_clf4_list = [t_clf4, t_clf4_time]\n",
    "    save_object(t_clf4_list, 'pickle_files/t_clf4_list.pkl') \n",
    "\n",
    "    \n",
    "y_train_time_pred4 = t_clf4.predict(X_train_time_augmented)\n",
    "\n",
    "all_y_train_time_pred4, all_y_train_time_true, all_Xy_train_time = ev.get_all_relevant_preds_and_trues(\n",
    "    X_train_time_augmented,\n",
    "    y_train_time_pred4,\n",
    "    X_train_house,\n",
    "    ev_train_piv_lab_tmp_filled)\n",
    "\n",
    "print(\"F1-Score: {}\".format(f1_score(all_y_train_time_true, all_y_train_time_pred4)))\n",
    "\n",
    "print(\"Confusion Matrix: \")\n",
    "confusion_matrix(all_y_train_time_true, all_y_train_time_pred4)\n",
    "\n",
    "\n",
    "# took too long to train, aborted after 48 hours!"
   ]
  },
  {
   "cell_type": "code",
   "execution_count": null,
   "metadata": {},
   "outputs": [],
   "source": [
    "# Naive Bayes\n",
    "if os.path.isfile('pickle_files/t_clf5_list.pkl'):\n",
    "    with open('pickle_files/t_clf5_list.pkl', 'rb') as input:\n",
    "        t_clf5_list = pickle.load(input)\n",
    "        t_clf5 = t_clf5_list[0]\n",
    "        t_clf5_time = t_clf5_list[1]\n",
    "        print(\"Training Time (sec) : {}\".format(t_clf5_time))\n",
    "    \n",
    "else:\n",
    "    t_clf5 = GaussianNB()\n",
    "    \n",
    "    t_clf5_start = time.time()\n",
    "    t_clf5.fit(X_train_time_augmented, y_train_time)\n",
    "    t_clf5_end = time.time()\n",
    "    t_clf5_time = t_clf5_end - t_clf5_start\n",
    "    print(\"Training Time (sec) : {}\".format(t_clf5_time))\n",
    "    \n",
    "    t_clf5_list = [t_clf5, t_clf5_time]\n",
    "    save_object(t_clf5_list, 'pickle_files/t_clf5_list.pkl') \n",
    "\n",
    "    \n",
    "y_train_time_pred5 = t_clf5.predict(X_train_time_augmented)\n",
    "\n",
    "all_y_train_time_pred5, all_y_train_time_true, all_Xy_train_time = ev.get_all_relevant_preds_and_trues(\n",
    "    X_train_time_augmented,\n",
    "    y_train_time_pred5,\n",
    "    X_train_house,\n",
    "    ev_train_piv_lab_tmp_filled)\n",
    "\n",
    "print(\"F1-Score: {}\".format(f1_score(all_y_train_time_true, all_y_train_time_pred5)))\n",
    "\n",
    "print(\"Confusion Matrix: \")\n",
    "confusion_matrix(all_y_train_time_true, all_y_train_time_pred5)"
   ]
  },
  {
   "cell_type": "code",
   "execution_count": null,
   "metadata": {},
   "outputs": [],
   "source": [
    "# Multi-layer Perceptron (Neural Networks)\n",
    "if os.path.isfile('pickle_files/t_clf6_list.pkl'):\n",
    "    with open('pickle_files/t_clf6_list.pkl', 'rb') as input:\n",
    "        t_clf6_list = pickle.load(input)\n",
    "        t_clf6 = t_clf6_list[0]\n",
    "        t_clf6_time = t_clf6_list[1]\n",
    "        print(\"Training Time (sec) : {}\".format(t_clf6_time))\n",
    "    \n",
    "else:\n",
    "    t_clf6 = MLPClassifier(random_state = 42)\n",
    "    \n",
    "    t_clf6_start = time.time()\n",
    "    t_clf6.fit(X_train_time_augmented, y_train_time)\n",
    "    t_clf6_end = time.time()\n",
    "    t_clf6_time = t_clf6_end - t_clf6_start\n",
    "    print(\"Training Time (sec) : {}\".format(t_clf6_time))\n",
    "    \n",
    "    t_clf6_list = [t_clf6, t_clf6_time]\n",
    "    save_object(t_clf6_list, 'pickle_files/t_clf6_list.pkl') \n",
    "\n",
    "    \n",
    "y_train_time_pred6 = t_clf6.predict(X_train_time_augmented)\n",
    "\n",
    "all_y_train_time_pred6, all_y_train_time_true, all_Xy_train_time = ev.get_all_relevant_preds_and_trues(\n",
    "    X_train_time_augmented,\n",
    "    y_train_time_pred6,\n",
    "    X_train_house,\n",
    "    ev_train_piv_lab_tmp_filled)\n",
    "\n",
    "print(\"F1-Score: {}\".format(f1_score(all_y_train_time_true, all_y_train_time_pred6)))\n",
    "\n",
    "print(\"Confusion Matrix: \")\n",
    "confusion_matrix(all_y_train_time_true, all_y_train_time_pred6)"
   ]
  },
  {
   "cell_type": "markdown",
   "metadata": {},
   "source": [
    "### F1 Benchmark"
   ]
  },
  {
   "cell_type": "code",
   "execution_count": null,
   "metadata": {},
   "outputs": [],
   "source": [
    "ev.show_baseline_f1_scores(all_y_train_time_true)"
   ]
  },
  {
   "cell_type": "markdown",
   "metadata": {},
   "source": [
    "## Validate Model"
   ]
  },
  {
   "cell_type": "markdown",
   "metadata": {},
   "source": [
    "### Modeling Attempts"
   ]
  },
  {
   "cell_type": "code",
   "execution_count": null,
   "metadata": {},
   "outputs": [],
   "source": [
    "# GBDT\n",
    "\n",
    "y_valid_time_pred1 = t_clf1.predict(X_valid_time_augmented)\n",
    "\n",
    "all_y_valid_time_pred1, all_y_valid_time_true, all_Xy_valid_time = ev.get_all_relevant_preds_and_trues(\n",
    "    X_valid_time_augmented,\n",
    "    y_valid_time_pred1,\n",
    "    X_valid_house,\n",
    "    ev_train_piv_lab_tmp_filled)\n",
    "\n",
    "print(\"F1-Score: {}\".format(f1_score(all_y_valid_time_true, all_y_valid_time_pred1)))\n",
    "\n",
    "print(\"Confusion Matrix: \")\n",
    "confusion_matrix(all_y_valid_time_true, all_y_valid_time_pred1)"
   ]
  },
  {
   "cell_type": "code",
   "execution_count": null,
   "metadata": {},
   "outputs": [],
   "source": [
    "# Logistic Regression\n",
    "\n",
    "y_valid_time_pred2 = t_clf2.predict(X_valid_time_augmented)\n",
    "\n",
    "all_y_valid_time_pred2, all_y_valid_time_true, all_Xy_valid_time = ev.get_all_relevant_preds_and_trues(\n",
    "    X_valid_time_augmented,\n",
    "    y_valid_time_pred2,\n",
    "    X_valid_house,\n",
    "    ev_train_piv_lab_tmp_filled)\n",
    "\n",
    "print(\"F1-Score: {}\".format(f1_score(all_y_valid_time_true, all_y_valid_time_pred2)))\n",
    "\n",
    "print(\"Confusion Matrix: \")\n",
    "confusion_matrix(all_y_valid_time_true, all_y_valid_time_pred2)"
   ]
  },
  {
   "cell_type": "code",
   "execution_count": null,
   "metadata": {},
   "outputs": [],
   "source": [
    "# Stochastic Gradient Descent\n",
    "\n",
    "y_valid_time_pred3 = t_clf3.predict(X_valid_time_augmented)\n",
    "\n",
    "all_y_valid_time_pred3, all_y_valid_time_true, all_Xy_valid_time = ev.get_all_relevant_preds_and_trues(\n",
    "    X_valid_time_augmented,\n",
    "    y_valid_time_pred3,\n",
    "    X_valid_house,\n",
    "    ev_train_piv_lab_tmp_filled)\n",
    "\n",
    "print(\"F1-Score: {}\".format(f1_score(all_y_valid_time_true, all_y_valid_time_pred3)))\n",
    "\n",
    "print(\"Confusion Matrix: \")\n",
    "confusion_matrix(all_y_valid_time_true, all_y_valid_time_pred3)"
   ]
  },
  {
   "cell_type": "raw",
   "metadata": {
    "collapsed": true
   },
   "source": [
    "# Support Vector Classification\n",
    "\n",
    "y_valid_time_pred4 = t_clf4.predict(X_valid_time_augmented)\n",
    "\n",
    "all_y_valid_time_pred4, all_y_valid_time_true, all_Xy_valid_time = ev.get_all_relevant_preds_and_trues(\n",
    "    X_valid_time_augmented,\n",
    "    y_valid_time_pred4,\n",
    "    X_valid_house,\n",
    "    ev_train_piv_lab_tmp_filled)\n",
    "\n",
    "print(\"F1-Score: {}\".format(f1_score(all_y_valid_time_true, all_y_valid_time_pred4)))\n",
    "\n",
    "print(\"Confusion Matrix: \")\n",
    "confusion_matrix(all_y_valid_time_true, all_y_valid_time_pred4)"
   ]
  },
  {
   "cell_type": "code",
   "execution_count": null,
   "metadata": {},
   "outputs": [],
   "source": [
    "# Naive Bayes\n",
    "\n",
    "y_valid_time_pred5 = t_clf5.predict(X_valid_time_augmented)\n",
    "\n",
    "all_y_valid_time_pred5, all_y_valid_time_true, all_Xy_valid_time = ev.get_all_relevant_preds_and_trues(\n",
    "    X_valid_time_augmented,\n",
    "    y_valid_time_pred5,\n",
    "    X_valid_house,\n",
    "    ev_train_piv_lab_tmp_filled)\n",
    "\n",
    "print(\"F1-Score: {}\".format(f1_score(all_y_valid_time_true, all_y_valid_time_pred5)))\n",
    "\n",
    "print(\"Confusion Matrix: \")\n",
    "confusion_matrix(all_y_valid_time_true, all_y_valid_time_pred5)"
   ]
  },
  {
   "cell_type": "code",
   "execution_count": null,
   "metadata": {},
   "outputs": [],
   "source": [
    "# Multi-layer Perceptron (Neural Networks)\n",
    "\n",
    "y_valid_time_pred6 = t_clf6.predict(X_valid_time_augmented)\n",
    "\n",
    "all_y_valid_time_pred6, all_y_valid_time_true, all_Xy_valid_time = ev.get_all_relevant_preds_and_trues(\n",
    "    X_valid_time_augmented,\n",
    "    y_valid_time_pred6,\n",
    "    X_valid_house,\n",
    "    ev_train_piv_lab_tmp_filled)\n",
    "\n",
    "print(\"F1-Score: {}\".format(f1_score(all_y_valid_time_true, all_y_valid_time_pred6)))\n",
    "\n",
    "print(\"Confusion Matrix: \")\n",
    "confusion_matrix(all_y_valid_time_true, all_y_valid_time_pred6)"
   ]
  },
  {
   "cell_type": "markdown",
   "metadata": {},
   "source": [
    "### F1 Benchmark"
   ]
  },
  {
   "cell_type": "code",
   "execution_count": null,
   "metadata": {},
   "outputs": [],
   "source": [
    "ev.show_baseline_f1_scores(all_y_valid_time_true)"
   ]
  },
  {
   "cell_type": "markdown",
   "metadata": {},
   "source": [
    "## Validation Results in Original Format"
   ]
  },
  {
   "cell_type": "code",
   "execution_count": null,
   "metadata": {},
   "outputs": [],
   "source": [
    "# use best classifier: GDBT\n",
    "\n",
    "ev_train_label_predictions = ev.format_ev_predictions(\n",
    "    all_y_valid_time_pred1, \n",
    "    all_Xy_valid_time\n",
    ")\n",
    "\n",
    "display(ev_train_label_predictions.head())"
   ]
  },
  {
   "cell_type": "markdown",
   "metadata": {},
   "source": [
    "# Model Refinement"
   ]
  },
  {
   "cell_type": "markdown",
   "metadata": {},
   "source": [
    "## House Grid Search"
   ]
  },
  {
   "cell_type": "code",
   "execution_count": null,
   "metadata": {},
   "outputs": [],
   "source": [
    "X_train_house.shape"
   ]
  },
  {
   "cell_type": "code",
   "execution_count": null,
   "metadata": {},
   "outputs": [],
   "source": [
    "# 0.75303643724696356 prior f1 score\n",
    "print(h_clf1)\n",
    "\n",
    "h_clf = GradientBoostingClassifier(random_state = 42)\n",
    "\n",
    "scorer = make_scorer(f1_score)\n",
    "h_cv = ShuffleSplit(n_splits=10, test_size=0.20, random_state=42)\n",
    "h_parameters = {'loss': ['deviance','exponential'],\n",
    "              'learning_rate': [0.09, 0.1, 0.11],\n",
    "              'n_estimators': [90, 100, 110],\n",
    "              'max_depth': [2, 3, 4],\n",
    "              'min_samples_leaf': [1, 2, 3],\n",
    "             }      \n",
    "\n",
    "h_grid_obj = GridSearchCV(estimator=h_clf, param_grid=h_parameters, scoring=scorer, cv=h_cv)\n",
    "\n",
    "if os.path.isfile('pickle_files/h_grid_fit.pkl'):\n",
    "    h_grid_fit = joblib.load('pickle_files/h_grid_fit.pkl')\n",
    "else:\n",
    "    h_grid_fit = h_grid_obj.fit(X_train_house, y_train_house)\n",
    "    joblib.dump(h_grid_fit, 'pickle_files/h_grid_fit.pkl') \n",
    "\n",
    "best_h_clf = h_grid_fit.best_estimator_\n",
    "print(best_h_clf)\n",
    "\n",
    "y_valid_house_pred_best = best_h_clf.predict(X_valid_house)\n",
    "f1_score(y_valid_house, y_valid_house_pred_best)"
   ]
  },
  {
   "cell_type": "code",
   "execution_count": null,
   "metadata": {
    "collapsed": true
   },
   "outputs": [],
   "source": [
    "h_importance_df = pd.DataFrame(best_h_clf.feature_importances_,\n",
    "                              index=X_train_house.columns,\n",
    "                              columns=['Importance'])"
   ]
  },
  {
   "cell_type": "code",
   "execution_count": null,
   "metadata": {},
   "outputs": [],
   "source": [
    "h_importance_df.sort_values('Importance', ascending=False).head(30).plot.bar(figsize=(20,10)) \n",
    "plt.xlabel('House ID', **axis_font)\n",
    "plt.ylabel('Label', **axis_font)\n",
    "plt.title(\"Sorted Feature Importance for House Classification\", **title_font)\n",
    "plt.tick_params(axis='both', which='major', labelsize=14)\n",
    "plt.tick_params(axis='both', which='minor', labelsize=13)\n",
    "plt.show()"
   ]
  },
  {
   "cell_type": "markdown",
   "metadata": {},
   "source": [
    "## Time Grid Search"
   ]
  },
  {
   "cell_type": "code",
   "execution_count": null,
   "metadata": {},
   "outputs": [],
   "source": [
    "print(X_train_time_augmented.shape)"
   ]
  },
  {
   "cell_type": "code",
   "execution_count": null,
   "metadata": {},
   "outputs": [],
   "source": [
    "# 0.56518692056626818 prior f1 score\n",
    "print(t_clf1)\n",
    "\n",
    "t_clf = GradientBoostingClassifier(random_state = 42)\n",
    "\n",
    "t_cv = ShuffleSplit(n_splits=10, test_size=0.20, random_state=42)\n",
    "t_parameters = {'learning_rate': [0.09,0.10,0.11],\n",
    "              'max_depth': [2,3,4],\n",
    "             }      \n",
    "\n",
    "t_grid_obj = GridSearchCV(estimator=t_clf, param_grid=t_parameters, scoring=scorer, cv=t_cv)\n",
    "\n",
    "if os.path.isfile('pickle_files/t_grid_fit.pkl'):\n",
    "    t_grid_fit = joblib.load('pickle_files/t_grid_fit.pkl')\n",
    "else:\n",
    "    t_grid_fit = t_grid_obj.fit(X_train_time_augmented, y_train_time)\n",
    "    joblib.dump(t_grid_fit, 'pickle_files/t_grid_fit.pkl') \n",
    "\n",
    "best_t_clf = t_grid_fit.best_estimator_\n",
    "print(best_t_clf)\n",
    "\n",
    "X_valid_time_best, y_valid_time_best = ev.transform_house_subset_to_time(\n",
    "    X_valid_house,\n",
    "    y_valid_house_pred_best, # use predicted values, not true values\n",
    "    ev_train_piv_lab_tmp_filled\n",
    ")\n",
    "\n",
    "X_valid_time_best_augmented = ev.augment_time_data(\n",
    "    X_valid_time_best, \n",
    "    X_valid_house, \n",
    "    centers_df)\n",
    "\n",
    "y_valid_time_pred_best = best_t_clf.predict(X_valid_time_best_augmented)\n",
    "\n",
    "all_y_valid_time_pred_best, all_y_valid_time_true, all_Xy_valid_time = ev.get_all_relevant_preds_and_trues(\n",
    "    X_valid_time_best_augmented,\n",
    "    y_valid_time_pred_best,\n",
    "    X_valid_house,\n",
    "    ev_train_piv_lab_tmp_filled)\n",
    "\n",
    "f1_score(all_y_valid_time_true, all_y_valid_time_pred_best)"
   ]
  },
  {
   "cell_type": "code",
   "execution_count": null,
   "metadata": {
    "collapsed": true
   },
   "outputs": [],
   "source": [
    "t_importance_df = pd.DataFrame(best_t_clf.feature_importances_,\n",
    "                              index=X_train_time_augmented.columns,\n",
    "                              columns=['Importance'])"
   ]
  },
  {
   "cell_type": "code",
   "execution_count": null,
   "metadata": {},
   "outputs": [],
   "source": [
    "t_importance_df.sort_values('Importance', ascending=False).plot.bar(figsize=(20,10))\n",
    "plt.xlabel('House ID', **axis_font)\n",
    "plt.ylabel('Label', **axis_font)\n",
    "plt.title(\"Sorted Feature Importance for Time Classification\", **title_font)\n",
    "plt.tick_params(axis='both', which='major', labelsize=14)\n",
    "plt.tick_params(axis='both', which='minor', labelsize=13)\n",
    "plt.show()"
   ]
  },
  {
   "cell_type": "markdown",
   "metadata": {},
   "source": [
    "# Predict Test Data"
   ]
  },
  {
   "cell_type": "markdown",
   "metadata": {},
   "source": [
    "## Import"
   ]
  },
  {
   "cell_type": "code",
   "execution_count": null,
   "metadata": {
    "collapsed": true
   },
   "outputs": [],
   "source": [
    "ev_test_raw = pd.read_csv('source_files/EV_test.csv')"
   ]
  },
  {
   "cell_type": "code",
   "execution_count": null,
   "metadata": {},
   "outputs": [],
   "source": [
    "print(ev_test_raw.shape)\n",
    "display(ev_test_raw.head())"
   ]
  },
  {
   "cell_type": "markdown",
   "metadata": {},
   "source": [
    "## Data Preprocessing"
   ]
  },
  {
   "cell_type": "code",
   "execution_count": null,
   "metadata": {},
   "outputs": [],
   "source": [
    "print(ev_test_raw.isnull().values.any())\n",
    "display(ev_test_raw[ev_test_raw.isnull().any(axis=1)])"
   ]
  },
  {
   "cell_type": "code",
   "execution_count": null,
   "metadata": {},
   "outputs": [],
   "source": [
    "ev_test_kwh_pivot = ev.pivot_raw_df(ev_test_raw, 'kWh')\n",
    "display(ev_test_kwh_pivot.head())"
   ]
  },
  {
   "cell_type": "code",
   "execution_count": null,
   "metadata": {},
   "outputs": [],
   "source": [
    "ev_test_kwh_tmp = ev.add_temp_dim(ev_test_kwh_pivot)\n",
    "display(ev_test_kwh_tmp.head())"
   ]
  },
  {
   "cell_type": "code",
   "execution_count": null,
   "metadata": {},
   "outputs": [],
   "source": [
    "ev_test_kwh_tmp_filled = ev.fill_with_mean(ev_test_kwh_tmp)\n",
    "display(ev_test_kwh_tmp_filled.head())"
   ]
  },
  {
   "cell_type": "markdown",
   "metadata": {},
   "source": [
    "## House Clasification"
   ]
  },
  {
   "cell_type": "code",
   "execution_count": null,
   "metadata": {},
   "outputs": [],
   "source": [
    "X_test_house = ev.house_agg_and_split(ev_test_kwh_tmp_filled, has_label=False)\n",
    "display(X_test_house.head())"
   ]
  },
  {
   "cell_type": "code",
   "execution_count": null,
   "metadata": {},
   "outputs": [],
   "source": [
    "X_test_house[k_col_name] = neigh.predict(X_test_house[KNN_cols]) # use trained KNN classifier\n",
    "display(X_test_house.head())"
   ]
  },
  {
   "cell_type": "code",
   "execution_count": null,
   "metadata": {
    "collapsed": true
   },
   "outputs": [],
   "source": [
    "y_test_house_pred = best_h_clf.predict(X_test_house) # use best trained house classifier via Grid Search"
   ]
  },
  {
   "cell_type": "markdown",
   "metadata": {},
   "source": [
    "## Time Classification"
   ]
  },
  {
   "cell_type": "code",
   "execution_count": null,
   "metadata": {},
   "outputs": [],
   "source": [
    "X_test_time = ev.transform_house_subset_to_time(\n",
    "    X_test_house,\n",
    "    y_test_house_pred,\n",
    "    ev_test_kwh_tmp_filled,\n",
    "    has_label=False\n",
    ")\n",
    "display(X_test_time.head())"
   ]
  },
  {
   "cell_type": "code",
   "execution_count": null,
   "metadata": {},
   "outputs": [],
   "source": [
    "X_test_time_augmented = ev.augment_time_data(\n",
    "    X_test_time, \n",
    "    X_test_house, \n",
    "    centers_df) \n",
    "display(X_test_time_augmented.head())"
   ]
  },
  {
   "cell_type": "code",
   "execution_count": null,
   "metadata": {},
   "outputs": [],
   "source": [
    "X_test_time_augmented.columns.values"
   ]
  },
  {
   "cell_type": "code",
   "execution_count": null,
   "metadata": {
    "collapsed": true
   },
   "outputs": [],
   "source": [
    "y_test_time_pred = best_t_clf.predict(X_test_time_augmented) # use best trained time classifier via Grid Search"
   ]
  },
  {
   "cell_type": "markdown",
   "metadata": {},
   "source": [
    "## Format Final Result"
   ]
  },
  {
   "cell_type": "code",
   "execution_count": null,
   "metadata": {},
   "outputs": [],
   "source": [
    "all_y_test_time_pred, all_y_test_time_true, all_Xy_test_time = ev.get_all_relevant_preds_and_trues(\n",
    "    X_test_time_augmented,\n",
    "    y_test_time_pred,\n",
    "    X_test_house,\n",
    "    ev_test_kwh_tmp_filled)\n",
    "display(all_Xy_test_time.head()) "
   ]
  },
  {
   "cell_type": "code",
   "execution_count": null,
   "metadata": {},
   "outputs": [],
   "source": [
    "ev_test_label_predictions = ev.format_ev_predictions(\n",
    "    all_y_test_time_pred, \n",
    "    all_Xy_test_time\n",
    ")\n",
    "display(ev_test_label_predictions.head())"
   ]
  },
  {
   "cell_type": "code",
   "execution_count": null,
   "metadata": {
    "collapsed": true
   },
   "outputs": [],
   "source": [
    "ev_test_label_predictions.to_csv('submissions/EV_test_labels.csv', index=False)"
   ]
  }
 ],
 "metadata": {
  "kernelspec": {
   "display_name": "EV Capstone Project",
   "language": "python",
   "name": "ev-capstone"
  },
  "language_info": {
   "codemirror_mode": {
    "name": "ipython",
    "version": 3
   },
   "file_extension": ".py",
   "mimetype": "text/x-python",
   "name": "python",
   "nbconvert_exporter": "python",
   "pygments_lexer": "ipython3",
   "version": "3.6.2"
  }
 },
 "nbformat": 4,
 "nbformat_minor": 2
}
